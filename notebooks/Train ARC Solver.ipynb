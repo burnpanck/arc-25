{
 "cells": [
  {
   "cell_type": "code",
   "execution_count": 2,
   "id": "6ee69f0d-7d82-4e20-af16-ec5052013a15",
   "metadata": {},
   "outputs": [],
   "source": [
    "import typing\n",
    "import lzma\n",
    "import os\n",
    "import dataclasses\n",
    "import itertools\n",
    "import functools\n",
    "from importlib import reload\n",
    "from pathlib import Path\n",
    "from types import MappingProxyType, SimpleNamespace\n",
    "\n",
    "import cbor2\n",
    "import attrs\n",
    "import tqdm.auto\n",
    "import jax\n",
    "import jax.numpy as jnp\n",
    "from flax import nnx\n",
    "import optax\n",
    "import jaxtyping as jt\n",
    "import numpy as np\n",
    "import pandas as pd\n",
    "import matplotlib.pyplot as plt\n",
    "\n",
    "from arc25 import symmetry, tools as arc25_tools\n",
    "from arc25.symmetry import D4, transform_vector\n",
    "from arc25 import serialisation\n",
    "from arc25.dsl.types import Vector, Dir4\n",
    "from arc25.vision2.symrep import SymDecompBase, SplitSymDecomp, SymDecompDims, standard_rep, RepSpec\n",
    "from arc25.vision2.fields import FieldDims, CoordinateGrid\n",
    "from arc25.vision2.linear import SpaceSymmetricLinear, SpaceSymmetricTensor, SymmetryMappingSpec, SymDecompLinear\n",
    "from arc25.vision2 import fields, attention, encoder, transformer, mae, swiglu, arc_solver\n",
    "from arc25.training import saving, dataset, mae as mae_trainer, knn_eval, linear_probe, arc_solver as solver_trainer, row_weighted_adam"
   ]
  },
  {
   "cell_type": "code",
   "execution_count": 3,
   "id": "bfb29360-f3d7-4c0c-ba88-5665a46f757c",
   "metadata": {},
   "outputs": [],
   "source": [
    "os.environ[\"XLA_FLAGS\"]=\"--xla_force_host_platform_device_count=2\"\n",
    "os.environ[\"EPATH_USE_TF\"] = \"false\""
   ]
  },
  {
   "cell_type": "code",
   "execution_count": 4,
   "id": "37284a09-443f-485a-a794-b50d8b83fcef",
   "metadata": {},
   "outputs": [],
   "source": [
    "proj_root = Path(\"..\").resolve()\n",
    "data_root = proj_root / \"data\"\n",
    "model_dir = data_root / \"models\""
   ]
  },
  {
   "cell_type": "code",
   "execution_count": 5,
   "id": "4bbf64f7-671a-40cd-a2e4-a0db869710ca",
   "metadata": {},
   "outputs": [
    {
     "name": "stdout",
     "output_type": "stream",
     "text": [
      "518152\n"
     ]
    }
   ],
   "source": [
    "src_dataset = dataset.ImagesDataset.load_compressed_cbor(\n",
    "    data_root/\"repack/re-arc.cbor.xz\",\n",
    "    filter=lambda iop,ex:  iop.input.shape == iop.output.shape,\n",
    ")\n",
    "challenge_order = tuple(sorted(src_dataset.challenges))\n",
    "print(len(src_dataset.examples))"
   ]
  },
  {
   "cell_type": "code",
   "execution_count": 6,
   "id": "8c4ef52b-7baf-4de0-8898-1cc3dcb7fd99",
   "metadata": {},
   "outputs": [
    {
     "name": "stdout",
     "output_type": "stream",
     "text": [
      "WARNING: Ignoring 3 unpaired output images\n",
      "training_ds: {(30, 30): 35519, (21, 30): 69584, (21, 21): 39576, (12, 12): 21717, (12, 21): 48056, (12, 30): 43704}\n"
     ]
    }
   ],
   "source": [
    "reload(dataset)\n",
    "\n",
    "small_eval = True\n",
    "\n",
    "eval_split, train_split = src_dataset.split_by_challenge(\n",
    "    np.random.default_rng(seed=42),\n",
    "    n_min=6 if small_eval else 100,\n",
    ")\n",
    "\n",
    "input_ds, output_ds = train_split.split_input_output()\n",
    "\n",
    "size_cuts = [12, 21, 30]\n",
    "#size_cuts = [8,12,16,24,30]\n",
    "#size_cuts = [30]\n",
    "\n",
    "training_ds, = [dataset.BucketedDataset.make(\n",
    "    s,\n",
    "    set(itertools.product(size_cuts, size_cuts)) if s is not {} else [(30,30)],\n",
    "    challenges=challenge_order,\n",
    ") for s in [output_ds]]\n",
    "\n",
    "for k,v in dict(\n",
    "    training_ds=training_ds,\n",
    ").items():\n",
    "    print(f\"{k}: { {kk:vv.n_examples for kk,vv in v.buckets.items()} }\")\n"
   ]
  },
  {
   "cell_type": "code",
   "execution_count": 7,
   "id": "7e4876b2-2015-43f1-b6f4-7d58e96204b8",
   "metadata": {},
   "outputs": [],
   "source": [
    "reload(solver_trainer)\n",
    "\n",
    "config = solver_trainer.ArcSolverConfig(\n",
    "    seed = 42,\n",
    "    \n",
    "    batch_size = 16,\n",
    "    ref_batch = 16,\n",
    "    minibatch_size = 16,\n",
    "    base_cell_cost = 10, \n",
    "        \n",
    "    learning_rate = 1e-5,\n",
    "    max_num_epochs = 1,\n",
    "    max_num_ref_batches = 128,\n",
    "\n",
    "    warmup_steps = 64,\n",
    "    checkpoint_every_steps = 16,\n",
    "    \n",
    "    mode=\"flat\",\n",
    "    remat=True,\n",
    "    unroll=None,\n",
    "\n",
    "    eval_every_ref_batch = 0.5,\n",
    "\n",
    "    loss_focus = float(np.log(10)),\n",
    "    loss_focus_eps = 0.01,\n",
    "    loss_focus_limit = float(np.log(10)),\n",
    "    loss_focus_beta = 0.95,\n",
    "\n",
    "    num_solution_attempts = 7,\n",
    ")\n",
    "\n"
   ]
  },
  {
   "cell_type": "code",
   "execution_count": 8,
   "id": "53b2f01d-f728-47f2-983f-0a323564e5e7",
   "metadata": {},
   "outputs": [],
   "source": [
    "num_devices = jax.local_device_count()\n",
    "\n",
    "minibatch_size_fn = dataset.MinibatchSizeFunction(\n",
    "    reference_minibatch_size=config.minibatch_size,\n",
    "    reference_image_size=config.reference_image_size,\n",
    "    base_cost=config.base_cell_cost,\n",
    "    granularity=num_devices,  # Ensure divisibility for pmap\n",
    ")\n",
    "\n",
    "batch_spec = dataset.BatchSpec(\n",
    "    target_batch_weight=config.batch_size,\n",
    "    reference_image_size=config.reference_image_size,\n",
    "    # each image gets equal weight\n",
    "    area_weight_exponent=None,\n",
    ")\n",
    "\n",
    "collator = dataset.BucketedCollator.make(\n",
    "    dataset=training_ds,\n",
    "    batch_spec=batch_spec,\n",
    "    minibatch_size=minibatch_size_fn,\n",
    "    seed=42, \n",
    ")"
   ]
  },
  {
   "cell_type": "code",
   "execution_count": 9,
   "id": "52574434-e275-4a6b-b746-a11bae47fc52",
   "metadata": {},
   "outputs": [],
   "source": [
    "input_src = dataset.OnDemandBucketDataset(\n",
    "    input_ds,\n",
    "    bucket_shapes = tuple(sorted(training_ds.buckets.keys(),key=lambda sh:(sh[0]*sh[1],abs(sh[0]-sh[1])))),\n",
    "    challenges = challenge_order,\n",
    "    weight_fun = lambda area: None,\n",
    ")"
   ]
  },
  {
   "cell_type": "code",
   "execution_count": 15,
   "id": "0f1e664c-8d6e-45ae-8467-87c2842b0e80",
   "metadata": {},
   "outputs": [],
   "source": [
    "reload(arc_solver)\n",
    "\n",
    "model_config = {\n",
    "    k:v\n",
    "    for k,v in mae.configs[\"tiny\"].items()\n",
    "    if k not in {\"decoder_cell_infusion\"}\n",
    "}\n",
    "model_config.update(\n",
    "    num_program_tokens = 4,\n",
    "    num_latent_programs = len(challenge_order)*config.num_solution_attempts,\n",
    ")\n",
    "\n",
    "solver = arc_solver.ARCSolver(\n",
    "    **model_config,\n",
    "    dtype=jnp.float32,\n",
    "    rngs=nnx.Rngs(42),\n",
    ")\n",
    "width = solver.hidden_size"
   ]
  },
  {
   "cell_type": "code",
   "execution_count": 16,
   "id": "2a18a3a8-afaf-4cda-b339-86cd5bbc6923",
   "metadata": {},
   "outputs": [
    {
     "name": "stdout",
     "output_type": "stream",
     "text": [
      "Loading encoder from checkpoint: /Users/yves/git-private/arc-2025/data/models/20251023-1137-vertex-ai-mae-tiny-4xL4-chkp-006912.msgpack.xz\n",
      "Encoder loaded successfully\n"
     ]
    }
   ],
   "source": [
    "chkp_path = model_dir / \"20251023-1137-vertex-ai-mae-tiny-4xL4-chkp-006912.msgpack.xz\"\n",
    "print(f\"Loading encoder from checkpoint: {chkp_path}\")\n",
    "encoder_checkpoint = saving.load_model(chkp_path)\n",
    "nnx.update(solver.encoder, encoder_checkpoint.state.model.encoder)\n",
    "print(\"Encoder loaded successfully\")"
   ]
  },
  {
   "cell_type": "code",
   "execution_count": 17,
   "id": "262c9f26-c8e9-4377-ba5e-34187b101d26",
   "metadata": {},
   "outputs": [
    {
     "data": {
      "text/plain": [
       "<module 'arc25.training.arc_solver' from '/Users/yves/git-private/arc-2025/src/arc25/training/arc_solver.py'>"
      ]
     },
     "execution_count": 17,
     "metadata": {},
     "output_type": "execute_result"
    }
   ],
   "source": [
    "#reload(row_weighted_adam)\n",
    "reload(solver_trainer)"
   ]
  },
  {
   "cell_type": "code",
   "execution_count": 18,
   "id": "d1cca168-a2b6-4b12-a3a1-d85825147786",
   "metadata": {},
   "outputs": [],
   "source": [
    "trainer = solver_trainer.ArcSolverTrainer.make(\n",
    "    config=config,\n",
    "    model=solver,\n",
    "    collator=collator,\n",
    "    inputs_src=input_src,\n",
    "    eval_dataset = eval_split,\n",
    "    num_devices = num_devices,\n",
    "    rngs = nnx.Rngs(42),\n",
    "    with_progress_bars = True,\n",
    ")\n"
   ]
  },
  {
   "cell_type": "code",
   "execution_count": 19,
   "id": "a43fa53a-8971-4524-bc44-90c3765b92a0",
   "metadata": {
    "scrolled": true
   },
   "outputs": [
    {
     "name": "stdout",
     "output_type": "stream",
     "text": [
      "--- ArcSolverTrainer ---\n",
      "Run: 20251029-2116-ArcSolverTrainer\n",
      "Devices: 2 × cpu\n",
      "Training batch data weight: 16 (1 optimizer step)\n",
      "Reference step data weight: 16 (~1.00 optimizer steps)\n",
      "Total steps: 128\n",
      "Evaluation: every 0.5 reference steps\n",
      "----------------------------\n",
      "\n",
      "Starting training...\n"
     ]
    },
    {
     "data": {
      "application/vnd.jupyter.widget-view+json": {
       "model_id": "96ba604815a849bcb94cc634a1bbbfef",
       "version_major": 2,
       "version_minor": 0
      },
      "text/plain": [
       "Training:   0%|          | 0/128 [00:00<?, ?it/s]"
      ]
     },
     "metadata": {},
     "output_type": "display_data"
    },
    {
     "name": "stdout",
     "output_type": "stream",
     "text": [
      "Tracing _compute_grads for shape dict(cell_weight=(2,30,30), input_sizes=(2,2), inputs=(2,30,30), latent_program_idx=(2), output_masks=(2,30,30), outputs=(2,30,30)) (kw=dict(mode='flat', remat=True, unroll=None))\n",
      "Tracing _compute_grads for shape dict(cell_weight=(2,30,30), input_sizes=(2,2), inputs=(2,30,30), latent_program_idx=(2), output_masks=(2,30,30), outputs=(2,30,30)) (kw=dict(mode='flat', remat=True, unroll=None))\n",
      "Tracing _compute_grads for shape dict(cell_weight=(5,12,30), input_sizes=(5,2), inputs=(5,12,30), latent_program_idx=(5), output_masks=(5,12,30), outputs=(5,12,30)) (kw=dict(mode='flat', remat=True, unroll=None))\n",
      "Tracing _apply_update\n",
      "Tracing _compute_grads for shape dict(cell_weight=(2,21,30), input_sizes=(2,2), inputs=(2,21,30), latent_program_idx=(2), output_masks=(2,21,30), outputs=(2,21,30)) (kw=dict(mode='flat', remat=True, unroll=None))\n",
      "Tracing _apply_update\n",
      "\n",
      "[Step 1] Preparing input embeddings for evaluation...\n",
      "WARNING: Ignoring 3 unpaired input images\n"
     ]
    },
    {
     "data": {
      "application/vnd.jupyter.widget-view+json": {
       "model_id": "541c47a32ced451a8b6df47428003700",
       "version_major": 2,
       "version_minor": 0
      },
      "text/plain": [
       "  0%|          | 0/6 [00:00<?, ?it/s]"
      ]
     },
     "metadata": {},
     "output_type": "display_data"
    },
    {
     "name": "stdout",
     "output_type": "stream",
     "text": [
      "Tracing embed_inputs for shape dict(input_sizes=(2,32,2), inputs=(2,32,12,12)) (kw=dict(mode='flat', remat=True, unroll=None, deterministic=True))\n",
      "Tracing embed_inputs for shape dict(input_sizes=(2,79,2), inputs=(2,79,12,21)) (kw=dict(mode='flat', remat=True, unroll=None, deterministic=True))\n",
      "Tracing embed_inputs for shape dict(input_sizes=(2,66,2), inputs=(2,66,12,30)) (kw=dict(mode='flat', remat=True, unroll=None, deterministic=True))\n",
      "Tracing embed_inputs for shape dict(input_sizes=(2,60,2), inputs=(2,60,21,21)) (kw=dict(mode='flat', remat=True, unroll=None, deterministic=True))\n",
      "Tracing embed_inputs for shape dict(input_sizes=(2,103,2), inputs=(2,103,21,30)) (kw=dict(mode='flat', remat=True, unroll=None, deterministic=True))\n",
      "Tracing embed_inputs for shape dict(input_sizes=(2,53,2), inputs=(2,53,30,30)) (kw=dict(mode='flat', remat=True, unroll=None, deterministic=True))\n",
      "Embedding inputs for evaluation completed in 86.6s\n",
      "\n",
      "[Step 1] Running evaluation...\n"
     ]
    },
    {
     "data": {
      "application/vnd.jupyter.widget-view+json": {
       "model_id": "6019de96ce7f42aab46e33bdd123b821",
       "version_major": 2,
       "version_minor": 0
      },
      "text/plain": [
       "  0%|          | 0/6 [00:00<?, ?it/s]"
      ]
     },
     "metadata": {},
     "output_type": "display_data"
    },
    {
     "name": "stdout",
     "output_type": "stream",
     "text": [
      "Tracing evaluate for shape dict(cell_weight=(2,32,12,12), embeddings=(2, 32), latent_program_idx=(2,32), output_masks=(2,32,12,12), output_sizes=(2,32,2), outputs=(2,32,12,12)) (kw=dict(mode='flat', remat=True, unroll=None, deterministic=True, num_solution_attempts=7))\n",
      "Decoder gets embeddings=(2, 7, 32), output_sizes=(2,7,32,2), latent_program_idx=(2,7,32) (nsa=7)\n",
      "logits.shape=(2, 7, 32, 12, 12, 10)\n",
      "Tracing evaluate for shape dict(cell_weight=(2,79,12,21), embeddings=(2, 79), latent_program_idx=(2,79), output_masks=(2,79,12,21), output_sizes=(2,79,2), outputs=(2,79,12,21)) (kw=dict(mode='flat', remat=True, unroll=None, deterministic=True, num_solution_attempts=7))\n",
      "Decoder gets embeddings=(2, 7, 79), output_sizes=(2,7,79,2), latent_program_idx=(2,7,79) (nsa=7)\n",
      "logits.shape=(2, 7, 79, 12, 21, 10)\n",
      "Tracing evaluate for shape dict(cell_weight=(2,66,12,30), embeddings=(2, 66), latent_program_idx=(2,66), output_masks=(2,66,12,30), output_sizes=(2,66,2), outputs=(2,66,12,30)) (kw=dict(mode='flat', remat=True, unroll=None, deterministic=True, num_solution_attempts=7))\n",
      "Decoder gets embeddings=(2, 7, 66), output_sizes=(2,7,66,2), latent_program_idx=(2,7,66) (nsa=7)\n",
      "logits.shape=(2, 7, 66, 12, 30, 10)\n",
      "Tracing evaluate for shape dict(cell_weight=(2,60,21,21), embeddings=(2, 60), latent_program_idx=(2,60), output_masks=(2,60,21,21), output_sizes=(2,60,2), outputs=(2,60,21,21)) (kw=dict(mode='flat', remat=True, unroll=None, deterministic=True, num_solution_attempts=7))\n",
      "Decoder gets embeddings=(2, 7, 60), output_sizes=(2,7,60,2), latent_program_idx=(2,7,60) (nsa=7)\n",
      "logits.shape=(2, 7, 60, 21, 21, 10)\n",
      "Tracing evaluate for shape dict(cell_weight=(2,103,21,30), embeddings=(2, 103), latent_program_idx=(2,103), output_masks=(2,103,21,30), output_sizes=(2,103,2), outputs=(2,103,21,30)) (kw=dict(mode='flat', remat=True, unroll=None, deterministic=True, num_solution_attempts=7))\n",
      "Decoder gets embeddings=(2, 7, 103), output_sizes=(2,7,103,2), latent_program_idx=(2,7,103) (nsa=7)\n",
      "logits.shape=(2, 7, 103, 21, 30, 10)\n",
      "Tracing evaluate for shape dict(cell_weight=(2,53,30,30), embeddings=(2, 53), latent_program_idx=(2,53), output_masks=(2,53,30,30), output_sizes=(2,53,2), outputs=(2,53,30,30)) (kw=dict(mode='flat', remat=True, unroll=None, deterministic=True, num_solution_attempts=7))\n",
      "Decoder gets embeddings=(2, 7, 53), output_sizes=(2,7,53,2), latent_program_idx=(2,7,53) (nsa=7)\n",
      "logits.shape=(2, 7, 53, 30, 30, 10)\n",
      "\n",
      "Training interrupted by user\n",
      "\n",
      "--- Training Finished ---\n",
      "Total time: 300.6s\n",
      "Average throughput: 179.1 weight/s\n"
     ]
    }
   ],
   "source": [
    "stats = trainer.run_main()"
   ]
  },
  {
   "cell_type": "code",
   "execution_count": 14,
   "id": "3a772b52-07f9-44a2-9659-000cae5ba7fb",
   "metadata": {},
   "outputs": [
    {
     "data": {
      "text/html": [
       "<div>\n",
       "<style scoped>\n",
       "    .dataframe tbody tr th:only-of-type {\n",
       "        vertical-align: middle;\n",
       "    }\n",
       "\n",
       "    .dataframe tbody tr th {\n",
       "        vertical-align: top;\n",
       "    }\n",
       "\n",
       "    .dataframe thead th {\n",
       "        text-align: right;\n",
       "    }\n",
       "</style>\n",
       "<table border=\"1\" class=\"dataframe\">\n",
       "  <thead>\n",
       "    <tr style=\"text-align: right;\">\n",
       "      <th></th>\n",
       "      <th>loss_weight_scale</th>\n",
       "      <th>reference_entropy_var</th>\n",
       "      <th>rel_logprob_squared</th>\n",
       "      <th>relprob</th>\n",
       "    </tr>\n",
       "  </thead>\n",
       "  <tbody>\n",
       "    <tr>\n",
       "      <th>0</th>\n",
       "      <td>0.015610285</td>\n",
       "      <td>0.078039646</td>\n",
       "      <td>0.078039765</td>\n",
       "      <td>1.3043152</td>\n",
       "    </tr>\n",
       "    <tr>\n",
       "      <th>1</th>\n",
       "      <td>0.24250828</td>\n",
       "      <td>0.045018844</td>\n",
       "      <td>0.013649079</td>\n",
       "      <td>0.93621814</td>\n",
       "    </tr>\n",
       "    <tr>\n",
       "      <th>2</th>\n",
       "      <td>0.46015197</td>\n",
       "      <td>0.030259753</td>\n",
       "      <td>0.0029185358</td>\n",
       "      <td>0.9897872</td>\n",
       "    </tr>\n",
       "    <tr>\n",
       "      <th>3</th>\n",
       "      <td>0.7172328</td>\n",
       "      <td>0.024440961</td>\n",
       "      <td>0.00867276</td>\n",
       "      <td>1.0125408</td>\n",
       "    </tr>\n",
       "    <tr>\n",
       "      <th>4</th>\n",
       "      <td>0.9693221</td>\n",
       "      <td>0.020280728</td>\n",
       "      <td>0.0056184856</td>\n",
       "      <td>0.974882</td>\n",
       "    </tr>\n",
       "  </tbody>\n",
       "</table>\n",
       "</div>"
      ],
      "text/plain": [
       "  loss_weight_scale reference_entropy_var rel_logprob_squared     relprob\n",
       "0       0.015610285           0.078039646         0.078039765   1.3043152\n",
       "1        0.24250828           0.045018844         0.013649079  0.93621814\n",
       "2        0.46015197           0.030259753        0.0029185358   0.9897872\n",
       "3         0.7172328           0.024440961          0.00867276   1.0125408\n",
       "4         0.9693221           0.020280728        0.0056184856    0.974882"
      ]
     },
     "execution_count": 14,
     "metadata": {},
     "output_type": "execute_result"
    }
   ],
   "source": [
    "df = pd.DataFrame([s[\"debug\"] for s in stats])\n",
    "df.head()"
   ]
  },
  {
   "cell_type": "code",
   "execution_count": 15,
   "id": "74a961da-8e53-4a31-9ce3-c58aead58e74",
   "metadata": {},
   "outputs": [
    {
     "data": {
      "image/png": "[encoded data removed]",
      "text/plain": [
       "<Figure size 800x800 with 4 Axes>"
      ]
     },
     "metadata": {},
     "output_type": "display_data"
    }
   ],
   "source": [
    "fig, axes = plt.subplots(len(df.columns),1,figsize=(8,8),sharex=True)\n",
    "for ax,k in zip(axes,df.columns):\n",
    "    ax.plot(df.loc[:,k])\n",
    "    ax.annotate(k,(0,0),xycoords=\"axes fraction\")"
   ]
  },
  {
   "cell_type": "code",
   "execution_count": 16,
   "id": "ebf19721-bbe8-4bb5-9075-5e5bb1c9e1a2",
   "metadata": {
    "scrolled": true
   },
   "outputs": [
    {
     "name": "stdout",
     "output_type": "stream",
     "text": [
      "786 786\n",
      "[0 3 0 3 3 0 3 3 3 3 3 3 3 0 3 3 3 3 0 3 0 0 3 3 3 0 3 3 0 3 0 3 3 3 3 0 2\n",
      " 0 0 3 3 3 3 3 3 0 3 0 0 3 3 3 3 3 3 0 0 3 3 3 3 3 3 3 0 3 0 3 3 3 3 0 3 3\n",
      " 3 3 3 3 0 3 3 3 0 3 3 3 3 0 3 3 0 3 3 3 3 0 3 3 3 0 2 3 0 0 3 0 0 0 0 3 0\n",
      " 3 3 0 0 0 3 3 3 3 0 3 0 0 3 3 3 3 3 0 3 3 3 0 0 3 3 0 3 3 3 0 3 0 3 0 3 3\n",
      " 0 3 3 0 0 3 3 3 3 3 0 3 3 3 3 0 3 3 3 3 3 0 3 0 3 0 3 3 0 0 3 0 3 3 0 0 0\n",
      " 0 3 0 0 3 3 3 3 0 0 3 3 3 3 3 0 3 3 3 0 3 0 3 0 0 0 3 0 3 3 0 3 0 3 3 0 3\n",
      " 0 3 3 3 0 3 3 3 0 3 0 3 0 0 3 0 0 3 3 0 3 0 3 3 0 3 0 3 3 3 0 3 3 3 0 3 0\n",
      " 3 3 3 0 0 3 3 3 3 0 3 0 3 3 0 0 3 3 3 3 3 3 3 3 3 3 3 3 3 0 0 0 3 3 3 0 0\n",
      " 3 3 3 0 3 3 3 0 3 3 0 0 3 0 0 3 3 3 0 0 3 0 0 3 0 3 3 3 2 0 0 3 3 3 3 3 3\n",
      " 1 3 3 3 3 0 3 3 3 3 3 3 0 0 3 3 3 0 3 3 3 0 3 3 3 2 0 3 3 3 3 0 0 3 3 3 3\n",
      " 3 0 3 3 3 0 0 3 3 3 3 3 3 3 3 0 3 0 3 3 0 3 0 0 0 0 3 0 0 0]\n",
      "786\n"
     ]
    }
   ],
   "source": [
    "cache = trainer._eval_data_cache\n",
    "print(cache.total_weight, cache.per_class_total_weight.sum())\n",
    "print(cache.per_class_total_weight)\n",
    "print(sum(w.sum() if (w:=mb.get(\"weight\")) is not None else mb[\"latent_program_idx\"].size for mb in cache.minibatches))\n"
   ]
  },
  {
   "cell_type": "code",
   "execution_count": 17,
   "id": "d62740b3-8c98-4e15-a237-5b51f411f15e",
   "metadata": {},
   "outputs": [
    {
     "name": "stdout",
     "output_type": "stream",
     "text": [
      "At base cost 64, minibatch size should be 59.8\n",
      "At base cost 0, minibatch size should be 20.0\n"
     ]
    },
    {
     "data": {
      "image/png": "[encoded data removed]",
      "text/plain": [
       "<Figure size 1200x600 with 2 Axes>"
      ]
     },
     "metadata": {},
     "output_type": "display_data"
    }
   ],
   "source": [
    "v6e = np.r_[\n",
    "    30,14, 5.46,14, 5.46,\n",
    "    24,20, 8.07,23, 7.76,\n",
    "    20,24, 9.44,29, 9.38,\n",
    "    16,48,14.03,48,14.03,\n",
    "    12,80,19.83,80,19.83,\n",
    "].reshape(-1,5)\n",
    "\n",
    "L4 = np.r_[\n",
    "    30, 5, 1.63, 5, 1.63,\n",
    "#    24, 7, 2.42, 7, 2.42,\n",
    "    20,16, 4.31,16, 4.31,\n",
    "#    16,10, 4.64,10, 4.64,\n",
    "    12,40,11.17,40,11.17,\n",
    "].reshape(-1,5)\n",
    "\n",
    "\n",
    "\n",
    "fig, axes = plt.subplots(1,2,figsize=(12,6),sharex=True)\n",
    "for v,cost,ccb in zip([v6e,L4],[2.97,1.05],[64,0]):\n",
    "    imsz, fsz, fspd, bsz, bspd = v.T\n",
    "    ax = axes[0]\n",
    "    memory = (imsz**2 + ccb) / 15**2\n",
    "    print(f\"At base cost {ccb}, minibatch size should be {(bsz*memory).min():.1f}\")\n",
    "    l, = ax.plot(imsz, bsz*memory,'o-')\n",
    "    c = l.get_color()\n",
    "    #memory = 7*imsz*((imsz+7)//8) / 15**2\n",
    "    #ax.plot(imsz, bsz*memory,'o:',c=c)\n",
    "    ax = axes[1]\n",
    "    work = imsz*(imsz-0)\n",
    "    weight = 0.5*imsz\n",
    "    fac = work/weight/cost\n",
    "    ax.plot(imsz, fspd*fac,'o-',c=c)\n",
    "    ax.plot(imsz, bspd*fac,'o:',c=c)"
   ]
  },
  {
   "cell_type": "code",
   "execution_count": null,
   "id": "93b5a5e0-a570-4c24-b078-0fe62fb14258",
   "metadata": {},
   "outputs": [],
   "source": []
  }
 ],
 "metadata": {
  "kernelspec": {
   "display_name": "Python 3 (ipykernel)",
   "language": "python",
   "name": "python3"
  },
  "language_info": {
   "codemirror_mode": {
    "name": "ipython",
    "version": 3
   },
   "file_extension": ".py",
   "mimetype": "text/x-python",
   "name": "python",
   "nbconvert_exporter": "python",
   "pygments_lexer": "ipython3",
   "version": "3.14.0"
  }
 },
 "nbformat": 4,
 "nbformat_minor": 5
}
