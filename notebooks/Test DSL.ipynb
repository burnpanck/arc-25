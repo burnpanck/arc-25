{
 "cells": [
  {
   "cell_type": "code",
   "execution_count": 1,
   "id": "eb1a82c3-c583-4d77-93d1-cfe87bb2f57e",
   "metadata": {},
   "outputs": [],
   "source": [
    "import enum\n",
    "import typing\n",
    "import itertools\n",
    "import dataclasses\n",
    "from pathlib import Path\n",
    "\n",
    "import attrs\n",
    "import numpy as np\n",
    "from IPython import display\n",
    "\n",
    "from arc25.dsl import types, primitives\n",
    "from arc25.dsl import api as dsl\n",
    "from arc25 import tools, dataset, sandbox"
   ]
  },
  {
   "cell_type": "code",
   "execution_count": 2,
   "id": "e22b52dd-c8e1-455e-9db7-277e83dcfe7e",
   "metadata": {},
   "outputs": [],
   "source": [
    "proj_root = Path(\"..\").resolve()\n",
    "data_path = proj_root / \"data\"\n",
    "db_root = data_path / \"solutions\"\n",
    "challenges_root = data_path / \"arc-prize-2025.zip\""
   ]
  },
  {
   "cell_type": "code",
   "execution_count": 3,
   "id": "199e8490-8f1f-4b8f-ab2a-762eeb4f2f3c",
   "metadata": {},
   "outputs": [
    {
     "name": "stdout",
     "output_type": "stream",
     "text": [
      "AnyImage, Axis4, Axis8, Canvas, Color, ColorArray, Coord, Dir4, Dir8, Image, Mask, MaskedImage, Paintable, Pattern, Rect, ShapeSpec, Transform, Vector\n"
     ]
    }
   ],
   "source": [
    "print(\", \".join(types.__all__))"
   ]
  },
  {
   "cell_type": "code",
   "execution_count": 4,
   "id": "3043455b-bae9-4f4a-be03-e5735fac5c91",
   "metadata": {},
   "outputs": [
    {
     "name": "stdout",
     "output_type": "stream",
     "text": [
      "advance_pattern, apply_mask, cell_count, center_of_mass, connected_component, correlate_masks, count_colors, dilate, erode, extract_image, fill, find_bbox, find_cells, find_holes, find_objects, identify_background, make_canvas, mask_all, mask_col, mask_color, mask_from_string, mask_none, mask_row, mask_unpainted, masks_touch, most_common_colors, new_mask_like, paste, path_ray, path_segment, path_span, path_to_mask, pattern_cycle, pattern_dotted, pattern_solid, rect_to_mask, reduce_rect, round2grid, stroke, transform, vec2dir8\n"
     ]
    }
   ],
   "source": [
    "print(\", \".join(primitives.__all__))"
   ]
  },
  {
   "cell_type": "code",
   "execution_count": 5,
   "id": "2cbc9370-bf1a-4735-b00f-a93382bc950a",
   "metadata": {},
   "outputs": [
    {
     "name": "stdout",
     "output_type": "stream",
     "text": [
      "AnyImage, Axis4, Axis8, Canvas, Color, ColorArray, Coord, Dir4, Dir8, Image, Mask, MaskedImage, Paintable, Pattern, Rect, ShapeSpec, Transform, Vector, advance_pattern, apply_mask, cell_count, center_of_mass, connected_component, correlate_masks, count_colors, dilate, erode, extract_image, fill, find_bbox, find_cells, find_holes, find_objects, identify_background, make_canvas, mask_all, mask_col, mask_color, mask_from_string, mask_none, mask_row, mask_unpainted, masks_touch, most_common_colors, new_mask_like, paste, path_ray, path_segment, path_span, path_to_mask, pattern_cycle, pattern_dotted, pattern_solid, rect_to_mask, reduce_rect, round2grid, stroke, transform, vec2dir8, ROW, DIAG_ANTI, COL, DIAG_MAIN, ROW, COL, RIGHT, UP_RIGHT, UP, UP_LEFT, LEFT, DOWN_LEFT, DOWN, DOWN_RIGHT, RIGHT, UP, LEFT, DOWN, BLACK, BLUE, RED, GREEN, YELLOW, GRAY, MAGENTA, ORANGE, CYAN, BROWN, IDENTITY, FLIP_LR, FLIP_UD, ROTATE_180, FLIP_DIAG_MAIN, ROTATE_LEFT, ROTATE_RIGHT, FLIP_DIAG_ANTI\n"
     ]
    }
   ],
   "source": [
    "print(\", \".join(dsl.__all__))"
   ]
  },
  {
   "cell_type": "code",
   "execution_count": 6,
   "id": "fb5e80f5-d8e8-4521-a779-721b8e12bff8",
   "metadata": {},
   "outputs": [],
   "source": [
    "datasets = {}\n",
    "for k in [\"training\", \"evaluation\", \"test\"]:\n",
    "    datasets[k] = await dataset.Dataset.load(\n",
    "        id=k,\n",
    "        root=challenges_root,\n",
    "        challenges=f\"arc-agi_{k}_challenges.json\",\n",
    "        solutions=f\"arc-agi_{k}_solutions.json\" if k != \"test\" else None,\n",
    "    )\n",
    "ds = datasets[\"combined\"] = dataset.Dataset(\n",
    "    id=\"combined\",\n",
    "    challenges = dict(itertools.chain(*[ds.challenges.items() for ds in datasets.values()])),\n",
    ")"
   ]
  },
  {
   "cell_type": "code",
   "execution_count": 7,
   "id": "f3b61123-86d1-448a-a388-78c8729ad5ec",
   "metadata": {},
   "outputs": [
    {
     "name": "stdout",
     "output_type": "stream",
     "text": [
      "20 12\n",
      "['00576224', '36fdfd69', '46442a0e', '54d82841', '642d658d', '6e19193c', '6f8cd79b', '9841fdad', '9f5f939b', 'a740d043', 'ce039d91', 'fd02da9e']\n"
     ]
    }
   ],
   "source": [
    "solutions = await dataset.SolutionDB.load(db_root)\n",
    "sol_with_code = sorted(k for k,v in solutions.solutions.items() if v.rule)\n",
    "print(len(solutions.solutions), len(sol_with_code))\n",
    "print(sol_with_code)"
   ]
  },
  {
   "cell_type": "code",
   "execution_count": 8,
   "id": "da7128ff-d268-4238-bb49-df63b59cbf51",
   "metadata": {},
   "outputs": [
    {
     "name": "stdout",
     "output_type": "stream",
     "text": [
      "Challenbge fd02da9e:\n",
      "Explanation:\n"
     ]
    },
    {
     "data": {
      "text/markdown": [],
      "text/plain": [
       "<IPython.core.display.Markdown object>"
      ]
     },
     "metadata": {},
     "output_type": "display_data"
    },
    {
     "name": "stdout",
     "output_type": "stream",
     "text": [
      "Rule:\n"
     ]
    },
    {
     "data": {
      "text/html": [
       "<style>pre { line-height: 125%; }\n",
       "td.linenos .normal { color: inherit; background-color: transparent; padding-left: 5px; padding-right: 5px; }\n",
       "span.linenos { color: inherit; background-color: transparent; padding-left: 5px; padding-right: 5px; }\n",
       "td.linenos .special { color: #000000; background-color: #ffffc0; padding-left: 5px; padding-right: 5px; }\n",
       "span.linenos.special { color: #000000; background-color: #ffffc0; padding-left: 5px; padding-right: 5px; }\n",
       ".output_html .hll { background-color: #ffffcc }\n",
       ".output_html { background: #f8f8f8; }\n",
       ".output_html .c { color: #3D7B7B; font-style: italic } /* Comment */\n",
       ".output_html .err { border: 1px solid #FF0000 } /* Error */\n",
       ".output_html .k { color: #008000; font-weight: bold } /* Keyword */\n",
       ".output_html .o { color: #666666 } /* Operator */\n",
       ".output_html .ch { color: #3D7B7B; font-style: italic } /* Comment.Hashbang */\n",
       ".output_html .cm { color: #3D7B7B; font-style: italic } /* Comment.Multiline */\n",
       ".output_html .cp { color: #9C6500 } /* Comment.Preproc */\n",
       ".output_html .cpf { color: #3D7B7B; font-style: italic } /* Comment.PreprocFile */\n",
       ".output_html .c1 { color: #3D7B7B; font-style: italic } /* Comment.Single */\n",
       ".output_html .cs { color: #3D7B7B; font-style: italic } /* Comment.Special */\n",
       ".output_html .gd { color: #A00000 } /* Generic.Deleted */\n",
       ".output_html .ge { font-style: italic } /* Generic.Emph */\n",
       ".output_html .ges { font-weight: bold; font-style: italic } /* Generic.EmphStrong */\n",
       ".output_html .gr { color: #E40000 } /* Generic.Error */\n",
       ".output_html .gh { color: #000080; font-weight: bold } /* Generic.Heading */\n",
       ".output_html .gi { color: #008400 } /* Generic.Inserted */\n",
       ".output_html .go { color: #717171 } /* Generic.Output */\n",
       ".output_html .gp { color: #000080; font-weight: bold } /* Generic.Prompt */\n",
       ".output_html .gs { font-weight: bold } /* Generic.Strong */\n",
       ".output_html .gu { color: #800080; font-weight: bold } /* Generic.Subheading */\n",
       ".output_html .gt { color: #0044DD } /* Generic.Traceback */\n",
       ".output_html .kc { color: #008000; font-weight: bold } /* Keyword.Constant */\n",
       ".output_html .kd { color: #008000; font-weight: bold } /* Keyword.Declaration */\n",
       ".output_html .kn { color: #008000; font-weight: bold } /* Keyword.Namespace */\n",
       ".output_html .kp { color: #008000 } /* Keyword.Pseudo */\n",
       ".output_html .kr { color: #008000; font-weight: bold } /* Keyword.Reserved */\n",
       ".output_html .kt { color: #B00040 } /* Keyword.Type */\n",
       ".output_html .m { color: #666666 } /* Literal.Number */\n",
       ".output_html .s { color: #BA2121 } /* Literal.String */\n",
       ".output_html .na { color: #687822 } /* Name.Attribute */\n",
       ".output_html .nb { color: #008000 } /* Name.Builtin */\n",
       ".output_html .nc { color: #0000FF; font-weight: bold } /* Name.Class */\n",
       ".output_html .no { color: #880000 } /* Name.Constant */\n",
       ".output_html .nd { color: #AA22FF } /* Name.Decorator */\n",
       ".output_html .ni { color: #717171; font-weight: bold } /* Name.Entity */\n",
       ".output_html .ne { color: #CB3F38; font-weight: bold } /* Name.Exception */\n",
       ".output_html .nf { color: #0000FF } /* Name.Function */\n",
       ".output_html .nl { color: #767600 } /* Name.Label */\n",
       ".output_html .nn { color: #0000FF; font-weight: bold } /* Name.Namespace */\n",
       ".output_html .nt { color: #008000; font-weight: bold } /* Name.Tag */\n",
       ".output_html .nv { color: #19177C } /* Name.Variable */\n",
       ".output_html .ow { color: #AA22FF; font-weight: bold } /* Operator.Word */\n",
       ".output_html .w { color: #bbbbbb } /* Text.Whitespace */\n",
       ".output_html .mb { color: #666666 } /* Literal.Number.Bin */\n",
       ".output_html .mf { color: #666666 } /* Literal.Number.Float */\n",
       ".output_html .mh { color: #666666 } /* Literal.Number.Hex */\n",
       ".output_html .mi { color: #666666 } /* Literal.Number.Integer */\n",
       ".output_html .mo { color: #666666 } /* Literal.Number.Oct */\n",
       ".output_html .sa { color: #BA2121 } /* Literal.String.Affix */\n",
       ".output_html .sb { color: #BA2121 } /* Literal.String.Backtick */\n",
       ".output_html .sc { color: #BA2121 } /* Literal.String.Char */\n",
       ".output_html .dl { color: #BA2121 } /* Literal.String.Delimiter */\n",
       ".output_html .sd { color: #BA2121; font-style: italic } /* Literal.String.Doc */\n",
       ".output_html .s2 { color: #BA2121 } /* Literal.String.Double */\n",
       ".output_html .se { color: #AA5D1F; font-weight: bold } /* Literal.String.Escape */\n",
       ".output_html .sh { color: #BA2121 } /* Literal.String.Heredoc */\n",
       ".output_html .si { color: #A45A77; font-weight: bold } /* Literal.String.Interpol */\n",
       ".output_html .sx { color: #008000 } /* Literal.String.Other */\n",
       ".output_html .sr { color: #A45A77 } /* Literal.String.Regex */\n",
       ".output_html .s1 { color: #BA2121 } /* Literal.String.Single */\n",
       ".output_html .ss { color: #19177C } /* Literal.String.Symbol */\n",
       ".output_html .bp { color: #008000 } /* Name.Builtin.Pseudo */\n",
       ".output_html .fm { color: #0000FF } /* Name.Function.Magic */\n",
       ".output_html .vc { color: #19177C } /* Name.Variable.Class */\n",
       ".output_html .vg { color: #19177C } /* Name.Variable.Global */\n",
       ".output_html .vi { color: #19177C } /* Name.Variable.Instance */\n",
       ".output_html .vm { color: #19177C } /* Name.Variable.Magic */\n",
       ".output_html .il { color: #666666 } /* Literal.Number.Integer.Long */</style><div class=\"highlight\"><pre><span></span><span class=\"k\">def</span> <span class=\"nf\">solution</span><span class=\"p\">(</span><span class=\"nb\">input</span><span class=\"p\">:</span> <span class=\"n\">Canvas</span><span class=\"p\">,</span> <span class=\"n\">examples</span><span class=\"p\">:</span> <span class=\"nb\">list</span><span class=\"p\">[</span><span class=\"n\">IOPair</span><span class=\"p\">])</span> <span class=\"o\">-&gt;</span> <span class=\"n\">Canvas</span><span class=\"p\">:</span>\n",
       "    <span class=\"n\">output</span> <span class=\"o\">=</span> <span class=\"n\">make_canvas</span><span class=\"p\">(</span><span class=\"o\">*</span><span class=\"nb\">input</span><span class=\"o\">.</span><span class=\"n\">shape</span><span class=\"p\">)</span>\n",
       "    <span class=\"n\">output</span> <span class=\"o\">=</span> <span class=\"n\">fill</span><span class=\"p\">(</span><span class=\"n\">output</span><span class=\"p\">,</span> <span class=\"n\">ORANGE</span><span class=\"p\">)</span>\n",
       "    <span class=\"n\">keys</span> <span class=\"o\">=</span> <span class=\"o\">~</span><span class=\"n\">mask_color</span><span class=\"p\">(</span><span class=\"nb\">input</span><span class=\"p\">,</span> <span class=\"n\">ORANGE</span><span class=\"p\">)</span>\n",
       "    <span class=\"k\">for</span> <span class=\"n\">idx</span><span class=\"p\">,</span><span class=\"n\">io</span> <span class=\"ow\">in</span> <span class=\"nb\">enumerate</span><span class=\"p\">(</span><span class=\"n\">examples</span><span class=\"p\">):</span>\n",
       "        <span class=\"k\">if</span> <span class=\"n\">io</span><span class=\"o\">.</span><span class=\"n\">output</span> <span class=\"ow\">is</span> <span class=\"kc\">None</span><span class=\"p\">:</span>\n",
       "            <span class=\"k\">continue</span>\n",
       "        <span class=\"n\">key</span> <span class=\"o\">=</span> <span class=\"o\">~</span><span class=\"n\">mask_color</span><span class=\"p\">(</span><span class=\"n\">io</span><span class=\"o\">.</span><span class=\"n\">input</span><span class=\"p\">,</span> <span class=\"n\">ORANGE</span><span class=\"p\">)</span>\n",
       "        <span class=\"n\">value</span> <span class=\"o\">=</span> <span class=\"o\">~</span><span class=\"n\">mask_color</span><span class=\"p\">(</span><span class=\"n\">io</span><span class=\"o\">.</span><span class=\"n\">output</span><span class=\"p\">,</span> <span class=\"n\">ORANGE</span><span class=\"p\">)</span>\n",
       "        <span class=\"k\">if</span> <span class=\"p\">(</span><span class=\"n\">keys</span> <span class=\"o\">&amp;</span> <span class=\"n\">key</span> <span class=\"o\">==</span> <span class=\"n\">key</span><span class=\"p\">)</span><span class=\"o\">.</span><span class=\"n\">all</span><span class=\"p\">():</span>\n",
       "            <span class=\"n\">c</span><span class=\"p\">,</span> <span class=\"o\">=</span> <span class=\"n\">most_common_colors</span><span class=\"p\">(</span><span class=\"n\">apply_mask</span><span class=\"p\">(</span><span class=\"nb\">input</span><span class=\"p\">,</span> <span class=\"n\">key</span><span class=\"p\">))</span>\n",
       "            <span class=\"n\">output</span> <span class=\"o\">=</span> <span class=\"n\">fill</span><span class=\"p\">(</span><span class=\"n\">output</span><span class=\"p\">,</span> <span class=\"n\">c</span><span class=\"p\">,</span> <span class=\"n\">clip</span><span class=\"o\">=</span><span class=\"n\">value</span><span class=\"p\">)</span>\n",
       "    <span class=\"k\">return</span> <span class=\"n\">output</span>\n",
       "</pre></div>\n"
      ],
      "text/latex": [
       "\\begin{Verbatim}[commandchars=\\\\\\{\\}]\n",
       "\\PY{k}{def} \\PY{n+nf}{solution}\\PY{p}{(}\\PY{n+nb}{input}\\PY{p}{:} \\PY{n}{Canvas}\\PY{p}{,} \\PY{n}{examples}\\PY{p}{:} \\PY{n+nb}{list}\\PY{p}{[}\\PY{n}{IOPair}\\PY{p}{]}\\PY{p}{)} \\PY{o}{\\PYZhy{}}\\PY{o}{\\PYZgt{}} \\PY{n}{Canvas}\\PY{p}{:}\n",
       "    \\PY{n}{output} \\PY{o}{=} \\PY{n}{make\\PYZus{}canvas}\\PY{p}{(}\\PY{o}{*}\\PY{n+nb}{input}\\PY{o}{.}\\PY{n}{shape}\\PY{p}{)}\n",
       "    \\PY{n}{output} \\PY{o}{=} \\PY{n}{fill}\\PY{p}{(}\\PY{n}{output}\\PY{p}{,} \\PY{n}{ORANGE}\\PY{p}{)}\n",
       "    \\PY{n}{keys} \\PY{o}{=} \\PY{o}{\\PYZti{}}\\PY{n}{mask\\PYZus{}color}\\PY{p}{(}\\PY{n+nb}{input}\\PY{p}{,} \\PY{n}{ORANGE}\\PY{p}{)}\n",
       "    \\PY{k}{for} \\PY{n}{idx}\\PY{p}{,}\\PY{n}{io} \\PY{o+ow}{in} \\PY{n+nb}{enumerate}\\PY{p}{(}\\PY{n}{examples}\\PY{p}{)}\\PY{p}{:}\n",
       "        \\PY{k}{if} \\PY{n}{io}\\PY{o}{.}\\PY{n}{output} \\PY{o+ow}{is} \\PY{k+kc}{None}\\PY{p}{:}\n",
       "            \\PY{k}{continue}\n",
       "        \\PY{n}{key} \\PY{o}{=} \\PY{o}{\\PYZti{}}\\PY{n}{mask\\PYZus{}color}\\PY{p}{(}\\PY{n}{io}\\PY{o}{.}\\PY{n}{input}\\PY{p}{,} \\PY{n}{ORANGE}\\PY{p}{)}\n",
       "        \\PY{n}{value} \\PY{o}{=} \\PY{o}{\\PYZti{}}\\PY{n}{mask\\PYZus{}color}\\PY{p}{(}\\PY{n}{io}\\PY{o}{.}\\PY{n}{output}\\PY{p}{,} \\PY{n}{ORANGE}\\PY{p}{)}\n",
       "        \\PY{k}{if} \\PY{p}{(}\\PY{n}{keys} \\PY{o}{\\PYZam{}} \\PY{n}{key} \\PY{o}{==} \\PY{n}{key}\\PY{p}{)}\\PY{o}{.}\\PY{n}{all}\\PY{p}{(}\\PY{p}{)}\\PY{p}{:}\n",
       "            \\PY{n}{c}\\PY{p}{,} \\PY{o}{=} \\PY{n}{most\\PYZus{}common\\PYZus{}colors}\\PY{p}{(}\\PY{n}{apply\\PYZus{}mask}\\PY{p}{(}\\PY{n+nb}{input}\\PY{p}{,} \\PY{n}{key}\\PY{p}{)}\\PY{p}{)}\n",
       "            \\PY{n}{output} \\PY{o}{=} \\PY{n}{fill}\\PY{p}{(}\\PY{n}{output}\\PY{p}{,} \\PY{n}{c}\\PY{p}{,} \\PY{n}{clip}\\PY{o}{=}\\PY{n}{value}\\PY{p}{)}\n",
       "    \\PY{k}{return} \\PY{n}{output}\n",
       "\\end{Verbatim}\n"
      ],
      "text/plain": [
       "def solution(input: Canvas, examples: list[IOPair]) -> Canvas:\n",
       "    output = make_canvas(*input.shape)\n",
       "    output = fill(output, ORANGE)\n",
       "    keys = ~mask_color(input, ORANGE)\n",
       "    for idx,io in enumerate(examples):\n",
       "        if io.output is None:\n",
       "            continue\n",
       "        key = ~mask_color(io.input, ORANGE)\n",
       "        value = ~mask_color(io.output, ORANGE)\n",
       "        if (keys & key == key).all():\n",
       "            c, = most_common_colors(apply_mask(input, key))\n",
       "            output = fill(output, c, clip=value)\n",
       "    return output"
      ]
     },
     "metadata": {},
     "output_type": "display_data"
    }
   ],
   "source": [
    "ckey = sol_with_code[8]\n",
    "ckey = \"fd02da9e\"\n",
    "\n",
    "sol = solutions.solutions[ckey]\n",
    "print(f\"Challenbge {ckey}:\")\n",
    "print(\"Explanation:\")\n",
    "display.display(display.Markdown(sol.explanation))\n",
    "print(\"Rule:\")\n",
    "display.display(display.Code(sol.rule, language=\"python\"))\n"
   ]
  },
  {
   "cell_type": "code",
   "execution_count": 9,
   "id": "c1fd5e89-e298-43bd-83bb-fff52cbfb8de",
   "metadata": {},
   "outputs": [
    {
     "name": "stdout",
     "output_type": "stream",
     "text": [
      "Overall: out.full_match=False out.example_match=0.0 out.cell_match=0.0\n",
      "Traceback (most recent call last):\n",
      "  File \"/Users/yves/git-private/arc-2025/src/arc25/sandbox.py\", line 183, in _evaluate_solution\n",
      "    actual = solver(io.input, examples)\n",
      "             ^^^^^^^^^^^^^^^^^^^^^^^^^^\n",
      "  File \"<rule-code>\", line 10, in solution\n",
      "    if (keys & key == key).all():\n",
      "       ^^^^^^^^^^^^^^^^^^^^^^^\n",
      "AttributeError: 'Mask' object has no attribute 'all'\n",
      "Train 0: v.full_match=False v.cell_match=0\n",
      "Traceback (most recent call last):\n",
      "  File \"/Users/yves/git-private/arc-2025/src/arc25/sandbox.py\", line 183, in _evaluate_solution\n",
      "    actual = solver(io.input, examples)\n",
      "             ^^^^^^^^^^^^^^^^^^^^^^^^^^\n",
      "  File \"<rule-code>\", line 10, in solution\n",
      "    if (keys & key == key).all():\n",
      "       ^^^^^^^^^^^^^^^^^^^^^^^\n",
      "AttributeError: 'Mask' object has no attribute 'all'\n",
      "Train 1: v.full_match=False v.cell_match=0\n",
      "Traceback (most recent call last):\n",
      "  File \"/Users/yves/git-private/arc-2025/src/arc25/sandbox.py\", line 183, in _evaluate_solution\n",
      "    actual = solver(io.input, examples)\n",
      "             ^^^^^^^^^^^^^^^^^^^^^^^^^^\n",
      "  File \"<rule-code>\", line 10, in solution\n",
      "    if (keys & key == key).all():\n",
      "       ^^^^^^^^^^^^^^^^^^^^^^^\n",
      "AttributeError: 'Mask' object has no attribute 'all'\n",
      "Train 2: v.full_match=False v.cell_match=0\n",
      "Traceback (most recent call last):\n",
      "  File \"/Users/yves/git-private/arc-2025/src/arc25/sandbox.py\", line 183, in _evaluate_solution\n",
      "    actual = solver(io.input, examples)\n",
      "             ^^^^^^^^^^^^^^^^^^^^^^^^^^\n",
      "  File \"<rule-code>\", line 10, in solution\n",
      "    if (keys & key == key).all():\n",
      "       ^^^^^^^^^^^^^^^^^^^^^^^\n",
      "AttributeError: 'Mask' object has no attribute 'all'\n",
      "Train 3: v.full_match=False v.cell_match=0\n",
      "Traceback (most recent call last):\n",
      "  File \"/Users/yves/git-private/arc-2025/src/arc25/sandbox.py\", line 183, in _evaluate_solution\n",
      "    actual = solver(io.input, examples)\n",
      "             ^^^^^^^^^^^^^^^^^^^^^^^^^^\n",
      "  File \"<rule-code>\", line 10, in solution\n",
      "    if (keys & key == key).all():\n",
      "       ^^^^^^^^^^^^^^^^^^^^^^^\n",
      "AttributeError: 'Mask' object has no attribute 'all'\n",
      "Test 0: v.full_match=False v.cell_match=0\n",
      "Traceback (most recent call last):\n",
      "  File \"/Users/yves/git-private/arc-2025/src/arc25/sandbox.py\", line 183, in _evaluate_solution\n",
      "    actual = solver(io.input, examples)\n",
      "             ^^^^^^^^^^^^^^^^^^^^^^^^^^\n",
      "  File \"<rule-code>\", line 10, in solution\n",
      "    if (keys & key == key).all():\n",
      "       ^^^^^^^^^^^^^^^^^^^^^^^\n",
      "AttributeError: 'Mask' object has no attribute 'all'\n"
     ]
    },
    {
     "data": {
      "image/png": "[encoded data removed]",
      "text/plain": [
       "<Figure size 800x1333.33 with 15 Axes>"
      ]
     },
     "metadata": {},
     "output_type": "display_data"
    }
   ],
   "source": [
    "out = await sandbox.evaluate_solution(\n",
    "    challenge=(chal := ds.challenges[ckey]),\n",
    "    solution=solutions.solutions[ckey],\n",
    ")\n",
    "def ifp(s):\n",
    "    if s:\n",
    "        print(s)\n",
    "print(f\"Overall: {out.full_match=} {out.example_match=} {out.cell_match=}\")\n",
    "ifp(out.exec_info.stdout)\n",
    "ifp(out.exec_info.stderr)\n",
    "for split in [\"train\",\"test\"]:\n",
    "    for k,v in enumerate(getattr(out,f\"{split}_eval\")):\n",
    "        print(f\"{split.title()} {k}: {v.full_match=} {v.cell_match=}\")\n",
    "        ifp(v.exec_info.stdout)\n",
    "        ifp(v.exec_info.stderr)\n",
    "tools.show_test_case(\n",
    "    out.get_eval_triples(),\n",
    "    n_train = len(chal.train),\n",
    "    width = 8,\n",
    ")"
   ]
  },
  {
   "cell_type": "code",
   "execution_count": 10,
   "id": "fc77c781-e1da-41c3-92e4-783ece22ccdf",
   "metadata": {},
   "outputs": [
    {
     "data": {
      "text/plain": [
       "ExecutionInfo(error='AttributeError(\"\\'Mask\\' object has no attribute \\'all\\'\")', stdout='', stderr='Traceback (most recent call last):\\n  File \"/Users/yves/git-private/arc-2025/src/arc25/sandbox.py\", line 183, in _evaluate_solution\\n    actual = solver(io.input, examples)\\n             ^^^^^^^^^^^^^^^^^^^^^^^^^^\\n  File \"<rule-code>\", line 10, in solution\\n    if (keys & key == key).all():\\n       ^^^^^^^^^^^^^^^^^^^^^^^\\nAttributeError: \\'Mask\\' object has no attribute \\'all\\'')"
      ]
     },
     "execution_count": 10,
     "metadata": {},
     "output_type": "execute_result"
    }
   ],
   "source": [
    "out.exec_info"
   ]
  },
  {
   "cell_type": "code",
   "execution_count": null,
   "id": "1be3564d-489f-466d-8d3d-79aac71282de",
   "metadata": {},
   "outputs": [],
   "source": []
  }
 ],
 "metadata": {
  "kernelspec": {
   "display_name": "3.11",
   "language": "python",
   "name": "3.11"
  },
  "language_info": {
   "codemirror_mode": {
    "name": "ipython",
    "version": 3
   },
   "file_extension": ".py",
   "mimetype": "text/x-python",
   "name": "python",
   "nbconvert_exporter": "python",
   "pygments_lexer": "ipython3",
   "version": "3.11.8"
  }
 },
 "nbformat": 4,
 "nbformat_minor": 5
}
