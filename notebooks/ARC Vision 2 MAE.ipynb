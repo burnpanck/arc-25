{
 "cells": [
  {
   "cell_type": "code",
   "execution_count": 8,
   "id": "e92cc294-fc57-4ca6-a250-317eeeba70b3",
   "metadata": {},
   "outputs": [],
   "source": [
    "import typing\n",
    "import lzma\n",
    "import os\n",
    "import dataclasses\n",
    "import itertools\n",
    "import functools\n",
    "from importlib import reload\n",
    "from pathlib import Path\n",
    "from types import MappingProxyType, SimpleNamespace\n",
    "\n",
    "import cbor2\n",
    "import attrs\n",
    "import tqdm.auto\n",
    "import jax\n",
    "import jax.numpy as jnp\n",
    "from flax import nnx\n",
    "import optax\n",
    "import jaxtyping as jt\n",
    "import numpy as np\n",
    "import pandas as pd\n",
    "import matplotlib.pyplot as plt\n",
    "\n",
    "from arc25 import symmetry, tools as arc25_tools\n",
    "from arc25.symmetry import D4, transform_vector\n",
    "from arc25 import serialisation\n",
    "from arc25.dsl.types import Vector, Dir4\n",
    "from arc25.vision2.symrep import SymDecompBase, SplitSymDecomp, SymDecompDims, standard_rep, RepSpec\n",
    "from arc25.vision2.fields import FieldDims, CoordinateGrid\n",
    "from arc25.vision2.linear import SpaceSymmetricLinear, SpaceSymmetricTensor, SymmetryMappingSpec, SymDecompLinear\n",
    "from arc25.vision2 import fields, attention, encoder, transformer, mae, swiglu\n",
    "from arc25.training import saving, dataset, mae as mae_trainer, knn_eval, linear_probe"
   ]
  },
  {
   "cell_type": "code",
   "execution_count": 9,
   "id": "62411ecc-c33b-4af9-b2b6-71b6674fd2d0",
   "metadata": {},
   "outputs": [],
   "source": [
    "\n",
    "os.environ[\"XLA_FLAGS\"]=\"--xla_force_host_platform_device_count=2\""
   ]
  },
  {
   "cell_type": "code",
   "execution_count": 10,
   "id": "0b3311db-eae3-47d7-8f69-d33385ca5397",
   "metadata": {},
   "outputs": [],
   "source": [
    "proj_root = Path(\"..\").resolve()\n",
    "data_root = proj_root / \"data\""
   ]
  },
  {
   "cell_type": "code",
   "execution_count": 11,
   "id": "88c231a9-b644-4e2c-8b58-0390f28bb7c1",
   "metadata": {},
   "outputs": [],
   "source": [
    "src_dataset = dataset.ImagesDataset.load_compressed_cbor(data_root/ \"repack/re-arc.cbor.xz\")"
   ]
  },
  {
   "cell_type": "code",
   "execution_count": 12,
   "id": "bfeadae7-4ff1-442f-94c9-993d49290d59",
   "metadata": {},
   "outputs": [
    {
     "data": {
      "text/plain": [
       "<matplotlib.colorbar.Colorbar at 0x16548d940>"
      ]
     },
     "execution_count": 12,
     "metadata": {},
     "output_type": "execute_result"
    },
    {
     "data": {
      "image/png": "[encoded data removed]",
      "text/plain": [
       "<Figure size 640x480 with 2 Axes>"
      ]
     },
     "metadata": {},
     "output_type": "display_data"
    }
   ],
   "source": [
    "\n",
    "size_counts = src_dataset.size_counts(max_size=(30,30))\n",
    "\n",
    "plt.pcolormesh(size_counts,norm=\"log\")\n",
    "plt.axis(\"square\")\n",
    "plt.colorbar()\n"
   ]
  },
  {
   "cell_type": "code",
   "execution_count": 13,
   "id": "b055ff8c-79ed-4e26-84a5-a2db1dd88d04",
   "metadata": {},
   "outputs": [
    {
     "name": "stdout",
     "output_type": "stream",
     "text": [
      "With N=2, waste 199.2/422.9 M (efficiency 52.9 %) with [16 30]\n",
      "With N=3, waste 121.2/344.9 M (efficiency 64.9 %) with [12 21 30]\n",
      "With N=4, waste 86.3/310.0 M (efficiency 72.2 %) with [11 17 24 30]\n",
      "With N=5, waste 64.7/288.4 M (efficiency 77.6 %) with [ 8 14 20 25 30]\n",
      "With N=6, waste 50.7/274.4 M (efficiency 81.5 %) with [ 7 12 16 20 25 30]\n",
      "With N=7, waste 41.5/265.3 M (efficiency 84.3 %) with [ 6 11 15 19 23 26 30]\n"
     ]
    }
   ],
   "source": [
    "import numba\n",
    "\n",
    "def brute(size_counts,N=4):\n",
    "    i = np.arange(1,31)\n",
    "    ccounts = np.cumsum(np.cumsum(size_counts,axis=0),axis=1)\n",
    "    ncells = i[:,None]*i\n",
    "    total_cells = size_counts*ncells\n",
    "    ccells = np.cumsum(np.cumsum(total_cells,axis=0),axis=1)\n",
    "    mx = 30\n",
    "    useful = ccells[mx-1,mx-1]\n",
    "    cc = np.zeros((mx+1, mx+1),int)\n",
    "    cc[1:,1:] = ccounts\n",
    "    best, bestb = brute_impl(cc,mx,N)\n",
    "    return useful, best, bestb\n",
    "    \n",
    "@numba.njit\n",
    "def brute_impl(ccounts,mx,N):\n",
    "    best = 30**2*ccounts[-1,-1]\n",
    "    bestb = np.zeros(N,dtype=np.int_)\n",
    "    j = np.arange(N+1, dtype=np.int64)\n",
    "    j[-1] = mx\n",
    "    while True:\n",
    "        cc = ccounts[j,:][:,j]\n",
    "        bc = cc[1:]-cc[:-1]\n",
    "        bcnt = bc[:,1:]-bc[:,:-1]\n",
    "        bsz = j[1:,None]*j[1:]\n",
    "        spent = np.sum(bcnt*bsz)\n",
    "        if spent < best:\n",
    "            best = spent\n",
    "            bestb = j[1:].copy()\n",
    "\n",
    "        i = N-1\n",
    "        # find rightmost position that can be incremented\n",
    "        while i > 0 and j[i]+1 == j[i+1]:\n",
    "            i -= 1\n",
    "        if i <= 0:\n",
    "            # already at the last combination\n",
    "            break\n",
    "        j[i] += 1\n",
    "        # reset the tail to the minimal ascending values\n",
    "        while i+1<N:\n",
    "            j[i+1] = j[i] + 1\n",
    "            i += 1\n",
    "        \n",
    "    return best, bestb\n",
    "\n",
    "orthocost = []\n",
    "for N in range(2,8):\n",
    "    n_useful, n_spent, best = brute(size_counts, N=N)\n",
    "    print(f\"With {N=}, waste {(n_spent-n_useful)/1e6:.1f}/{n_spent/1e6:.1f} M (efficiency {100*n_useful/n_spent:.1f} %) with {best}\")\n",
    "    orthocost.append((N*(N+1)//2,n_spent))\n",
    "\n",
    "orthocost = np.array(orthocost).T"
   ]
  },
  {
   "cell_type": "code",
   "execution_count": 14,
   "id": "2345bc5d-0f08-4cf0-84d1-2d9c2f553dd1",
   "metadata": {},
   "outputs": [
    {
     "data": {
      "text/plain": [
       "array([[30, 30],\n",
       "       [15, 29],\n",
       "       [11, 19],\n",
       "       [21, 30],\n",
       "       [17, 22],\n",
       "       [ 7, 12],\n",
       "       [ 9, 30],\n",
       "       [25, 29],\n",
       "       [20, 25],\n",
       "       [13, 24]])"
      ]
     },
     "execution_count": 14,
     "metadata": {},
     "output_type": "execute_result"
    },
    {
     "data": {
      "image/png": "[encoded data removed]",
      "text/plain": [
       "<Figure size 640x480 with 1 Axes>"
      ]
     },
     "metadata": {},
     "output_type": "display_data"
    }
   ],
   "source": [
    "@numba.njit\n",
    "def greedy_buckets(C, K):\n",
    "    m, n = C.shape  # expect 30x30\n",
    "\n",
    "    chosen = np.zeros((m, n), dtype=np.uint8)\n",
    "\n",
    "    M = np.full((m, n), m*n, dtype=np.int64)\n",
    "    chosen[m-1, n-1] = 1\n",
    "    used = 1\n",
    "\n",
    "    total_budget = max(1, K)\n",
    "\n",
    "    buckets = np.empty((total_budget, 2), dtype=np.int64)\n",
    "    total_cost = np.empty(total_budget, dtype=np.int64)\n",
    "    buckets[0,:] = (m,n)\n",
    "    total_cost[0] = m*n*C.sum()\n",
    "    \n",
    "    while used < total_budget:\n",
    "        best_gain = 0\n",
    "        bi = bj = -1\n",
    "\n",
    "        for i in range(m):\n",
    "            for j in range(n):\n",
    "                if chosen[i, j]:\n",
    "                    continue\n",
    "                a = (i+1)*(j+1)\n",
    "                # marginal gain over rectangle [0..i]x[0..j]\n",
    "                gain = 0\n",
    "                for u in range(i+1):\n",
    "                    for v in range(j+1):\n",
    "                        diff = M[u, v] - a\n",
    "                        if diff > 0:\n",
    "                            gain += C[u, v] * diff\n",
    "                if gain > best_gain:\n",
    "                    best_gain = gain\n",
    "                    bi, bj = i, j\n",
    "\n",
    "        if best_gain <= 0 or bi < 0:\n",
    "            break\n",
    "\n",
    "        # commit the best candidate, update M and parents\n",
    "        chosen[bi, bj] = 1\n",
    "        a = (bi+1)*(bj+1)\n",
    "        for u in range(bi+1):\n",
    "            for v in range(bj+1):\n",
    "                if a < M[u, v]:\n",
    "                    M[u, v] = a\n",
    "\n",
    "        buckets[used,:] = (bi+1,bj+1)\n",
    "        total_cost[used] = (M*C).sum()\n",
    "        \n",
    "        used += 1\n",
    "\n",
    "    return buckets, total_cost\n",
    "\n",
    "buckets, total_cost = greedy_buckets(size_counts,100)\n",
    "i = np.r_[1:31]\n",
    "upper = i[:,None] > i\n",
    "ssc = np.where(~upper,size_counts,0)+np.where(upper,size_counts,0).T\n",
    "sbuckets, stotal_cost = greedy_buckets(ssc,100)\n",
    "\n",
    "train_examples = 4096 * 256\n",
    "train_fraction = train_examples / size_counts.sum()\n",
    "train_cell_rate = 30**2 * 79\n",
    "compile_time = 4*60 # seconds\n",
    "\n",
    "est_time = lambda y,x=None: (train_fraction*y/train_cell_rate + (np.r_[1:len(y)+1] if x is None else x)*compile_time)/60\n",
    "\n",
    "\n",
    "plt.semilogx(est_time(total_cost),marker=\".\")\n",
    "plt.plot(est_time(stotal_cost),marker=\".\")\n",
    "plt.plot(orthocost[0],est_time(orthocost[1],orthocost[0]),marker=\".\")\n",
    "#plt.axhline((i[:,None]*i*size_counts).sum(),c=\"r\")\n",
    "sbuckets[:10]"
   ]
  },
  {
   "cell_type": "code",
   "execution_count": 15,
   "id": "9d849b25-dad7-461b-a0e4-97af2114f58e",
   "metadata": {},
   "outputs": [
    {
     "name": "stdout",
     "output_type": "stream",
     "text": [
      "eval_ds: {(30, 30): 85, (21, 30): 176, (21, 21): 108, (12, 12): 169, (12, 21): 143, (12, 30): 119}\n",
      "valid_ds: {(30, 30): 108, (21, 30): 179, (21, 21): 96, (12, 12): 164, (12, 21): 132, (12, 30): 121}\n",
      "valid_train_ds: {(30, 30): 847, (21, 30): 1527, (21, 21): 980, (12, 12): 1389, (12, 21): 1290, (12, 30): 1165}\n",
      "training_ds: {(30, 30): 92765, (21, 30): 175142, (21, 21): 104105, (12, 12): 157170, (12, 21): 142907, (12, 30): 119655}\n"
     ]
    }
   ],
   "source": [
    "small_eval = True\n",
    "\n",
    "full_eval_split, train_split = src_dataset.split_by_challenge(\n",
    "    np.random.default_rng(seed=42),\n",
    "    n_min=20 if small_eval else 100,\n",
    ")\n",
    "eval_split, _ = full_eval_split.split_by_challenge(\n",
    "    np.random.default_rng(seed=77),\n",
    "    n_min=2 if small_eval else 24,\n",
    ")\n",
    "valid_split, valid_train_split = full_eval_split.split_by_challenge(\n",
    "    np.random.default_rng(seed=83),\n",
    "    n_min=2 if small_eval else 9,\n",
    ")\n",
    "\n",
    "\n",
    "size_cuts = [12, 21, 30]\n",
    "#size_cuts = [8,12,16,24,30]\n",
    "#size_cuts = [30]\n",
    "\n",
    "eval_ds,valid_ds,valid_train_ds = [dataset.BucketedDataset.make(\n",
    "    s,\n",
    "#    [(30,30)],\n",
    "    set(itertools.product(size_cuts, size_cuts)),\n",
    ") for s in [eval_split, valid_split, valid_train_split]]\n",
    "\n",
    "training_ds = dataset.BucketedDataset.make(\n",
    "    train_split,\n",
    "    set(itertools.product(size_cuts, size_cuts)),\n",
    ")\n",
    "for k,v in dict(\n",
    "    eval_ds=eval_ds,\n",
    "    valid_ds=valid_ds,\n",
    "    valid_train_ds=valid_train_ds,\n",
    "    training_ds=training_ds,\n",
    ").items():\n",
    "    print(f\"{k}: { {kk:vv.n_examples for kk,vv in v.buckets.items()} }\")\n"
   ]
  },
  {
   "cell_type": "code",
   "execution_count": 16,
   "id": "847c36d2-3558-4cec-91b0-2beeec1703a2",
   "metadata": {},
   "outputs": [],
   "source": [
    "arc_mae = mae.MaskedAutoencoder(\n",
    "    **mae.configs[\"legacy\"],\n",
    "    dtype=jnp.float32,\n",
    "    rngs=nnx.Rngs(42),\n",
    ")\n",
    "width = arc_mae.hidden_size"
   ]
  },
  {
   "cell_type": "code",
   "execution_count": 17,
   "id": "afe60b7c-9248-4c5b-ae90-ebd6ea2e67ba",
   "metadata": {},
   "outputs": [
    {
     "name": "stdout",
     "output_type": "stream",
     "text": [
      "20251011-2032-nano-1638.msgpack.xz 78541580\n",
      "20251010-1443-nano-cls-final.msgpack.xz 69062808\n",
      "20251014-2041-nano-chkp-001536.msgpack.xz 79012616\n",
      "test-run-chkp-000016.msgpack.xz 78996672\n",
      "20251010-1443-nano-cls-final-w-config.msgpack.xz 69065832\n",
      "20251014-1444-chkp-000021-final.msgpack.xz 0\n",
      "20251011-2032-nano-final.msgpack.xz 78469648\n",
      "20251014-1444-chkp-000016.msgpack.xz 78994616\n",
      "20251014-1518-chkp-000003-final.msgpack.xz 78983364\n",
      "20251014-1533-chkp-000004-final.msgpack.xz 20980944\n",
      "20251014-1454-chkp-000009-final.msgpack.xz 54744498\n",
      "20251014-1541-chkp-000008-final.msgpack.xz 78976028\n",
      "test-run-chkp-000005-final.msgpack.xz 78992408\n",
      "test-run-chkp-000021-final.msgpack.xz 78956288\n",
      "20251011-1953-nano-final.msgpack.xz 79213548\n",
      "20251014-1513-chkp-000008-final.msgpack.xz 78984844\n"
     ]
    }
   ],
   "source": [
    "for fn in data_root.glob(\"models/*.msgpack.xz\"):\n",
    "    print(fn.name, fn.stat().st_size)\n",
    "\n",
    "res = saving.load_model(data_root/\"models\"/\"20251014-2041-nano-chkp-001536.msgpack.xz\")\n",
    "nnx.update(arc_mae, res.state.model)"
   ]
  },
  {
   "cell_type": "code",
   "execution_count": 18,
   "id": "6470de08-e7d0-4f7d-b3e9-d7c921389b76",
   "metadata": {
    "scrolled": true
   },
   "outputs": [
    {
     "name": "stdout",
     "output_type": "stream",
     "text": [
      "decoder.blocks.self_attn.cells.flavour:                          -1.99 -0.58  0.81  0.79\n",
      "decoder.blocks.self_attn.cells.invariant:                        -1.88  0.03  0.87  1.73\n",
      "decoder.blocks.self_attn.cells.space:                            -1.99  0.10  0.84  1.87\n",
      "encoder.main_stack.blocks.self_attn.cells.flavour:               -1.79 -0.17  0.92  1.78\n",
      "encoder.main_stack.blocks.self_attn.cells.invariant:             -1.91  0.04  0.86  1.90\n",
      "encoder.main_stack.blocks.self_attn.cells.space:                 -1.89  0.01  0.84  1.96\n"
     ]
    }
   ],
   "source": [
    "f = \"5.2f\"\n",
    "for k,v in nnx.iter_graph(arc_mae):\n",
    "    if isinstance(v, attention.AxialAttention):\n",
    "        attn = v\n",
    "        for kk,vv in attn.rope_freq_params.items():\n",
    "            print(f\"{\".\".join(k+(kk,))+\":\":64s} {vv.min():{f}} {vv.mean():{f}} {vv.std():{f}} {vv.max():{f}}\")"
   ]
  },
  {
   "cell_type": "code",
   "execution_count": 21,
   "id": "6cfda67f-1362-4d3e-bef9-0da814192366",
   "metadata": {},
   "outputs": [
    {
     "data": {
      "application/vnd.jupyter.widget-view+json": {
       "model_id": "d06c23850f2a46149872eda40e252f04",
       "version_major": 2,
       "version_minor": 0
      },
      "text/plain": [
       "  0%|          | 0/109 [00:00<?, ?it/s]"
      ]
     },
     "metadata": {},
     "output_type": "display_data"
    },
    {
     "name": "stdout",
     "output_type": "stream",
     "text": [
      "Tracing KNNEvaluator._encode for shape (171, 12, 12)\n",
      "Tracing KNNEvaluator._encode for shape (105, 12, 21)\n",
      "Tracing KNNEvaluator._encode for shape (76, 12, 30)\n",
      "Tracing KNNEvaluator._encode for shape (63, 21, 21)\n",
      "Tracing KNNEvaluator._encode for shape (45, 21, 30)\n",
      "Tracing KNNEvaluator._encode for shape (32, 30, 30)\n",
      "(7030, 5120)\n"
     ]
    }
   ],
   "source": [
    "minibatch_size_fn = dataset.MinibatchSizeFunction(\n",
    "    reference_minibatch_size=32,\n",
    "#    reference_image_size=config.reference_image_size,\n",
    "#    base_cost=config.base_cell_cost,\n",
    "#    granularity=1,  # Ensure divisibility for pmap\n",
    ")\n",
    "\n",
    "valid_train_embed = knn_eval.KNNEvaluator(\n",
    "    dataset=valid_train_ds,\n",
    "    batch_size=minibatch_size_fn,\n",
    ")._encode_dataset(arc_mae.encoder, with_progress=True)\n",
    "print(valid_train_embed[0].shape)"
   ]
  },
  {
   "cell_type": "code",
   "execution_count": 23,
   "id": "38efec38-9fe8-40d9-9acf-b652f39f19c2",
   "metadata": {},
   "outputs": [
    {
     "data": {
      "application/vnd.jupyter.widget-view+json": {
       "model_id": "15a311a2286a407c8375070fe04c70ce",
       "version_major": 2,
       "version_minor": 0
      },
      "text/plain": [
       "  0%|          | 0/519 [00:00<?, ?it/s]"
      ]
     },
     "metadata": {},
     "output_type": "display_data"
    },
    {
     "name": "stdout",
     "output_type": "stream",
     "text": [
      "Tracing KNNEvaluator._encode for shape (5, 12, 12)\n",
      "Tracing KNNEvaluator._encode for shape (3, 12, 21)\n",
      "Tracing KNNEvaluator._encode for shape (2, 12, 30)\n",
      "Tracing KNNEvaluator._encode for shape (1, 21, 21)\n",
      "Tracing KNNEvaluator._encode for shape (1, 21, 30)\n",
      "Tracing KNNEvaluator._encode for shape (1, 30, 30)\n",
      "(795, 5120)\n"
     ]
    }
   ],
   "source": [
    "minibatch_size_fn = dataset.MinibatchSizeFunction(\n",
    "    reference_minibatch_size=1,\n",
    "#    reference_image_size=config.reference_image_size,\n",
    "#    base_cost=config.base_cell_cost,\n",
    "#    granularity=1,  # Ensure divisibility for pmap\n",
    ")\n",
    "\n",
    "\n",
    "valid_embed = knn_eval.KNNEvaluator(\n",
    "    dataset=valid_ds,\n",
    "    batch_size=minibatch_size_fn,\n",
    ")._encode_dataset(arc_mae.encoder, with_progress=True)\n",
    "print(valid_embed[0].shape)"
   ]
  },
  {
   "cell_type": "code",
   "execution_count": 99,
   "id": "691ee922-ead9-4a7f-80a1-c9c3feb89bd3",
   "metadata": {},
   "outputs": [
    {
     "data": {
      "text/plain": [
       "<module 'arc25.training.linear_probe' from '/Users/yves/git-private/arc-2025/src/arc25/training/linear_probe.py'>"
      ]
     },
     "execution_count": 99,
     "metadata": {},
     "output_type": "execute_result"
    }
   ],
   "source": [
    "reload(linear_probe)\n",
    "\n",
    "\n",
    "\n"
   ]
  },
  {
   "cell_type": "code",
   "execution_count": null,
   "id": "b0ce4898-d457-4af4-9c13-a8eeb81740eb",
   "metadata": {},
   "outputs": [
    {
     "data": {
      "application/vnd.jupyter.widget-view+json": {
       "model_id": "e6333a762f9f462c9a647418de9f525f",
       "version_major": 2,
       "version_minor": 0
      },
      "text/plain": [
       "  0%|          | 0/400 [00:00<?, ?it/s]"
      ]
     },
     "metadata": {},
     "output_type": "display_data"
    },
    {
     "name": "stdout",
     "output_type": "stream",
     "text": [
      "Optimization terminated successfully.\n",
      "{'lam': 100.0, 'tl': 5.9457855224609375, 'ta': 0.020910385996103287, 'evl': 5.950812339782715, 'eva': 0.013836477883160114}\n",
      "Optimization terminated successfully.\n",
      "{'lam': 46.41588833612773, 'tl': 5.8985724449157715, 'ta': 0.021479375660419464, 'evl': 5.909165859222412, 'eva': 0.013836477883160114}\n",
      "Optimization terminated successfully.\n",
      "{'lam': 21.54434690031882, 'tl': 5.814293384552002, 'ta': 0.02403983101248741, 'evl': 5.835925102233887, 'eva': 0.016352200880646706}\n",
      "Optimization terminated successfully.\n",
      "{'lam': 10.0, 'tl': 5.684855937957764, 'ta': 0.02859175018966198, 'evl': 5.727220058441162, 'eva': 0.023899370804429054}\n",
      "Optimization terminated successfully.\n",
      "{'lam': 4.6415888336127775, 'tl': 5.510209083557129, 'ta': 0.03854907676577568, 'evl': 5.589932918548584, 'eva': 0.028930816799402237}\n",
      "Optimization terminated successfully.\n",
      "{'lam': 2.154434690031882, 'tl': 5.305770397186279, 'ta': 0.05206259340047836, 'evl': 5.445675849914551, 'eva': 0.03522012382745743}\n",
      "Optimization terminated successfully.\n",
      "{'lam': 1.0, 'tl': 5.043275356292725, 'ta': 0.0903271734714508, 'evl': 5.290626049041748, 'eva': 0.05283018946647644}\n",
      "Optimization terminated successfully.\n",
      "{'lam': 0.46415888336127775, 'tl': 4.679527282714844, 'ta': 0.1371266096830368, 'evl': 5.108505725860596, 'eva': 0.056603774428367615}\n",
      "Optimization terminated successfully.\n",
      "{'lam': 0.21544346900318823, 'tl': 4.326696872711182, 'ta': 0.1662873476743698, 'evl': 4.991120338439941, 'eva': 0.06289307773113251}\n",
      "Optimization terminated successfully.\n",
      "{'lam': 0.1, 'tl': 3.979218006134033, 'ta': 0.2011379897594452, 'evl': 4.934235572814941, 'eva': 0.05911949649453163}\n"
     ]
    }
   ],
   "source": [
    "train_tgt = linear_probe.ClassifierFitTarget(\n",
    "    features = valid_train_embed[0],\n",
    "    labels = valid_train_embed[1][:,0],\n",
    ")\n",
    "eval_tgt = linear_probe.ClassifierFitTarget(\n",
    "    features = valid_embed[0],\n",
    "    labels = valid_embed[1][:,0],\n",
    ")\n",
    "\n",
    "probe = linear_probe.ShardedClsFitTarget.prepare(train_tgt)\n",
    "\n",
    "prev_step = 0\n",
    "def callback(step: int, **kw):\n",
    "    global prev_step\n",
    "    pbar.update(max(0,step-prev_step))\n",
    "    pbar.set_postfix(**kw)\n",
    "    prev_step = step\n",
    "\n",
    "maxiter = 2*200\n",
    "classifier = None\n",
    "results = []\n",
    "with tqdm.auto.tqdm(total=maxiter) as pbar:\n",
    "    for lam in 10**np.linspace(-3,2,5*3+1)[::-1]:\n",
    "        classifier, res = probe.fit(\n",
    "            classifier,\n",
    "            lam=lam,\n",
    "            options=dict(maxiter=maxiter),\n",
    "            callback=callback,\n",
    "            method=\"newton-cg\",\n",
    "#            method=\"l-bfgs-b\",\n",
    "        )\n",
    "        print(res.message)\n",
    "        if False:\n",
    "            classifier, res = probe.fit(\n",
    "                classifier,\n",
    "                lam=lam,\n",
    "                options=dict(maxiter=maxiter),\n",
    "                callback=callback,\n",
    "                method=\"trust-krylov\",\n",
    "            )\n",
    "            print(res.message)\n",
    "        tl,ta,evl,eva = np.array([\n",
    "            classifier.evaluate(tgt)\n",
    "            for tgt in [train_tgt, eval_tgt]\n",
    "        ]).ravel()\n",
    "        results.append(r := {k:float(v) for k,v in dict(\n",
    "            lam = lam,\n",
    "            tl = tl,\n",
    "            ta = ta,\n",
    "            evl = evl,\n",
    "            eva = eva,\n",
    "        ).items()})\n",
    "        print(r)"
   ]
  },
  {
   "cell_type": "code",
   "execution_count": null,
   "id": "2bbf6e7f-eb0c-4746-b9be-e4a7441bfe50",
   "metadata": {},
   "outputs": [],
   "source": [
    "df1 = df"
   ]
  },
  {
   "cell_type": "code",
   "execution_count": null,
   "id": "1338cde2-b179-4e28-ab85-464127efb5fd",
   "metadata": {},
   "outputs": [],
   "source": [
    "import pandas as pd\n",
    "\n",
    "df2 = pd.DataFrame(results)"
   ]
  },
  {
   "cell_type": "code",
   "execution_count": 107,
   "id": "d7621db6-ba9a-48e8-9cbd-1a41f033edcb",
   "metadata": {},
   "outputs": [
    {
     "data": {
      "image/png": "[encoded data removed]",
      "text/plain": [
       "<Figure size 1000x1000 with 2 Axes>"
      ]
     },
     "metadata": {},
     "output_type": "display_data"
    }
   ],
   "source": [
    "\n",
    "fig,axes = plt.subplots(2,1,figsize=(6,6),sharex=True)\n",
    "for df in [df1,df2]:\n",
    "    for ax,sfx in zip(axes,[\"l\",\"a\"]):\n",
    "        for k in [\"t\",\"ev\"]:\n",
    "            ax.semilogx(df.lam, getattr(df,k+sfx))"
   ]
  },
  {
   "cell_type": "code",
   "execution_count": 67,
   "id": "88a313c8-9051-4dcc-94df-aed7c0e84e60",
   "metadata": {},
   "outputs": [
    {
     "data": {
      "text/plain": [
       "10"
      ]
     },
     "execution_count": 67,
     "metadata": {},
     "output_type": "execute_result"
    }
   ],
   "source": [
    "import sklearn\n",
    "import time\n",
    "import joblib\n",
    "\n",
    "joblib.cpu_count()"
   ]
  },
  {
   "cell_type": "code",
   "execution_count": null,
   "id": "a0066fe0-fb13-4e72-9f9d-bcde3c3c5a36",
   "metadata": {},
   "outputs": [],
   "source": []
  },
  {
   "cell_type": "code",
   "execution_count": null,
   "id": "f742575a-a1aa-4204-a6cf-fce36814e552",
   "metadata": {},
   "outputs": [],
   "source": [
    "asdf"
   ]
  },
  {
   "cell_type": "code",
   "execution_count": null,
   "id": "06cf7fff-a6e3-4c39-ba76-d99006f0bde5",
   "metadata": {},
   "outputs": [],
   "source": [
    "config = mae_trainer.MAETaskConfig(\n",
    "    seed = 42,\n",
    "    \n",
    "    batch_size = 16,\n",
    "    ref_batch = 16,\n",
    "    minibatch_size = 16,\n",
    "    base_cell_cost = 10, \n",
    "        \n",
    "    learning_rate = 1e-5,\n",
    "    max_num_epochs = 1,\n",
    "    max_num_ref_batches = 128,\n",
    "\n",
    "    warmup_steps = 64,\n",
    "    checkpoint_every_steps = 16,\n",
    "    knn_validation_every_ref_batch = 2,\n",
    "    \n",
    "    mode=\"flat\",\n",
    "    remat=True,\n",
    "    unroll=None,\n",
    "\n",
    "    test_ratio = 0.25,\n",
    "    nonmask_fraction = 0.2,\n",
    "    randomise_fraction = 0.2,\n",
    ")\n",
    "\n"
   ]
  },
  {
   "cell_type": "code",
   "execution_count": null,
   "id": "03ac9175-b3c8-46b1-8bfc-dcca58cb2db6",
   "metadata": {},
   "outputs": [],
   "source": [
    "reload(mae_trainer)\n",
    "\n",
    "# Create collator with proper seed and granularity\n",
    "minibatch_size_fn = dataset.MinibatchSizeFunction(\n",
    "    reference_minibatch_size=32,\n",
    "#    reference_image_size=config.reference_image_size,\n",
    "#    base_cost=config.base_cell_cost,\n",
    "#    granularity=1,  # Ensure divisibility for pmap\n",
    ")\n",
    "\n",
    "batch_spec = dataset.BatchSpec(\n",
    "    target_batch_weight=config.batch_size,\n",
    "    reference_image_size=config.reference_image_size,\n",
    "    # Hard-code area_weight_exponent=0.5 (heuristic: sqrt scaling)\n",
    "    area_weight_exponent=0.5,\n",
    ")\n",
    "\n",
    "collator = dataset.BucketedCollator.make(\n",
    "    dataset=training_ds,\n",
    "    batch_spec=batch_spec,\n",
    "    minibatch_size=minibatch_size_fn,\n",
    "    seed=config.seed,  # Tie dataset seed to training seed\n",
    ")\n",
    "\n",
    "# Initialize trainer\n",
    "trainer = mae_trainer.MAETrainer.make(\n",
    "    config=config,\n",
    "    model=arc_mae,\n",
    "    collator=collator,\n",
    "    num_devices=2,\n",
    "    eval_dataset=eval_ds,\n",
    "    minibatch_size_fn=minibatch_size_fn,\n",
    "    rngs=np.random.default_rng(config.seed),\n",
    "    lr_schedule=None,\n",
    ")\n",
    "\n",
    "reload(arc25_tools)\n",
    "\n",
    "batch = next(iter(trainer.collator.generate()))\n",
    "tmb = batch.minibatches[0]\n",
    "imb, = [SimpleNamespace(**dct) for dct in trainer.prepare_mae_batch([tmb])]\n",
    "fig,axes = plt.subplots(4,4,figsize=(9,9),sharex=\"col\",sharey=\"col\")\n",
    "\n",
    "pred,attn = arc_mae(imb.images, imb.sizes, mask=imb.input_mask, with_attention_maps=True)\n",
    "\n",
    "for i,axe in enumerate(axes.T,0):\n",
    "    s = np.s_[i,:12,:12]\n",
    "    inp = np.where(imb.input_mask[s],imb.images[s],np.nan)\n",
    "    mi = (imb.images[s] == tmb.images[s]) | ~imb.input_mask[s]\n",
    "    tgt = np.where(tmb.masks[s],tmb.images[s],np.nan)\n",
    "    mt = imb.prediction_mask[s]\n",
    "    for ax, (v,m) in zip(axe[:2], [(inp,mi),(tgt,mt)]):\n",
    "        arc25_tools.show_image(v,ax=ax,alpha=np.where(m,1.0,0.6))\n",
    "\n",
    "    p = jax.nn.softmax(pred[s],axis=-1)\n",
    "    for ax,v in zip(\n",
    "        axe[2:],\n",
    "        [\n",
    "            p.max(-1),\n",
    "            np.take_along_axis(p,tmb.images[s][...,None],axis=-1)[...,0]\n",
    "        ],\n",
    "    ):\n",
    "        ax.pcolormesh(v,vmin=0,vmax=1)\n"
   ]
  },
  {
   "cell_type": "code",
   "execution_count": null,
   "id": "938b5199-42d8-4445-8947-ff7c77d4a17f",
   "metadata": {},
   "outputs": [],
   "source": [
    "p = jax.nn.softmax(pred[2,6,:12],axis=-1)\n",
    "for j in range(10):\n",
    "    plt.plot(p[:,j],'o',c=arc25_tools._cmap(j))"
   ]
  },
  {
   "cell_type": "code",
   "execution_count": null,
   "id": "ac413b4f-5d39-476e-940e-6ac6ec93ace3",
   "metadata": {
    "scrolled": true
   },
   "outputs": [],
   "source": [
    "main_cells = attn[\"encoder\"][\"main\"][\"attention_maps\"][\"sa_maps\"][\"cells\"]\n",
    "main_context = attn[\"encoder\"][\"main\"][\"attention_maps\"][\"ca_maps\"][\"cells\"]\n",
    "print(main_cells.shape, main_context.shape)\n",
    "attn_map = np.concatenate([\n",
    "    main_cells.mean((-2,-1))[...,None],\n",
    "    main_cells.reshape(*main_cells.shape[:-2],-1),\n",
    "    main_context.reshape(*main_context.shape[:-1],-1),\n",
    "],axis=-1)\n",
    "print(attn_map.shape)\n",
    "\n",
    "fig,axes = plt.subplots(6,8,figsize=(12,8),sharex=True, sharey=True)\n",
    "i = 1\n",
    "for j,axe in enumerate(axes.T):\n",
    "    for k, ax in enumerate(axe):\n",
    "        v = attn_map[i,j,:11,:14,k]\n",
    "        plt.colorbar(ax.pcolormesh(v),ax=ax)\n"
   ]
  },
  {
   "cell_type": "code",
   "execution_count": null,
   "id": "51645daf-e496-44e0-b327-843a2f808509",
   "metadata": {},
   "outputs": [],
   "source": [
    "perceiver_cells = attn[\"encoder\"][\"perceiver\"][\"attention_maps\"][\"ca_maps\"][\"cells\"]\n",
    "print(perceiver_cells.shape)\n",
    "attn_map = np.concatenate([\n",
    "    perceiver_cells.reshape(*perceiver_cells.shape[:-1],-1),\n",
    "],axis=-1)\n",
    "print(attn_map.shape)\n",
    "\n",
    "fig,axes = plt.subplots(1,3,figsize=(12,3),sharex=True, sharey=True, squeeze=False)\n",
    "i = 1\n",
    "for j,axe in enumerate(axes.T):\n",
    "    for k, ax in enumerate(axe):\n",
    "        v = attn_map[i,j,:11,:14,k]\n",
    "        plt.colorbar(ax.pcolormesh(v),ax=ax)\n"
   ]
  },
  {
   "cell_type": "code",
   "execution_count": null,
   "id": "eda736ff-7bff-4213-8220-3bf4b1926f34",
   "metadata": {},
   "outputs": [],
   "source": [
    "decoder_cells = attn[\"decoder\"][\"attention_maps\"][\"sa_maps\"][\"cells\"]\n",
    "print(decoder_cells.shape)\n",
    "attn_map = np.concatenate([\n",
    "    decoder_cells.mean((-2,-1))[...,None],\n",
    "    decoder_cells.reshape(*decoder_cells.shape[:-2],-1),\n",
    "],axis=-1)\n",
    "print(attn_map.shape)\n",
    "\n",
    "fig,axes = plt.subplots(5,4,figsize=(12,9),sharex=True, sharey=True, squeeze=False)\n",
    "i = 1\n",
    "for j,axe in enumerate(axes.T):\n",
    "    for k, ax in enumerate(axe):\n",
    "        v = attn_map[i,j,:11,:14,k]\n",
    "        plt.colorbar(ax.pcolormesh(v),ax=ax)\n"
   ]
  },
  {
   "cell_type": "code",
   "execution_count": null,
   "id": "8f41487b-d5c8-4ef6-8fd0-0a07f6f1d681",
   "metadata": {},
   "outputs": [],
   "source": [
    "asdfasd"
   ]
  },
  {
   "cell_type": "code",
   "execution_count": null,
   "id": "a8d1c7bd-c02c-47cd-a987-f9ea1c19a8bb",
   "metadata": {},
   "outputs": [],
   "source": [
    "import humanize\n",
    "\n",
    "if False:\n",
    "    layer = arc_mae.encoder.main_stack.blocks\n",
    "    gs,state = nnx.split(layer)\n",
    "    state = jax.tree.map(lambda v:v[0],state)\n",
    "    layer = nnx.merge(gs,state)\n",
    "    \n",
    "    x = width.make_empty(batch=(1,),shape=(30,30))\n",
    "    def test_fun(model,x,**kw):\n",
    "        return model(x,**kw,mode=mode)\n",
    "    def unpack(obj,path=()):\n",
    "        match obj:\n",
    "            case SimpleNamespace():\n",
    "                yield from unpack(vars(obj),path)\n",
    "            case dict():\n",
    "                for k,v in obj.items():\n",
    "                    yield from unpack(v,path+(k,))\n",
    "            case SymDecompLinear():\n",
    "                yield path,obj.approximate_flops\n",
    "            case nnx.Linear():\n",
    "                yield path,obj.kernel.size\n",
    "            case _:\n",
    "                print(f\"Ignoring {type(obj).__name__}\")\n",
    "    if True:\n",
    "        attn = layer.self_attn.cells\n",
    "        tot = 0\n",
    "        for k,v in unpack(dict(q=attn.q,k=attn.k,v=attn.v,out=attn.out)):\n",
    "            N = 30\n",
    "            fac = N*N\n",
    "            tot += v*fac\n",
    "            print(f\"{'.'.join(k)}: {humanize.naturalsize(v*fac)}\")\n",
    "        print(f\"Total attention projections: {humanize.naturalsize(tot)}\")\n",
    "    for mode in [None,\"split\",\"flat\"]:\n",
    "        print(f\">> Mode: {mode}\")\n",
    "        compiled = nnx.jit(test_fun).trace(layer.self_attn.cells,x.cells,grid=x.grid,deterministic=True).lower().compile()\n",
    "        print(f\"Total attn: {humanize.naturalsize(compiled.cost_analysis()[\"flops\"])}\")\n",
    "        compiled = nnx.jit(test_fun).trace(layer.swiglu.cells,x.cells,rngs=nnx.Rngs(0)).lower().compile()\n",
    "        print(f\"Total SwiGLU: {humanize.naturalsize(compiled.cost_analysis()[\"flops\"])}\")\n",
    "        compiled = nnx.jit(test_fun).trace(layer,x,rngs=nnx.Rngs(0)).lower().compile()\n",
    "        print(f\"Total Layer: {humanize.naturalsize(compiled.cost_analysis()[\"flops\"])}\")"
   ]
  },
  {
   "cell_type": "code",
   "execution_count": null,
   "id": "254284da-1dac-4958-8642-041bea326a38",
   "metadata": {
    "scrolled": true
   },
   "outputs": [],
   "source": [
    "import humanize\n",
    "\n",
    "\n",
    "def print_stats(stats,path=()):\n",
    "    for k,v in vars(stats).items():\n",
    "        p = path+(k,)\n",
    "        if isinstance(v, SimpleNamespace):\n",
    "            print_stats(v, p)\n",
    "            continue\n",
    "        if v is None:\n",
    "            continue\n",
    "        if p[0] == \"model\":\n",
    "            va = {\"\":v}\n",
    "        else:\n",
    "            va = dict(batch=v,example=v/config.global_batch_size)\n",
    "        msg = []\n",
    "        for kk,vv in va.items():\n",
    "            if \"bytes\" in k:\n",
    "                n = humanize.naturalsize(vv,binary=True)\n",
    "            else:\n",
    "                n = humanize.naturalsize(vv,gnu=True,format=\"%.1f \")\n",
    "                if n.endswith(\"B\"):\n",
    "                    n = n[:-1]+\" \"\n",
    "            if \"flops\" in k:\n",
    "                n += \"FLOPs\"\n",
    "            if kk:\n",
    "                n += f\" ({kk})\"\n",
    "            msg.append(n)\n",
    "        n = \"\".join(f\"{n:25s}\" for n in msg)\n",
    "        print(f\"{'.'.join(p):32s}: {n}\")\n",
    "\n",
    "if False:\n",
    "    ts = mae_trainer.TrainState.make(model=arc_mae, config=config, rngs=nnx.Rngs(0))\n",
    "    stats = SimpleNamespace(model=ts.model_stats(),batch=ts.batch_stats())\n",
    "    leaves = [\n",
    "        a for p in width.make_empty(\n",
    "            batch=(config.global_batch_size,),\n",
    "            shape=(30,30),\n",
    "        ).projections.values() for a in p.representations.values()\n",
    "    ]\n",
    "    stats.fields = SimpleNamespace(params=sum(a.size for a in leaves),bytes=sum(a.nbytes for a in leaves))\n",
    "    print_stats(stats)"
   ]
  },
  {
   "cell_type": "code",
   "execution_count": null,
   "id": "56eb2cae-8adb-437a-ae5a-6eed6451f550",
   "metadata": {},
   "outputs": [],
   "source": [
    "reload(knn_eval)\n",
    "reload(mae_trainer)\n",
    "\n",
    "if True:\n",
    "    train_state, stats = mae_trainer.MAETrainer.main(\n",
    "        model=arc_mae,\n",
    "        config=config,\n",
    "        dataset=training_ds,\n",
    "        eval_dataset=eval_ds,\n",
    "        run_name=\"test-run\",\n",
    "        checkpoint_dir=data_root/\"models\",\n",
    "    )"
   ]
  },
  {
   "cell_type": "code",
   "execution_count": null,
   "id": "7100ef01-445f-4b28-9c2b-223cba7319df",
   "metadata": {},
   "outputs": [],
   "source": [
    "np.eye(4,dtype=bool)"
   ]
  },
  {
   "cell_type": "code",
   "execution_count": null,
   "id": "47732173-b334-4a5c-b812-a7713e80cfac",
   "metadata": {},
   "outputs": [],
   "source": [
    "%debug"
   ]
  },
  {
   "cell_type": "code",
   "execution_count": null,
   "id": "cc88eb0b-8b3e-4996-89d5-e906fb06fd0f",
   "metadata": {},
   "outputs": [],
   "source": [
    "asdfas"
   ]
  },
  {
   "cell_type": "code",
   "execution_count": null,
   "id": "d384bf64-d307-43f1-b041-8580836a9c14",
   "metadata": {},
   "outputs": [],
   "source": [
    "ds = make_dataset(4*30**2, multiplier=1, mask_ratio=0.4, rngs=nnx.Rngs(42))\n",
    "batch, _, _ = next(ds)\n",
    "out, stats = arc_mae(batch[\"image\"],batch[\"size\"], mask=batch[\"input_mask\"], with_stats=True)"
   ]
  },
  {
   "cell_type": "code",
   "execution_count": null,
   "id": "b07471f5-7ec8-44cf-a60b-0f4a8d91fcc2",
   "metadata": {},
   "outputs": [],
   "source": [
    "i = 2\n",
    "fig,axes = plt.subplots(1,3,figsize=(12,3))\n",
    "img = batch[\"image\"][i]\n",
    "im = batch[\"input_mask\"][i]\n",
    "pm = batch[\"prediction_mask\"][i]\n",
    "for ax,v in zip(axes,[np.where(im|pm,img,np.nan),np.where(im,img,np.nan),np.where(pm,img,np.nan)]):\n",
    "    ax.pcolormesh(v)"
   ]
  },
  {
   "cell_type": "code",
   "execution_count": null,
   "id": "7511ddf2-7d4a-4abb-b477-28ba1d3995e8",
   "metadata": {},
   "outputs": [],
   "source": [
    "p = jax.nn.softmax(out[i],axis=-1)\n",
    "v = p\n",
    "fig,axes = plt.subplots(2,5,figsize=(12,3))\n",
    "for j,ax in enumerate(axes.ravel()[:10]):\n",
    "    plt.colorbar(ax.pcolormesh(np.where(pm,v[...,j],np.nan),vmin=0,vmax=1))"
   ]
  },
  {
   "cell_type": "code",
   "execution_count": null,
   "id": "e6b2e4dd-4f43-45be-b1ac-c267ccba2c4a",
   "metadata": {},
   "outputs": [],
   "source": []
  }
 ],
 "metadata": {
  "kernelspec": {
   "display_name": "Python 3 (ipykernel)",
   "language": "python",
   "name": "python3"
  },
  "language_info": {
   "codemirror_mode": {
    "name": "ipython",
    "version": 3
   },
   "file_extension": ".py",
   "mimetype": "text/x-python",
   "name": "python",
   "nbconvert_exporter": "python",
   "pygments_lexer": "ipython3",
   "version": "3.13.7"
  }
 },
 "nbformat": 4,
 "nbformat_minor": 5
}
