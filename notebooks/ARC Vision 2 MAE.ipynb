{
 "cells": [
  {
   "cell_type": "code",
   "execution_count": 1,
   "id": "e92cc294-fc57-4ca6-a250-317eeeba70b3",
   "metadata": {},
   "outputs": [],
   "source": [
    "import typing\n",
    "import lzma\n",
    "import os\n",
    "import dataclasses\n",
    "import itertools\n",
    "import functools\n",
    "from importlib import reload\n",
    "from pathlib import Path\n",
    "from types import MappingProxyType, SimpleNamespace\n",
    "\n",
    "import cbor2\n",
    "import attrs\n",
    "import tqdm.auto\n",
    "import jax\n",
    "import jax.numpy as jnp\n",
    "from flax import nnx\n",
    "import optax\n",
    "import jaxtyping as jt\n",
    "import numpy as np\n",
    "import pandas as pd\n",
    "import matplotlib.pyplot as plt\n",
    "\n",
    "from arc25 import symmetry\n",
    "from arc25.symmetry import D4, transform_vector\n",
    "from arc25 import serialisation\n",
    "from arc25.dsl.types import Vector, Dir4\n",
    "from arc25.vision2.symrep import SymDecompBase, SplitSymDecomp, SymDecompDims, standard_rep, RepSpec\n",
    "from arc25.vision2.fields import FieldDims, CoordinateGrid\n",
    "from arc25.vision2.linear import SpaceSymmetricLinear, SpaceSymmetricTensor, SymmetryMappingSpec, SymDecompLinear\n",
    "from arc25.vision2 import fields, attention, encoder, transformer, mae, swiglu\n",
    "from arc25.training import saving, dataset, mae as mae_trainer, knn_eval"
   ]
  },
  {
   "cell_type": "code",
   "execution_count": 2,
   "id": "62411ecc-c33b-4af9-b2b6-71b6674fd2d0",
   "metadata": {},
   "outputs": [],
   "source": [
    "\n",
    "os.environ[\"XLA_FLAGS\"]=\"--xla_force_host_platform_device_count=2\""
   ]
  },
  {
   "cell_type": "code",
   "execution_count": 3,
   "id": "0b3311db-eae3-47d7-8f69-d33385ca5397",
   "metadata": {},
   "outputs": [],
   "source": [
    "proj_root = Path(\"..\").resolve()\n",
    "data_root = proj_root / \"data\""
   ]
  },
  {
   "cell_type": "code",
   "execution_count": 4,
   "id": "88c231a9-b644-4e2c-8b58-0390f28bb7c1",
   "metadata": {},
   "outputs": [],
   "source": [
    "src_dataset = dataset.ImagesDataset.load_compressed_cbor(data_root/ \"repack/re-arc.cbor.xz\")"
   ]
  },
  {
   "cell_type": "code",
   "execution_count": 5,
   "id": "bfeadae7-4ff1-442f-94c9-993d49290d59",
   "metadata": {},
   "outputs": [
    {
     "data": {
      "text/plain": [
       "<matplotlib.colorbar.Colorbar at 0x14c2052b0>"
      ]
     },
     "execution_count": 5,
     "metadata": {},
     "output_type": "execute_result"
    },
    {
     "data": {
      "image/png": "[encoded data removed]",
      "text/plain": [
       "<Figure size 640x480 with 2 Axes>"
      ]
     },
     "metadata": {},
     "output_type": "display_data"
    }
   ],
   "source": [
    "\n",
    "size_counts = src_dataset.size_counts(max_size=(30,30))\n",
    "\n",
    "plt.pcolormesh(size_counts,norm=\"log\")\n",
    "plt.axis(\"square\")\n",
    "plt.colorbar()\n"
   ]
  },
  {
   "cell_type": "code",
   "execution_count": 6,
   "id": "b055ff8c-79ed-4e26-84a5-a2db1dd88d04",
   "metadata": {},
   "outputs": [
    {
     "name": "stdout",
     "output_type": "stream",
     "text": [
      "With N=2, waste 199.2/422.9 M (efficiency 52.9 %) with [16 30]\n",
      "With N=3, waste 121.2/344.9 M (efficiency 64.9 %) with [12 21 30]\n",
      "With N=4, waste 86.3/310.0 M (efficiency 72.2 %) with [11 17 24 30]\n",
      "With N=5, waste 64.7/288.4 M (efficiency 77.6 %) with [ 8 14 20 25 30]\n",
      "With N=6, waste 50.7/274.4 M (efficiency 81.5 %) with [ 7 12 16 20 25 30]\n",
      "With N=7, waste 41.5/265.3 M (efficiency 84.3 %) with [ 6 11 15 19 23 26 30]\n"
     ]
    }
   ],
   "source": [
    "import numba\n",
    "\n",
    "def brute(size_counts,N=4):\n",
    "    i = np.arange(1,31)\n",
    "    ccounts = np.cumsum(np.cumsum(size_counts,axis=0),axis=1)\n",
    "    ncells = i[:,None]*i\n",
    "    total_cells = size_counts*ncells\n",
    "    ccells = np.cumsum(np.cumsum(total_cells,axis=0),axis=1)\n",
    "    mx = 30\n",
    "    useful = ccells[mx-1,mx-1]\n",
    "    cc = np.zeros((mx+1, mx+1),int)\n",
    "    cc[1:,1:] = ccounts\n",
    "    best, bestb = brute_impl(cc,mx,N)\n",
    "    return useful, best, bestb\n",
    "    \n",
    "@numba.njit\n",
    "def brute_impl(ccounts,mx,N):\n",
    "    best = 30**2*ccounts[-1,-1]\n",
    "    bestb = np.zeros(N,dtype=np.int_)\n",
    "    j = np.arange(N+1, dtype=np.int64)\n",
    "    j[-1] = mx\n",
    "    while True:\n",
    "        cc = ccounts[j,:][:,j]\n",
    "        bc = cc[1:]-cc[:-1]\n",
    "        bcnt = bc[:,1:]-bc[:,:-1]\n",
    "        bsz = j[1:,None]*j[1:]\n",
    "        spent = np.sum(bcnt*bsz)\n",
    "        if spent < best:\n",
    "            best = spent\n",
    "            bestb = j[1:].copy()\n",
    "\n",
    "        i = N-1\n",
    "        # find rightmost position that can be incremented\n",
    "        while i > 0 and j[i]+1 == j[i+1]:\n",
    "            i -= 1\n",
    "        if i <= 0:\n",
    "            # already at the last combination\n",
    "            break\n",
    "        j[i] += 1\n",
    "        # reset the tail to the minimal ascending values\n",
    "        while i+1<N:\n",
    "            j[i+1] = j[i] + 1\n",
    "            i += 1\n",
    "        \n",
    "    return best, bestb\n",
    "\n",
    "orthocost = []\n",
    "for N in range(2,8):\n",
    "    n_useful, n_spent, best = brute(size_counts, N=N)\n",
    "    print(f\"With {N=}, waste {(n_spent-n_useful)/1e6:.1f}/{n_spent/1e6:.1f} M (efficiency {100*n_useful/n_spent:.1f} %) with {best}\")\n",
    "    orthocost.append((N*(N+1)//2,n_spent))\n",
    "\n",
    "orthocost = np.array(orthocost).T"
   ]
  },
  {
   "cell_type": "code",
   "execution_count": 7,
   "id": "2345bc5d-0f08-4cf0-84d1-2d9c2f553dd1",
   "metadata": {},
   "outputs": [
    {
     "data": {
      "text/plain": [
       "array([[30, 30],\n",
       "       [15, 29],\n",
       "       [11, 19],\n",
       "       [21, 30],\n",
       "       [17, 22],\n",
       "       [ 7, 12],\n",
       "       [ 9, 30],\n",
       "       [25, 29],\n",
       "       [20, 25],\n",
       "       [13, 24]])"
      ]
     },
     "execution_count": 7,
     "metadata": {},
     "output_type": "execute_result"
    },
    {
     "data": {
      "image/png": "[encoded data removed]",
      "text/plain": [
       "<Figure size 640x480 with 1 Axes>"
      ]
     },
     "metadata": {},
     "output_type": "display_data"
    }
   ],
   "source": [
    "@numba.njit\n",
    "def greedy_buckets(C, K):\n",
    "    m, n = C.shape  # expect 30x30\n",
    "\n",
    "    chosen = np.zeros((m, n), dtype=np.uint8)\n",
    "\n",
    "    M = np.full((m, n), m*n, dtype=np.int64)\n",
    "    chosen[m-1, n-1] = 1\n",
    "    used = 1\n",
    "\n",
    "    total_budget = max(1, K)\n",
    "\n",
    "    buckets = np.empty((total_budget, 2), dtype=np.int64)\n",
    "    total_cost = np.empty(total_budget, dtype=np.int64)\n",
    "    buckets[0,:] = (m,n)\n",
    "    total_cost[0] = m*n*C.sum()\n",
    "    \n",
    "    while used < total_budget:\n",
    "        best_gain = 0\n",
    "        bi = bj = -1\n",
    "\n",
    "        for i in range(m):\n",
    "            for j in range(n):\n",
    "                if chosen[i, j]:\n",
    "                    continue\n",
    "                a = (i+1)*(j+1)\n",
    "                # marginal gain over rectangle [0..i]x[0..j]\n",
    "                gain = 0\n",
    "                for u in range(i+1):\n",
    "                    for v in range(j+1):\n",
    "                        diff = M[u, v] - a\n",
    "                        if diff > 0:\n",
    "                            gain += C[u, v] * diff\n",
    "                if gain > best_gain:\n",
    "                    best_gain = gain\n",
    "                    bi, bj = i, j\n",
    "\n",
    "        if best_gain <= 0 or bi < 0:\n",
    "            break\n",
    "\n",
    "        # commit the best candidate, update M and parents\n",
    "        chosen[bi, bj] = 1\n",
    "        a = (bi+1)*(bj+1)\n",
    "        for u in range(bi+1):\n",
    "            for v in range(bj+1):\n",
    "                if a < M[u, v]:\n",
    "                    M[u, v] = a\n",
    "\n",
    "        buckets[used,:] = (bi+1,bj+1)\n",
    "        total_cost[used] = (M*C).sum()\n",
    "        \n",
    "        used += 1\n",
    "\n",
    "    return buckets, total_cost\n",
    "\n",
    "buckets, total_cost = greedy_buckets(size_counts,100)\n",
    "i = np.r_[1:31]\n",
    "upper = i[:,None] > i\n",
    "ssc = np.where(~upper,size_counts,0)+np.where(upper,size_counts,0).T\n",
    "sbuckets, stotal_cost = greedy_buckets(ssc,100)\n",
    "\n",
    "train_examples = 4096 * 256\n",
    "train_fraction = train_examples / size_counts.sum()\n",
    "train_cell_rate = 30**2 * 79\n",
    "compile_time = 6*60 # seconds\n",
    "\n",
    "est_time = lambda y,x=None: (train_fraction*y/train_cell_rate + (np.r_[1:len(y)+1] if x is None else x)*compile_time)/60\n",
    "\n",
    "\n",
    "plt.semilogx(est_time(total_cost),marker=\".\")\n",
    "plt.plot(est_time(stotal_cost),marker=\".\")\n",
    "plt.plot(orthocost[0],est_time(orthocost[1],orthocost[0]),marker=\".\")\n",
    "#plt.axhline((i[:,None]*i*size_counts).sum(),c=\"r\")\n",
    "sbuckets[:10]"
   ]
  },
  {
   "cell_type": "code",
   "execution_count": 8,
   "id": "9d849b25-dad7-461b-a0e4-97af2114f58e",
   "metadata": {},
   "outputs": [
    {
     "name": "stdout",
     "output_type": "stream",
     "text": [
      "{(30, 30): 800}\n",
      "{(30, 30): 798942}\n"
     ]
    }
   ],
   "source": [
    "eval_split, train_split = src_dataset.split_by_challenge(\n",
    "    np.random.default_rng(seed=42),\n",
    "    n_min=2,\n",
    ")\n",
    "\n",
    "size_cuts = [12, 21, 30]\n",
    "#size_cuts = [8,12,16,24,30]\n",
    "size_cuts = [30]\n",
    "\n",
    "eval_ds = dataset.BucketedDataset.make(\n",
    "    eval_split,\n",
    "#    [(30,30)],\n",
    "    set(itertools.product(size_cuts, size_cuts)),\n",
    ")\n",
    "print({k:v.n_examples for k,v in eval_ds.buckets.items()})\n",
    "\n",
    "training_ds = dataset.BucketedDataset.make(\n",
    "    train_split,\n",
    "    set(itertools.product(size_cuts, size_cuts)),\n",
    ")\n",
    "print({k:v.n_examples for k,v in training_ds.buckets.items()})\n"
   ]
  },
  {
   "cell_type": "code",
   "execution_count": 9,
   "id": "847c36d2-3558-4cec-91b0-2beeec1703a2",
   "metadata": {},
   "outputs": [],
   "source": [
    "width = FieldDims(\n",
    "    context = SymDecompDims(\n",
    "        space = 2*16,   # 8x2 = 16   \n",
    "        flavour = 1*16, # 10x1 = 10\n",
    "        invariant= 14*16, # 1x14 -> 40*16\n",
    "    ),\n",
    "    cells = SymDecompDims(\n",
    "        space = 2*8,\n",
    "        flavour = 1*8,\n",
    "        invariant = 22*8, # -> 48*8\n",
    "    ),\n",
    "    context_tokens = 2,\n",
    ")\n",
    "    \n",
    "arc_mae = mae.MaskedAutoencoder(\n",
    "    num_heads=8,\n",
    "    num_groups=2,\n",
    "    num_layers=8,\n",
    "    num_perceiver_layers=3,\n",
    "    num_perceiver_tokens=8,\n",
    "    num_decoder_layers=4,\n",
    "    hidden_size=width,\n",
    "    swiglu_width_factor=8/3,\n",
    "    qk_head_width=SymDecompDims(\n",
    "        space = 3 * 8,  # 1x3x8\n",
    "        flavour = 1 * 4,  # 10x1x4 = 5x1x8 \n",
    "        invariant = 4 * 8, # 1*4*8 -> 12x8\n",
    "        rep=RepSpec(symmetry.ChiralityRep, 10)\n",
    "    ),\n",
    "    v_head_width=SymDecompDims(\n",
    "        space = 2*4,\n",
    "        flavour = 1*4,\n",
    "        invariant = 14*4,\n",
    "    ),\n",
    "    use_chirality_rep=False,\n",
    "    per_head_rope_freq=False,\n",
    "    dtype=jnp.float32,\n",
    "    rngs=nnx.Rngs(42),\n",
    ")"
   ]
  },
  {
   "cell_type": "code",
   "execution_count": 10,
   "id": "afe60b7c-9248-4c5b-ae90-ebd6ea2e67ba",
   "metadata": {},
   "outputs": [
    {
     "name": "stdout",
     "output_type": "stream",
     "text": [
      "20251011-2032-nano-1638.msgpack.xz 78541580\n",
      "20251010-1443-nano-cls-final.msgpack.xz 69062808\n",
      "20251010-1443-nano-cls-final-w-config.msgpack.xz 69065832\n",
      "20251014-1444-chkp-000021-final.msgpack.xz 0\n",
      "20251011-2032-nano-final.msgpack.xz 78469648\n",
      "20251014-1444-chkp-000016.msgpack.xz 78994616\n",
      "20251014-1454-chkp-000009-final.msgpack.xz 54744498\n",
      "20251011-1953-nano-final.msgpack.xz 79213548\n"
     ]
    }
   ],
   "source": [
    "for fn in data_root.glob(\"models/*.msgpack.xz\"):\n",
    "    print(fn.name, fn.stat().st_size)\n",
    "\n",
    "res = saving.load_model(data_root/\"models\"/\"20251011-2032-nano-final.msgpack.xz\")\n",
    "#nnx.update(arc_mae, res.state)"
   ]
  },
  {
   "cell_type": "code",
   "execution_count": 18,
   "id": "06cf7fff-a6e3-4c39-ba76-d99006f0bde5",
   "metadata": {},
   "outputs": [],
   "source": [
    "config = mae_trainer.MAETaskConfig(\n",
    "    seed = 42,\n",
    "    \n",
    "    batch_size = 16,\n",
    "    ref_batch = 16,\n",
    "    minibatch_size = 16,\n",
    "    base_cell_cost = 10, \n",
    "        \n",
    "    learning_rate = 3e-4,\n",
    "    max_num_epochs = 1,\n",
    "    max_num_ref_batches = 128,\n",
    "\n",
    "    warmup_steps = 64,\n",
    "    checkpoint_every_steps = 16,\n",
    "    knn_validation_every_ref_batch = 2,\n",
    "    \n",
    "    mode=\"flat\",\n",
    "    remat=True,\n",
    "    unroll=None,\n",
    "\n",
    "    mask_ratio = 0.1,\n",
    ")\n",
    "\n"
   ]
  },
  {
   "cell_type": "code",
   "execution_count": 12,
   "id": "a8d1c7bd-c02c-47cd-a987-f9ea1c19a8bb",
   "metadata": {},
   "outputs": [],
   "source": [
    "import humanize\n",
    "\n",
    "if False:\n",
    "    layer = arc_mae.encoder.main_stack.blocks\n",
    "    gs,state = nnx.split(layer)\n",
    "    state = jax.tree.map(lambda v:v[0],state)\n",
    "    layer = nnx.merge(gs,state)\n",
    "    \n",
    "    x = width.make_empty(batch=(1,),shape=(30,30))\n",
    "    def test_fun(model,x,**kw):\n",
    "        return model(x,**kw,mode=mode)\n",
    "    def unpack(obj,path=()):\n",
    "        match obj:\n",
    "            case SimpleNamespace():\n",
    "                yield from unpack(vars(obj),path)\n",
    "            case dict():\n",
    "                for k,v in obj.items():\n",
    "                    yield from unpack(v,path+(k,))\n",
    "            case SymDecompLinear():\n",
    "                yield path,obj.approximate_flops\n",
    "            case nnx.Linear():\n",
    "                yield path,obj.kernel.size\n",
    "            case _:\n",
    "                print(f\"Ignoring {type(obj).__name__}\")\n",
    "    if True:\n",
    "        attn = layer.self_attn.cells\n",
    "        tot = 0\n",
    "        for k,v in unpack(dict(q=attn.q,k=attn.k,v=attn.v,out=attn.out)):\n",
    "            N = 30\n",
    "            fac = N*N\n",
    "            tot += v*fac\n",
    "            print(f\"{'.'.join(k)}: {humanize.naturalsize(v*fac)}\")\n",
    "        print(f\"Total attention projections: {humanize.naturalsize(tot)}\")\n",
    "    for mode in [None,\"split\",\"flat\"]:\n",
    "        print(f\">> Mode: {mode}\")\n",
    "        compiled = nnx.jit(test_fun).trace(layer.self_attn.cells,x.cells,grid=x.grid,deterministic=True).lower().compile()\n",
    "        print(f\"Total attn: {humanize.naturalsize(compiled.cost_analysis()[\"flops\"])}\")\n",
    "        compiled = nnx.jit(test_fun).trace(layer.swiglu.cells,x.cells,rngs=nnx.Rngs(0)).lower().compile()\n",
    "        print(f\"Total SwiGLU: {humanize.naturalsize(compiled.cost_analysis()[\"flops\"])}\")\n",
    "        compiled = nnx.jit(test_fun).trace(layer,x,rngs=nnx.Rngs(0)).lower().compile()\n",
    "        print(f\"Total Layer: {humanize.naturalsize(compiled.cost_analysis()[\"flops\"])}\")"
   ]
  },
  {
   "cell_type": "code",
   "execution_count": 13,
   "id": "254284da-1dac-4958-8642-041bea326a38",
   "metadata": {
    "scrolled": true
   },
   "outputs": [],
   "source": [
    "import humanize\n",
    "\n",
    "\n",
    "def print_stats(stats,path=()):\n",
    "    for k,v in vars(stats).items():\n",
    "        p = path+(k,)\n",
    "        if isinstance(v, SimpleNamespace):\n",
    "            print_stats(v, p)\n",
    "            continue\n",
    "        if v is None:\n",
    "            continue\n",
    "        if p[0] == \"model\":\n",
    "            va = {\"\":v}\n",
    "        else:\n",
    "            va = dict(batch=v,example=v/config.global_batch_size)\n",
    "        msg = []\n",
    "        for kk,vv in va.items():\n",
    "            if \"bytes\" in k:\n",
    "                n = humanize.naturalsize(vv,binary=True)\n",
    "            else:\n",
    "                n = humanize.naturalsize(vv,gnu=True,format=\"%.1f \")\n",
    "                if n.endswith(\"B\"):\n",
    "                    n = n[:-1]+\" \"\n",
    "            if \"flops\" in k:\n",
    "                n += \"FLOPs\"\n",
    "            if kk:\n",
    "                n += f\" ({kk})\"\n",
    "            msg.append(n)\n",
    "        n = \"\".join(f\"{n:25s}\" for n in msg)\n",
    "        print(f\"{'.'.join(p):32s}: {n}\")\n",
    "\n",
    "if False:\n",
    "    ts = mae_trainer.TrainState.make(model=arc_mae, config=config, rngs=nnx.Rngs(0))\n",
    "    stats = SimpleNamespace(model=ts.model_stats(),batch=ts.batch_stats())\n",
    "    leaves = [\n",
    "        a for p in width.make_empty(\n",
    "            batch=(config.global_batch_size,),\n",
    "            shape=(30,30),\n",
    "        ).projections.values() for a in p.representations.values()\n",
    "    ]\n",
    "    stats.fields = SimpleNamespace(params=sum(a.size for a in leaves),bytes=sum(a.nbytes for a in leaves))\n",
    "    print_stats(stats)"
   ]
  },
  {
   "cell_type": "code",
   "execution_count": 27,
   "id": "56eb2cae-8adb-437a-ae5a-6eed6451f550",
   "metadata": {},
   "outputs": [
    {
     "name": "stdout",
     "output_type": "stream",
     "text": [
      "--- MAE Training ---\n",
      "Devices: 2 × cpu\n",
      "Training batch size: 16 (1 step)\n",
      "Reference step size: 16 (~1.00 steps)\n",
      "Total steps: 128\n",
      "k-NN evaluation: every 2 reference steps\n",
      "Checkpoints: every 16 steps → /Users/yves/git-private/arc-2025/data/models/20251014-1541-chkp-XXXXXX.msgpack.xz\n",
      "----------------------------\n",
      "\n",
      "Starting training...\n"
     ]
    },
    {
     "data": {
      "application/vnd.jupyter.widget-view+json": {
       "model_id": "d394496c36a1467b9160e4b02306b799",
       "version_major": 2,
       "version_minor": 0
      },
      "text/plain": [
       "Training:   0%|          | 0/128 [00:00<?, ?it/s]"
      ]
     },
     "metadata": {},
     "output_type": "display_data"
    },
    {
     "name": "stdout",
     "output_type": "stream",
     "text": [
      "Tracing _compute_grads for shape (2, 30, 30)\n",
      "Tracing _apply_update\n",
      "\n",
      "[Step 3] Running k-NN evaluation...\n"
     ]
    },
    {
     "data": {
      "application/vnd.jupyter.widget-view+json": {
       "model_id": "475d9a5d7a8c4d4bb47409711c2cb17c",
       "version_major": 2,
       "version_minor": 0
      },
      "text/plain": [
       "  0%|          | 0/200 [00:00<?, ?it/s]"
      ]
     },
     "metadata": {},
     "output_type": "display_data"
    },
    {
     "name": "stdout",
     "output_type": "stream",
     "text": [
      "Tracing KNNEvaluator._encode for shape (2, 30, 30)\n",
      "k-NN evaluation completed in 162.3s:\n",
      " challenge k= 1: 0.4913\n",
      " challenge k= 3: 0.0000\n",
      " challenge k= 5: 0.0000\n",
      " challenge k=10: 0.0000\n",
      " candt     k= 1: 0.4913\n",
      " candt     k= 3: 0.0000\n",
      " candt     k= 5: 0.0000\n",
      " candt     k=10: 0.0000\n",
      "\n",
      "[Step 4] Running k-NN evaluation...\n"
     ]
    },
    {
     "data": {
      "application/vnd.jupyter.widget-view+json": {
       "model_id": "fa70110395f8410bb3c79fd9a0a44cc5",
       "version_major": 2,
       "version_minor": 0
      },
      "text/plain": [
       "  0%|          | 0/200 [00:00<?, ?it/s]"
      ]
     },
     "metadata": {},
     "output_type": "display_data"
    },
    {
     "name": "stdout",
     "output_type": "stream",
     "text": [
      "k-NN evaluation completed in 158.4s:\n",
      " challenge k= 1: 0.4738\n",
      " challenge k= 3: 0.0000\n",
      " challenge k= 5: 0.0000\n",
      " challenge k=10: 0.0000\n",
      " candt     k= 1: 0.4738\n",
      " candt     k= 3: 0.0000\n",
      " candt     k= 5: 0.0000\n",
      " candt     k=10: 0.0000\n",
      "\n",
      "[Step 7] Running k-NN evaluation...\n"
     ]
    },
    {
     "data": {
      "application/vnd.jupyter.widget-view+json": {
       "model_id": "0f7d56021dac4ac1aeb9f3b3b0457622",
       "version_major": 2,
       "version_minor": 0
      },
      "text/plain": [
       "  0%|          | 0/200 [00:00<?, ?it/s]"
      ]
     },
     "metadata": {},
     "output_type": "display_data"
    },
    {
     "name": "stdout",
     "output_type": "stream",
     "text": [
      "k-NN evaluation completed in 181.7s:\n",
      " challenge k= 1: 0.4475\n",
      " challenge k= 3: 0.0000\n",
      " challenge k= 5: 0.0000\n",
      " challenge k=10: 0.0000\n",
      " candt     k= 1: 0.4475\n",
      " candt     k= 3: 0.0000\n",
      " candt     k= 5: 0.0000\n",
      " candt     k=10: 0.0000\n",
      "\n",
      "[Step 8] Running k-NN evaluation...\n"
     ]
    },
    {
     "data": {
      "application/vnd.jupyter.widget-view+json": {
       "model_id": "caa22a36e38e4605b03e77b76bae4b02",
       "version_major": 2,
       "version_minor": 0
      },
      "text/plain": [
       "  0%|          | 0/200 [00:00<?, ?it/s]"
      ]
     },
     "metadata": {},
     "output_type": "display_data"
    },
    {
     "name": "stdout",
     "output_type": "stream",
     "text": [
      "\n",
      "Training interrupted by user\n",
      "\n",
      "Saving final checkpoint to 20251014-1541-chkp-000008-final.msgpack.xz...\n",
      "Final checkpoint saved\n",
      "\n",
      "--- Training Finished ---\n",
      "Total time: 867.2s\n",
      "Average throughput: 0.2 weight/s\n"
     ]
    }
   ],
   "source": [
    "reload(knn_eval)\n",
    "reload(mae_trainer)\n",
    "\n",
    "if True:\n",
    "    train_state, stats = mae_trainer.MAETrainer.main(\n",
    "        model=arc_mae,\n",
    "        config=config,\n",
    "        dataset=training_ds,\n",
    "        eval_dataset=eval_ds,\n",
    "        checkpoint_dir=data_root/\"models\",\n",
    "    )"
   ]
  },
  {
   "cell_type": "code",
   "execution_count": 26,
   "id": "7100ef01-445f-4b28-9c2b-223cba7319df",
   "metadata": {},
   "outputs": [
    {
     "data": {
      "text/plain": [
       "array([[ True, False, False, False],\n",
       "       [False,  True, False, False],\n",
       "       [False, False,  True, False],\n",
       "       [False, False, False,  True]])"
      ]
     },
     "execution_count": 26,
     "metadata": {},
     "output_type": "execute_result"
    }
   ],
   "source": [
    "np.eye(4,dtype=bool)"
   ]
  },
  {
   "cell_type": "code",
   "execution_count": 15,
   "id": "47732173-b334-4a5c-b812-a7713e80cfac",
   "metadata": {},
   "outputs": [
    {
     "name": "stdout",
     "output_type": "stream",
     "text": [
      "> \u001b[32m/Users/yves/git-private/arc-2025/src/arc25/training/knn_eval.py\u001b[39m(\u001b[92m57\u001b[39m)\u001b[36mevaluate\u001b[39m\u001b[34m()\u001b[39m\n",
      "\u001b[32m     55\u001b[39m         \u001b[38;5;66;03m# compute nearest neighbours\u001b[39;00m\n",
      "\u001b[32m     56\u001b[39m         nearest_indices = np.argsort(-similarity, axis=-\u001b[32m1\u001b[39m)[:, : max(self.k_values)]\n",
      "\u001b[32m---> 57\u001b[39m         neighbor_labels = labels[nearest_indices]\n",
      "\u001b[32m     58\u001b[39m         is_same = neighbor_labels == labels[:, \u001b[38;5;28;01mNone\u001b[39;00m, :]\n",
      "\u001b[32m     59\u001b[39m         is_same[..., \u001b[32m1\u001b[39m] &= is_same[..., \u001b[32m0\u001b[39m]\n",
      "\n"
     ]
    },
    {
     "name": "stdin",
     "output_type": "stream",
     "text": [
      "ipdb>  p similarity.shape\n"
     ]
    },
    {
     "name": "stdout",
     "output_type": "stream",
     "text": [
      "(800, 800)\n"
     ]
    },
    {
     "name": "stdin",
     "output_type": "stream",
     "text": [
      "ipdb>  p nearest_indices.shape, nearest_indices.max()\n"
     ]
    },
    {
     "name": "stdout",
     "output_type": "stream",
     "text": [
      "((800, 10), np.int64(799))\n"
     ]
    },
    {
     "name": "stdin",
     "output_type": "stream",
     "text": [
      "ipdb>  labels.shape\n"
     ]
    },
    {
     "name": "stdout",
     "output_type": "stream",
     "text": [
      "(400, 2)\n"
     ]
    },
    {
     "name": "stdin",
     "output_type": "stream",
     "text": [
      "ipdb>  p embeddings.shape\n"
     ]
    },
    {
     "name": "stdout",
     "output_type": "stream",
     "text": [
      "(800, 5120)\n"
     ]
    },
    {
     "name": "stdin",
     "output_type": "stream",
     "text": [
      "ipdb>  exit\n"
     ]
    },
    {
     "name": "stdout",
     "output_type": "stream",
     "text": [
      "*** WARNING: file '/Users/yves/git-private/arc-2025/src/arc25/training/knn_eval.py' was edited, running stale code until the program is rerun\n"
     ]
    }
   ],
   "source": [
    "%debug"
   ]
  },
  {
   "cell_type": "code",
   "execution_count": null,
   "id": "cc88eb0b-8b3e-4996-89d5-e906fb06fd0f",
   "metadata": {},
   "outputs": [],
   "source": [
    "asdfas"
   ]
  },
  {
   "cell_type": "code",
   "execution_count": null,
   "id": "d384bf64-d307-43f1-b041-8580836a9c14",
   "metadata": {},
   "outputs": [],
   "source": [
    "ds = make_dataset(4*30**2, multiplier=1, mask_ratio=0.4, rngs=nnx.Rngs(42))\n",
    "batch, _, _ = next(ds)\n",
    "out, stats = arc_mae(batch[\"image\"],batch[\"size\"], mask=batch[\"input_mask\"], with_stats=True)"
   ]
  },
  {
   "cell_type": "code",
   "execution_count": null,
   "id": "b07471f5-7ec8-44cf-a60b-0f4a8d91fcc2",
   "metadata": {},
   "outputs": [],
   "source": [
    "i = 2\n",
    "fig,axes = plt.subplots(1,3,figsize=(12,3))\n",
    "img = batch[\"image\"][i]\n",
    "im = batch[\"input_mask\"][i]\n",
    "pm = batch[\"prediction_mask\"][i]\n",
    "for ax,v in zip(axes,[np.where(im|pm,img,np.nan),np.where(im,img,np.nan),np.where(pm,img,np.nan)]):\n",
    "    ax.pcolormesh(v)"
   ]
  },
  {
   "cell_type": "code",
   "execution_count": null,
   "id": "7511ddf2-7d4a-4abb-b477-28ba1d3995e8",
   "metadata": {},
   "outputs": [],
   "source": [
    "p = jax.nn.softmax(out[i],axis=-1)\n",
    "v = p\n",
    "fig,axes = plt.subplots(2,5,figsize=(12,3))\n",
    "for j,ax in enumerate(axes.ravel()[:10]):\n",
    "    plt.colorbar(ax.pcolormesh(np.where(pm,v[...,j],np.nan),vmin=0,vmax=1))"
   ]
  },
  {
   "cell_type": "code",
   "execution_count": null,
   "id": "e6b2e4dd-4f43-45be-b1ac-c267ccba2c4a",
   "metadata": {},
   "outputs": [],
   "source": []
  }
 ],
 "metadata": {
  "kernelspec": {
   "display_name": "Python 3 (ipykernel)",
   "language": "python",
   "name": "python3"
  },
  "language_info": {
   "codemirror_mode": {
    "name": "ipython",
    "version": 3
   },
   "file_extension": ".py",
   "mimetype": "text/x-python",
   "name": "python",
   "nbconvert_exporter": "python",
   "pygments_lexer": "ipython3",
   "version": "3.13.7"
  }
 },
 "nbformat": 4,
 "nbformat_minor": 5
}
