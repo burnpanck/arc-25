{
 "cells": [
  {
   "cell_type": "markdown",
   "id": "56fdafcf-10dd-4e7b-9384-a99c7882e494",
   "metadata": {},
   "source": [
    "# Base token;\n",
    " - invariant: Ci \n",
    " - spatial: R Cs (R=8)\n",
    " - flavours: F Cf (F=10)"
   ]
  },
  {
   "cell_type": "markdown",
   "id": "4082df6f-f491-4d72-8376-267eee903226",
   "metadata": {},
   "source": [
    "# Symmetric linear op\n",
    " - 1:1 token mapping\n",
    " - Respects symmetries; flavours are not mixing, spatial are\n",
    " - May profit from stacking into a single token vector"
   ]
  },
  {
   "cell_type": "markdown",
   "id": "8bbbe24d-f20d-4560-9597-0879d1e572b6",
   "metadata": {},
   "source": []
  },
  {
   "cell_type": "markdown",
   "id": "8b2b75f9-6d6e-4a7f-a87f-cdd8ebcad232",
   "metadata": {},
   "source": [
    "# Axial self-attention\n",
    "- Four self-attention paths with symmetric position encodings (RoPE)\n",
    "- Query and key can follow any subrep expanding linear op (though both must follow the same subrep)\n",
    "- Two options to derive output values:\n",
    "  * Average as a single attention op -> values must be derived through a symmetric linear op\n",
    "  * Average as four separate attention ops, combined through a subrep contracting linear op\n",
    "    -> values can be generated using a matchnig subrep expanding linear op "
   ]
  },
  {
   "cell_type": "markdown",
   "id": "e2d7a8de-bd08-4365-929c-10ac4935495d",
   "metadata": {},
   "source": [
    "# Fields:\n",
    " - cells\n",
    " - row/col headers\n",
    " - global context\n",
    "\n",
    "# Axial self-attention:\n",
    " - 4 axial queries -> four result tokens ->\n",
    "   * representation attention?\n",
    "   * average?\n",
    "   * weighted average?\n",
    "   * \n",
    " - Cell tokens\n",
    "   * -> linear (inv+spatial->4 axial) -> query\n",
    "   * -> linear (inv->inv) -> key\n",
    "   * -> linear (inv+spatial->8 spatial) -> value -> spatial (2 per axial attention query)\n",
    "   * -> linear (inv+flavour->inv+flavour) -> value"
   ]
  },
  {
   "cell_type": "markdown",
   "id": "90601047-9e05-4363-b3d9-91cc17ff8d67",
   "metadata": {},
   "source": [
    "## Symmetry-preserving axial attention\n",
    "Applying any point-symmetry to the input field and representation\n",
    "should be equivalent to applying the point symmetry to the output field and representation\n",
    "\n",
    "A very generic axial attention method computes:\n",
    "$$\n",
    "Y_u\\left[\\vec t\\right] = \\sum_d \\int_\\delta \\sum_v\n",
    "\\underbrace{f_\\delta\\left[ \\sum_{wipqm}\n",
    "X_w\\left[\\vec t\\right] Q^w_{ivdp} \\phi_{pq}(\\delta') K^m_{ivdq} X_m\\left[\\vec t+\\delta' \\hat u_d\\right]\n",
    "\\right]}_{f_{vd}[X;t,\\delta]\\,\\text{= attention weight of head}\\,d,v}\n",
    "\\sum_n V^n_{uvd} X_n\\left[\\vec t+\\delta \\hat u_d\\right],\n",
    "$$\n",
    "where $f_\\delta[g(\\delta')]$ is a functional computing a value as $f_\\delta[g(\\delta')] = f_1(g(\\delta)) \\cdot f_2(\\int_{\\delta'} g(\\delta'))$."
   ]
  },
  {
   "cell_type": "markdown",
   "id": "3ef9d430-9a69-4f32-b59e-1a66d0c0a001",
   "metadata": {},
   "source": [
    "Symmetry invariance with respect to D4 symmetry op $s$ requires\n",
    "$$\n",
    "\\begin{align}\n",
    "R^Y_{uw}(s) Y_w\\left[R^{-1}(s) \\vec t\\right] &= \\sum_d \\int_\\delta \\sum_v\n",
    "f_\\delta\\left[ \\sum_{lwipqmk}\n",
    "X_l\\left[R^{-1}(s) \\vec t\\right] R^X_{wl}(s) Q^w_{ivdp} \\phi_{pq}(\\delta') K^m_{ivdq} R^X_{mk}(s) X_k\\left[R^{-1}(s) \\left( \\vec t+\\delta' \\hat u_d \\right)\\right]\\right]\n",
    "\\sum_{nj} V^n_{uvd} R^X_{nj} (s) X_j\\left[R^{-1}(s) \\left(\\vec t+\\delta \\hat u_d\\right)\\right] \\\\\n",
    "R^Y_{uw} Y_w\\left[\\vec t\\right] &= \\sum_d \\int_\\delta \\sum_v\n",
    "f_\\delta\\left[\\sum_{lwipqmk}\n",
    "X_l\\left[\\vec t\\right] R^X_{wl} Q^w_{ivdp} \\phi_{pq}(\\delta') K^m_{ivdq} R^X_{mk} X_k\\left[ \\vec t+\\delta' R^{-1}(s) \\hat u_d \\right]\\right]\n",
    "\\sum_{nj} V^n_{uvd} R^X_{nj}  X_j\\left[\\vec t+\\delta  R^{-1}(s)  \\hat u_d)\\right],\n",
    "\\end{align}\n",
    "$$\n",
    "where, in the second line, we assumed that $s$ is centered around $\\vec t$, and we removed the $(s)$ argument from the representations $R$ for ease of notation."
   ]
  },
  {
   "cell_type": "markdown",
   "id": "afbf2391-56ca-4639-9bdb-a6c5761dedf2",
   "metadata": {},
   "source": [
    "A sufficient way to achieve this is by making the three tensors $Q$,$K$ and $V$ equivariant under $s$\n",
    "in the following way:\n",
    "$$\n",
    "\\sum_{w'} A^{w'}_{uvd(p)} R^X_{w'w} = \\sum_{u'v'd'} R^U_{uu'} R^V_{vv'} R^D_{dd'} A^{w}_{u'v'd'(p)} \\quad \\forall s,u,v,d,w.\n",
    "$$\n",
    "That means that each of those tensors \"commutes\" with the action of all $s$,\n",
    "where $s$ is applied to each dimension according to their specific representations."
   ]
  },
  {
   "cell_type": "markdown",
   "id": "25a808a4-a868-462a-8fa7-3805cbd77504",
   "metadata": {},
   "source": [
    "The different representations should further fulfil:\n",
    " - The representation $R^X$ of $X$ is fixed through the input representation.\n",
    " - We may want to choose $R^D$ as an axial permutation representation,\n",
    "   such that $R^{-1}(s) \\hat u_d = \\hat u_{s^{-1}\\cdot d}$.\n",
    " - $R^V$ remains completely free, and my be chosen as a trivial representation,\n",
    "   but for the most generality, it should complement $R^D$, e.g. by selecting the parity representation.\n",
    "   For ease of notation, we'll further select another permutation representation.\n",
    " - $R^I$ of $Q$ and $R^I$ of $K$ need to match, but otherwise are free - the trivial representation is fine too!\n"
   ]
  },
  {
   "cell_type": "markdown",
   "id": "76c2fac8-7ac7-43da-aeea-d488209ecea7",
   "metadata": {},
   "source": [
    "With that, we find:\n",
    "$$\n",
    "\\sum_{wipqm} R^X_{wl} Q^w_{ivdp} \\phi_{pq}(\\delta) K^m_{ivdq} R^X_{mk} = \\sum_{ipq}  Q^l_{iv'd'p} \\phi_{pq}(\\delta) K^k_{iv'd'q},\n",
    "\\quad\\text{where}\\, v' = s^{-1} \\cdot v \\,\\text{and}\\, d'= s^{-1} \\cdot d.\n",
    "$$"
   ]
  },
  {
   "cell_type": "markdown",
   "id": "7f04760d-6320-4043-82e8-58fc1dd2bacf",
   "metadata": {},
   "source": [
    "In turn, thus, $f_{vd}[R(s)X;t,\\delta]=f_{v'd'}[X;t,\\delta]$."
   ]
  },
  {
   "cell_type": "markdown",
   "id": "85b1a2bb-cde9-49e3-90e1-8b9291a9d3ee",
   "metadata": {},
   "source": [
    "Inserting into attention, we find\n",
    "$$\n",
    "\\sum_d \\int_\\delta \\sum_v f_{vd}[R(s)X;t,\\delta] V^n_{uvd} R^X_{nj}  X_j\\left[\\vec t+\\delta  R^{-1}(s)  \\hat u_d)\\right] =\n",
    "\\sum_d \\int_\\delta \\sum_v f_{v'd'}[X;t,\\delta] R^U_{uw} V^n_{wv'd'}  X_n\\left[\\vec t+\\delta  \\hat u_{d'}\\right].\n",
    "$$\n",
    "By replacing the summation over $v$ and $d$ with $v'$ and $d'$ respectively,\n",
    "we find that this proves the requirement, iff $R^U \\equiv R^Y$."
   ]
  },
  {
   "cell_type": "code",
   "execution_count": null,
   "id": "415750d2-9227-4203-9010-e9972493809e",
   "metadata": {},
   "outputs": [],
   "source": []
  },
  {
   "cell_type": "markdown",
   "id": "c0f5ca55-3058-4706-a35d-8bdf2aadc5bd",
   "metadata": {},
   "source": [
    "Furthermore, applying the operation $s$ to an input field $X(p)$ has the following effect:\n",
    "$$\n",
    "X'(p) = R_s X(R_s^{-1} p) = \\sum_{uv} |u\\rangle \\langle u| R_s |v\\rangle \\langle v| X(R_s^{-1} p) \\rangle\n",
    "= \\sum_v |s \\cdot v\\rangle \\langle v| X(R_s^{-1} p) \\rangle,\n",
    "$$\n",
    "where the last equality holds for permutation representations."
   ]
  },
  {
   "cell_type": "markdown",
   "id": "bc000711-672b-4402-895e-98ef1e102591",
   "metadata": {},
   "source": [
    "Thus, we require the following to hold:\n",
    "$$\n",
    "\\begin{align}\n",
    "Y'(t) &= \\sum_r |r\\rangle \\int_\\delta p'_r[t,\\delta] \\langle r| V'(t+\\delta) \\rangle \\\\\n",
    "&= \\sum_r |r\\rangle \\int_\\delta p'_r[t,\\delta] \\langle s^{-1} r| V(R_s^{-1} (t+\\delta))  \\rangle  \\\\\n",
    "&= \\sum_{r'} |s\\cdot r'\\rangle \\int_\\delta p'_{s\\cdot r'}[t,\\delta] \\langle r'| V(R_s^{-1} (t+\\delta))  \\rangle  \\\\\n",
    "&= \\sum_{r'} |s\\cdot r'\\rangle \\int_{\\delta'} p'_{s\\cdot r'}[t,R_s \\delta'] \\langle r'| V(R_s^{-1} t+\\delta')  \\rangle  \\\\\n",
    "&= R_s \\sum_{r'} |r'\\rangle \\int_{\\delta'} p'_{s\\cdot r'}[t,R_s \\delta'] \\langle r'| V(R_s^{-1} t+\\delta')  \\rangle  \\\\\n",
    "&= R_s Y(R_s^{-1} t).\n",
    "\\end{align}\n",
    "$$"
   ]
  },
  {
   "cell_type": "markdown",
   "id": "5c576a9f-d182-4f21-8c09-deb3a6a73b84",
   "metadata": {},
   "source": [
    "A sufficient condition for the last equality is $p'_{s\\cdot r'}[t,R_s \\delta'] = p_{r'}[R_s^{-1} t,\\delta']$ everywhere.\n",
    "Starting from the definition, we have\n",
    "$$\n",
    "\\begin{align}\n",
    "p'_{s\\cdot r'}[t, R_s \\delta'] &= w_{s\\cdot r'}[R_s \\delta'] \\cdot\n",
    "\\mathrm{softmax}_\\delta \\left[ \\langle s\\cdot r'| Q'(t) \\rangle\n",
    "\\cdot \\phi_{s\\cdot r'}(R_s \\delta') \\langle s\\cdot r'| K'(t+R_s \\delta')  \\rangle \\right] \\\\\n",
    "&= w_{s\\cdot r'}[R_s \\delta'] \\cdot\n",
    "\\mathrm{softmax}_\\delta \\left[ \\langle r'| Q(R_s^{-1} t) \\rangle\n",
    "\\cdot \\phi_{s\\cdot r'}(R_s \\delta') \\langle r'| K(R_s^{-1} t + \\delta') \\rangle \\right] \\\\\n",
    "\\end{align}\n",
    "$$\n",
    "thus, again, a sufficient condition are $w_{s\\cdot r'}[R_s \\delta'] = w_{r'}[\\delta']$\n",
    "and $\\phi_{s\\cdot r'}(R_s \\delta')=\\phi_{r'}(\\delta')$.\n",
    "This can be implemented by setting $\\phi_r(\\delta) = \\vec \\delta \\cdot R_r \\hat u$, and suitable rotation of $w$."
   ]
  },
  {
   "cell_type": "code",
   "execution_count": null,
   "id": "dd012e2f-5f32-4e3d-b45e-4005e296d6bf",
   "metadata": {},
   "outputs": [],
   "source": []
  }
 ],
 "metadata": {
  "kernelspec": {
   "display_name": "Python 3 (ipykernel)",
   "language": "python",
   "name": "python3"
  },
  "language_info": {
   "codemirror_mode": {
    "name": "ipython",
    "version": 3
   },
   "file_extension": ".py",
   "mimetype": "text/x-python",
   "name": "python",
   "nbconvert_exporter": "python",
   "pygments_lexer": "ipython3",
   "version": "3.13.7"
  }
 },
 "nbformat": 4,
 "nbformat_minor": 5
}
