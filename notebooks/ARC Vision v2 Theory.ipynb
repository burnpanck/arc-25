{
 "cells": [
  {
   "cell_type": "markdown",
   "id": "56fdafcf-10dd-4e7b-9384-a99c7882e494",
   "metadata": {},
   "source": [
    "# Base token;\n",
    " - invariant: Ci \n",
    " - spatial: R Cs (R=8)\n",
    " - flavours: F Cf (F=10)"
   ]
  },
  {
   "cell_type": "markdown",
   "id": "4082df6f-f491-4d72-8376-267eee903226",
   "metadata": {},
   "source": [
    "# Symmetric linear op\n",
    " - 1:1 token mapping\n",
    " - Respects symmetries; flavours are not mixing, spatial are\n",
    " - May profit from stacking into a single token vector"
   ]
  },
  {
   "cell_type": "markdown",
   "id": "8bbbe24d-f20d-4560-9597-0879d1e572b6",
   "metadata": {},
   "source": []
  },
  {
   "cell_type": "markdown",
   "id": "8b2b75f9-6d6e-4a7f-a87f-cdd8ebcad232",
   "metadata": {},
   "source": [
    "# Axial self-attention\n",
    "- Four self-attention paths with symmetric position encodings (RoPE)\n",
    "- Query and key can follow any subrep expanding linear op (though both must follow the same subrep)\n",
    "- Two options to derive output values:\n",
    "  * Average as a single attention op -> values must be derived through a symmetric linear op\n",
    "  * Average as four separate attention ops, combined through a subrep contracting linear op\n",
    "    -> values can be generated using a matchnig subrep expanding linear op "
   ]
  },
  {
   "cell_type": "markdown",
   "id": "e2d7a8de-bd08-4365-929c-10ac4935495d",
   "metadata": {},
   "source": [
    "# Fields:\n",
    " - cells\n",
    " - row/col headers\n",
    " - global context\n",
    "\n",
    "# Axial self-attention:\n",
    " - 4 axial queries -> four result tokens ->\n",
    "   * representation attention?\n",
    "   * average?\n",
    "   * weighted average?\n",
    "   * \n",
    " - Cell tokens\n",
    "   * -> linear (inv+spatial->4 axial) -> query\n",
    "   * -> linear (inv->inv) -> key\n",
    "   * -> linear (inv+spatial->8 spatial) -> value -> spatial (2 per axial attention query)\n",
    "   * -> linear (inv+flavour->inv+flavour) -> value"
   ]
  },
  {
   "cell_type": "code",
   "execution_count": null,
   "id": "0adf44f9-ee4d-4496-93e5-9dd2cdcd6b4f",
   "metadata": {},
   "outputs": [],
   "source": []
  }
 ],
 "metadata": {
  "kernelspec": {
   "display_name": "Python 3 (ipykernel)",
   "language": "python",
   "name": "python3"
  },
  "language_info": {
   "codemirror_mode": {
    "name": "ipython",
    "version": 3
   },
   "file_extension": ".py",
   "mimetype": "text/x-python",
   "name": "python",
   "nbconvert_exporter": "python",
   "pygments_lexer": "ipython3",
   "version": "3.13.7"
  }
 },
 "nbformat": 4,
 "nbformat_minor": 5
}
