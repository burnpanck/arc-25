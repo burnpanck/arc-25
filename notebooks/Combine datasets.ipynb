{
 "cells": [
  {
   "cell_type": "code",
   "execution_count": 1,
   "id": "e55dcc80-ea8a-4ba8-a53a-3e0144930d50",
   "metadata": {},
   "outputs": [],
   "source": [
    "import zipfile\n",
    "import dataclasses\n",
    "import lzma\n",
    "from types import MappingProxyType\n",
    "from pathlib import Path, PurePosixPath\n",
    "\n",
    "import msgpack\n",
    "import cbor2\n",
    "import numpy as np\n",
    "import attrs\n",
    "import yaml\n",
    "import matplotlib.pyplot as plt\n",
    "\n",
    "from arc25 import dataset, serialisation, tools"
   ]
  },
  {
   "cell_type": "code",
   "execution_count": 2,
   "id": "e00c21c2-18cf-4f45-8267-0b33a75664b4",
   "metadata": {},
   "outputs": [],
   "source": [
    "proj_root = Path(\"..\").resolve()\n",
    "data_root = proj_root / \"data\""
   ]
  },
  {
   "cell_type": "code",
   "execution_count": 3,
   "id": "b33ca107-c1c7-4f70-9cfa-20e408d38e36",
   "metadata": {},
   "outputs": [
    {
     "name": "stdout",
     "output_type": "stream",
     "text": [
      "osfstorage-archive.zip\n",
      "ARC-AGI-2-main.zip\n",
      "ARC-AGI-master.zip\n",
      "LARC-main.zip\n",
      "arc-prize-2025.zip\n",
      "ConceptARC-main.zip\n"
     ]
    }
   ],
   "source": [
    "for fn in data_root.glob(\"*.zip\"):\n",
    "    print(fn.name)"
   ]
  },
  {
   "cell_type": "code",
   "execution_count": 4,
   "id": "7b4cd704-adbe-4e27-ba0a-ca26c3b59fea",
   "metadata": {},
   "outputs": [],
   "source": [
    "def canonicalise(chal):\n",
    "    return attrs.evolve(\n",
    "        chal,\n",
    "        train = tuple(sorted(chal.train,key=lambda iop:cbor2.dumps(serialisation.serialise(iop.input)))),\n",
    "        test = tuple(sorted(chal.test,key=lambda iop:cbor2.dumps(serialisation.serialise(iop.input)))),\n",
    "    )\n",
    " "
   ]
  },
  {
   "cell_type": "code",
   "execution_count": 5,
   "id": "ad3e54ca-db65-4530-ade3-8b8e0fa6bcf5",
   "metadata": {},
   "outputs": [],
   "source": [
    "all_challenges = {}\n",
    "all_subsets = {}"
   ]
  },
  {
   "cell_type": "code",
   "execution_count": 6,
   "id": "64783322-1e04-4541-8ce1-8d590ec0a9f4",
   "metadata": {},
   "outputs": [],
   "source": [
    "ds_name = \"concept-arc\"\n",
    "ds_root = data_root/\"ConceptARC-main.zip\"\n",
    "subdsi = {}\n",
    "with zipfile.ZipFile(ds_root,\"r\") as zfh:\n",
    "    for zfi in sorted(zfh.filelist,key=lambda zfi:zfi.filename):\n",
    "        fn = PurePosixPath(zfi.filename)\n",
    "        if not fn.suffix == \".json\":\n",
    "            continue\n",
    "        if not fn.parts[:2] == (\"ConceptARC-main\",\"corpus\"):\n",
    "            continue\n",
    "        subds = fn.parts[2]\n",
    "        i = subdsi.setdefault(subds,len(subdsi))\n",
    "        name = fn.with_suffix(\"\").name\n",
    "        assert name.startswith(subds)\n",
    "        cid = f\"ca-{i:02d}-{int(name[len(subds):]):02d}\"\n",
    "        data = dataset.load_json(ds_root,zfi.filename)\n",
    "        chal = canonicalise(dataset.parse_inputs(\n",
    "            data,\n",
    "            id = cid,\n",
    "        ))\n",
    "        key = cbor2.dumps(serialisation.serialise(chal))\n",
    "        ods,_ = all_challenges.setdefault(cid,{}).setdefault(key,(set(),chal))\n",
    "        dsn = f\"{ds_name}\"\n",
    "        ods.add(dsn)\n",
    "        all_subsets.setdefault(dsn,set()).add(cid)"
   ]
  },
  {
   "cell_type": "code",
   "execution_count": 7,
   "id": "2a746d7d-b49b-44a0-95ab-96aeb28eb042",
   "metadata": {},
   "outputs": [],
   "source": [
    "ds_name = \"arc-agi-1\"\n",
    "ds_root = data_root/\"ARC-AGI-master.zip\"\n",
    "with zipfile.ZipFile(ds_root,\"r\") as zfh:\n",
    "    for zfi in zfh.filelist:\n",
    "        fn = PurePosixPath(zfi.filename)\n",
    "        if not fn.suffix == \".json\":\n",
    "            continue\n",
    "        assert fn.parts[:2] == (\"ARC-AGI-master\",\"data\")\n",
    "        subds = fn.parts[2]\n",
    "        cid = fn.with_suffix(\"\").name\n",
    "        data = dataset.load_json(ds_root,zfi.filename)\n",
    "        assert data.pop(\"name\",cid) == cid\n",
    "        chal = canonicalise(dataset.parse_inputs(\n",
    "            data,\n",
    "            id = cid,\n",
    "        ))\n",
    "        key = cbor2.dumps(serialisation.serialise(chal))\n",
    "        ods,_ = all_challenges.setdefault(cid,{}).setdefault(key,(set(),chal))\n",
    "        dsn = f\"{ds_name}.{subds}\"\n",
    "        ods.add(dsn)\n",
    "        all_subsets.setdefault(dsn,set()).add(cid)"
   ]
  },
  {
   "cell_type": "code",
   "execution_count": 8,
   "id": "2af6f3c4-0ce8-4e89-ba29-7e21c9fea140",
   "metadata": {},
   "outputs": [],
   "source": [
    "ds_name = \"arc-agi-2\"\n",
    "ds_root = data_root/\"ARC-AGI-2-main.zip\"\n",
    "with zipfile.ZipFile(ds_root,\"r\") as zfh:\n",
    "    for zfi in zfh.filelist:\n",
    "        fn = PurePosixPath(zfi.filename)\n",
    "        if not fn.suffix == \".json\":\n",
    "            continue\n",
    "        assert fn.parts[:2] == (\"ARC-AGI-2-main\",\"data\")\n",
    "        subds = fn.parts[2]\n",
    "        cid = fn.with_suffix(\"\").name\n",
    "        data = dataset.load_json(ds_root,zfi.filename)\n",
    "        assert data.pop(\"name\",cid) == cid\n",
    "        chal = canonicalise(dataset.parse_inputs(\n",
    "            data,\n",
    "            id = cid,\n",
    "        ))\n",
    "        key = cbor2.dumps(serialisation.serialise(chal))\n",
    "        ods,_ = all_challenges.setdefault(cid,{}).setdefault(key,(set(),chal))\n",
    "        dsn = f\"{ds_name}.{subds}\"\n",
    "        ods.add(dsn)\n",
    "        all_subsets.setdefault(dsn,set()).add(cid)"
   ]
  },
  {
   "cell_type": "code",
   "execution_count": 9,
   "id": "88b32b09-5473-4164-90cd-d63183d4d4cf",
   "metadata": {},
   "outputs": [],
   "source": [
    "ds_name = \"larc\"\n",
    "ds_root = data_root/\"LARC-main.zip\"\n",
    "larc_human_info = {}\n",
    "with zipfile.ZipFile(ds_root,\"r\") as zfh:\n",
    "    for zfi in zfh.filelist:\n",
    "        fn = PurePosixPath(zfi.filename)\n",
    "        if not fn.suffix == \".json\":\n",
    "            continue\n",
    "        if fn.parts[:3] != (\"LARC-main\",\"dataset\",\"tasks_json\"):\n",
    "            continue\n",
    "        fname = fn.with_suffix(\"\").name\n",
    "        data = dataset.load_json(ds_root,zfi.filename)\n",
    "        cid = data.pop(\"name\")\n",
    "        assert cid.endswith(\".json\")\n",
    "        cid = cid.rsplit(\".\",1)[0]\n",
    "        descr =  data.pop(\"descriptions\")\n",
    "        if True:\n",
    "            # discard grid-like stuff, and other things we don't care\n",
    "            for kk in [\"action_sequence\",\"attempt_jsons\",\"time\",\"max_idle_time\",\"timestamp\",\"uid\",\"description_time\",\"verification_time\"]:\n",
    "                for vv in descr.values():\n",
    "                    vv.pop(kk,None)\n",
    "                    for v in vv.get(\"builds\",{}).values():\n",
    "                        v.pop(kk,None)\n",
    "            larc_human_info[cid] = descr\n",
    "        chal = canonicalise(dataset.parse_inputs(\n",
    "            data,\n",
    "            id = cid,\n",
    "        ))\n",
    "        key = cbor2.dumps(serialisation.serialise(chal))\n",
    "        ods,_ = all_challenges.setdefault(cid,{}).setdefault(key,(set(),chal))\n",
    "        dsn = f\"{ds_name}\"\n",
    "        ods.add(dsn)\n",
    "        all_subsets.setdefault(dsn,set()).add(cid)\n",
    "with open(data_root/\"larc-human.yaml\",\"wt\") as fh:\n",
    "    yaml.safe_dump(larc_human_info,fh,sort_keys=True)"
   ]
  },
  {
   "cell_type": "code",
   "execution_count": 10,
   "id": "07e304a1-4b1d-4ce7-8ff4-62134e30b3d6",
   "metadata": {},
   "outputs": [
    {
     "name": "stdout",
     "output_type": "stream",
     "text": [
      "Total: 1307\n",
      "\n",
      "concept-arc: 160\n",
      "arc-agi-1.evaluation: 400\n",
      "arc-agi-1.training: 400\n",
      "arc-agi-2.evaluation: 120\n",
      "arc-agi-2.training: 1000\n",
      "larc: 400\n",
      "\n",
      "arc-agi-1.evaluation: 18\n",
      "concept-arc: 160\n",
      "arc-agi-1.evaluation | arc-agi-2.training: 376\n",
      "arc-agi-2.evaluation: 114\n",
      "arc-agi-1.evaluation | arc-agi-2.evaluation: 6\n",
      "arc-agi-1.training | larc: 9\n",
      "arc-agi-2.training: 233\n",
      "arc-agi-1.training | arc-agi-2.training | larc: 391\n"
     ]
    }
   ],
   "source": [
    "print(f\"Total: {len(all_challenges)}\\n\")\n",
    "cnt = {}\n",
    "for k,v in all_subsets.items():\n",
    "    print(f\"{k}: {len(v)}\")\n",
    "print()\n",
    "for chals in all_challenges.values():\n",
    "    cdss = set()\n",
    "    for dss,chal in chals.values():\n",
    "        cdss.update(dss)\n",
    "    dss = frozenset(cdss)\n",
    "    cnt[dss] = cnt.get(dss,0)+1\n",
    "for k,v in sorted(cnt.items()):\n",
    "    print(f\"{\" | \".join(sorted(k))}: {v}\")\n"
   ]
  },
  {
   "cell_type": "code",
   "execution_count": 11,
   "id": "971bc4b2-5914-4fe8-91a2-89dc20fe7135",
   "metadata": {},
   "outputs": [],
   "source": [
    "src = \"\"\"\n",
    "469497ad arc-agi-2.training # or arc-agi-1.training, but not larc\n",
    "6d0160f0 arc-agi-2.training # or arc-agi-1.training, but not larc\n",
    "9edfc990 arc-agi-2.training # or arc-agi-1.training, but not larc\n",
    "b230c067 arc-agi-2.training # or arc-agi-1.training, but not larc\n",
    "dc433765 arc-agi-2.training # or arc-agi-1.training, but not larc\n",
    "ac0c5833 arc-agi-1.evaluation # instead of arc-agi-2.training\n",
    "\"\"\"\n",
    "preferences = {}\n",
    "for line in src.strip().split(\"\\n\"):\n",
    "    line = line.split(\"#\")[0].strip()\n",
    "    k,v = line.split()\n",
    "    assert k in all_challenges\n",
    "    preferences[k] = v\n"
   ]
  },
  {
   "cell_type": "code",
   "execution_count": 12,
   "id": "3be63c13-c445-49a0-a93c-ebf707df5249",
   "metadata": {},
   "outputs": [],
   "source": [
    "challenges = {}\n",
    "for k,v in all_challenges.items():\n",
    "    pref = preferences.get(k)\n",
    "    if pref is not None:\n",
    "        for dss,chal in v.values():\n",
    "            if pref in dss:\n",
    "                break\n",
    "        else:\n",
    "            raise ValueError(f\"{pref} not found for {k}\")\n",
    "    else:\n",
    "        (_,chal), = v.values()\n",
    "    challenges[k] = chal\n",
    "subsets = {k:frozenset(v) for k,v in all_subsets.items()}\n",
    "for i in [1,2]:\n",
    "    k = f\"arc-agi-{i}\"\n",
    "    subsets[k] = frozenset(all_subsets[k+\".training\"] | all_subsets[k+\".evaluation\"])\n",
    "subsets[\"all\"] = frozenset(challenges)\n",
    "ds = dataset.Dataset(\n",
    "    id=\"combined\",\n",
    "    challenges = MappingProxyType(challenges),\n",
    "    subsets = MappingProxyType(subsets),\n",
    ")\n",
    "bfn = data_root/\"all-challenges.cbor.xz\"\n",
    "with open(bfn,\"wb\") as fh:\n",
    "    fh.write(cbor2.dumps(serialisation.serialise(ds)))\n",
    "\n",
    "ds2 = await dataset.Dataset.from_binary(bfn)\n",
    "\n",
    "# assert ds2 == ds"
   ]
  },
  {
   "cell_type": "code",
   "execution_count": 13,
   "id": "b086a605-7c56-4a3a-86bd-ddf40ee4d013",
   "metadata": {
    "scrolled": true
   },
   "outputs": [
    {
     "name": "stdout",
     "output_type": "stream",
     "text": [
      "0 challenges are ambiguous:\n"
     ]
    }
   ],
   "source": [
    "ambiguous = sorted(k for k,v in all_challenges.items() if k not in preferences and len(v)>1)\n",
    "print(f\"{len(ambiguous)} challenges are ambiguous:\")\n",
    "for a in ambiguous:\n",
    "    print(f\"{a}: {sorted(sorted(dss) for dss,_ in all_challenges[a].values())}\")"
   ]
  },
  {
   "cell_type": "code",
   "execution_count": 14,
   "id": "53f1c962-e723-4366-a64c-3b2de3d95d52",
   "metadata": {},
   "outputs": [
    {
     "name": "stdout",
     "output_type": "stream",
     "text": [
      "{'arc-agi-1.evaluation'}\n",
      "{'arc-agi-2.training'}\n"
     ]
    },
    {
     "data": {
      "image/png": "[encoded data removed]",
      "text/plain": [
       "<Figure size 1200x600 with 8 Axes>"
      ]
     },
     "metadata": {},
     "output_type": "display_data"
    },
    {
     "data": {
      "image/png": "[encoded data removed]",
      "text/plain": [
       "<Figure size 1200x600 with 8 Axes>"
      ]
     },
     "metadata": {},
     "output_type": "display_data"
    }
   ],
   "source": [
    "a = \"ac0c5833\"\n",
    "for dss,chal in all_challenges[a].values():\n",
    "    fig = plt.figure(figsize=(12,12))\n",
    "    print(dss)\n",
    "    tools.show_test_case(chal.train + chal.test,n_train=len(chal.train),orientation=\"h\")"
   ]
  },
  {
   "cell_type": "code",
   "execution_count": 15,
   "id": "7efb5bc9-a9de-4f64-913e-253cd8d46cfc",
   "metadata": {},
   "outputs": [
    {
     "name": "stdout",
     "output_type": "stream",
     "text": [
      "train.0.input.image._data: data mismatch: 2 / 625\n"
     ]
    }
   ],
   "source": [
    "def treediff(a, b, *,path=()):\n",
    "    ps = \".\".join(path)\n",
    "    ta = type(a)\n",
    "    tb = type(b)\n",
    "    if ta != tb:\n",
    "        print(f\"{ps}: type mismatch: {ta.__qualname__} != {tb.__qualname__}\")\n",
    "        return\n",
    "    match a:\n",
    "        case dict() | MappingProxyType():\n",
    "            for k in set(a) | set(b):\n",
    "                treediff(a.get(k), b.get(k), path=path+(k,))\n",
    "        case list() | tuple():\n",
    "            if len(a) != len(b):\n",
    "                print(f\"{ps}: length mismatch: {len(a)} != {len(b)}\")\n",
    "            else:\n",
    "                for i,(av,bv) in enumerate(zip(a,b)):\n",
    "                    treediff(av,bv,path=path+(str(i),))\n",
    "        case np.ndarray():\n",
    "            if a.shape != b.shape:\n",
    "                print(f\"{ps}: shape mismatch: {a.shape} != {b.shape}\")\n",
    "            elif np.any(a != b):\n",
    "                print(f\"{ps}: data mismatch: {np.sum(a != b)} / {a.size}\")\n",
    "        case _ if dataclasses.is_dataclass(ta):\n",
    "            for f in dataclasses.fields(ta):\n",
    "                k = f.name\n",
    "                treediff(getattr(a,k),getattr(b,k),path=path+(k,))\n",
    "        case _ if attrs.has(ta):\n",
    "            for f in attrs.fields(ta):\n",
    "                k = f.name\n",
    "                treediff(getattr(a,k),getattr(b,k),path=path+(k,))\n",
    "        case _:\n",
    "            if a != b:\n",
    "                print(f\"{ps}: mismatch: {str(a)[:80]} != {str(b)[:80]}\")\n",
    "                \n",
    "    \n",
    "d = list(all_challenges[a].values())\n",
    "treediff(d[0][1],d[1][1])\n"
   ]
  },
  {
   "cell_type": "code",
   "execution_count": 16,
   "id": "66c76d9a-ff69-4883-bef7-586c7bfb167a",
   "metadata": {},
   "outputs": [],
   "source": [
    "treediff(ds,ds2)"
   ]
  },
  {
   "cell_type": "code",
   "execution_count": null,
   "id": "8c803de1-2a58-4124-b7bf-adc6997162e2",
   "metadata": {},
   "outputs": [],
   "source": []
  }
 ],
 "metadata": {
  "kernelspec": {
   "display_name": "Python 3 (ipykernel)",
   "language": "python",
   "name": "python3"
  },
  "language_info": {
   "codemirror_mode": {
    "name": "ipython",
    "version": 3
   },
   "file_extension": ".py",
   "mimetype": "text/x-python",
   "name": "python",
   "nbconvert_exporter": "python",
   "pygments_lexer": "ipython3",
   "version": "3.13.7"
  }
 },
 "nbformat": 4,
 "nbformat_minor": 5
}
