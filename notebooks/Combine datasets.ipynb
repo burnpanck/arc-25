{
 "cells": [
  {
   "cell_type": "code",
   "execution_count": 26,
   "id": "e55dcc80-ea8a-4ba8-a53a-3e0144930d50",
   "metadata": {},
   "outputs": [],
   "source": [
    "import zipfile\n",
    "import dataclasses\n",
    "import lzma\n",
    "from types import MappingProxyType\n",
    "from pathlib import Path, PurePosixPath\n",
    "\n",
    "import msgpack\n",
    "import cbor2\n",
    "import numpy as np\n",
    "import pandas as pd\n",
    "import attrs\n",
    "import yaml\n",
    "import matplotlib.pyplot as plt\n",
    "\n",
    "from arc25 import dataset, serialisation, tools"
   ]
  },
  {
   "cell_type": "code",
   "execution_count": 18,
   "id": "e00c21c2-18cf-4f45-8267-0b33a75664b4",
   "metadata": {},
   "outputs": [],
   "source": [
    "proj_root = Path(\"..\").resolve()\n",
    "data_root = proj_root / \"data\""
   ]
  },
  {
   "cell_type": "code",
   "execution_count": 19,
   "id": "b33ca107-c1c7-4f70-9cfa-20e408d38e36",
   "metadata": {},
   "outputs": [
    {
     "name": "stdout",
     "output_type": "stream",
     "text": [
      "osfstorage-archive.zip\n",
      "ARC-AGI-2-main.zip\n",
      "ARC-AGI-master.zip\n",
      "LARC-main.zip\n",
      "arc-prize-2025.zip\n",
      "ConceptARC-main.zip\n"
     ]
    }
   ],
   "source": [
    "for fn in data_root.glob(\"*.zip\"):\n",
    "    print(fn.name)"
   ]
  },
  {
   "cell_type": "code",
   "execution_count": 20,
   "id": "7b4cd704-adbe-4e27-ba0a-ca26c3b59fea",
   "metadata": {},
   "outputs": [],
   "source": [
    "def canonicalise(chal):\n",
    "    return attrs.evolve(\n",
    "        chal,\n",
    "        train = tuple(sorted(chal.train,key=lambda iop:cbor2.dumps(serialisation.serialise(iop.input)))),\n",
    "        test = tuple(sorted(chal.test,key=lambda iop:cbor2.dumps(serialisation.serialise(iop.input)))),\n",
    "    )\n",
    " "
   ]
  },
  {
   "cell_type": "code",
   "execution_count": 21,
   "id": "ad3e54ca-db65-4530-ade3-8b8e0fa6bcf5",
   "metadata": {},
   "outputs": [],
   "source": [
    "all_challenges = {}\n",
    "all_subsets = {}"
   ]
  },
  {
   "cell_type": "code",
   "execution_count": 64,
   "id": "64783322-1e04-4541-8ce1-8d590ec0a9f4",
   "metadata": {},
   "outputs": [],
   "source": [
    "ds_name = \"concept-arc\"\n",
    "ds_root = data_root/\"ConceptARC-main.zip\"\n",
    "subdsi = {}\n",
    "with zipfile.ZipFile(ds_root,\"r\") as zfh:\n",
    "    for zfi in sorted(zfh.filelist,key=lambda zfi:zfi.filename):\n",
    "        fn = PurePosixPath(zfi.filename)\n",
    "        if not fn.suffix == \".json\":\n",
    "            continue\n",
    "        if not fn.parts[:2] == (\"ConceptARC-main\",\"corpus\"):\n",
    "            continue\n",
    "        subds = fn.parts[2]\n",
    "        i = subdsi.setdefault(subds,len(subdsi))\n",
    "        name = fn.with_suffix(\"\").name\n",
    "        assert name.startswith(subds)\n",
    "        cid = f\"ca-{i:02d}-{int(name[len(subds):]):02d}\"\n",
    "        data = dataset.load_json(ds_root,zfi.filename)\n",
    "        chal = canonicalise(dataset.parse_inputs(\n",
    "            data,\n",
    "            id = cid,\n",
    "        ))\n",
    "        key = cbor2.dumps(serialisation.serialise(chal))\n",
    "        ods,_ = all_challenges.setdefault(cid,{}).setdefault(key,(set(),chal))\n",
    "        dsn = f\"{ds_name}\"\n",
    "        ods.add(dsn)\n",
    "        all_subsets.setdefault(dsn,set()).add(cid)"
   ]
  },
  {
   "cell_type": "code",
   "execution_count": 65,
   "id": "2a746d7d-b49b-44a0-95ab-96aeb28eb042",
   "metadata": {},
   "outputs": [],
   "source": [
    "ds_name = \"arc-agi-1\"\n",
    "ds_root = data_root/\"ARC-AGI-master.zip\"\n",
    "with zipfile.ZipFile(ds_root,\"r\") as zfh:\n",
    "    for zfi in zfh.filelist:\n",
    "        fn = PurePosixPath(zfi.filename)\n",
    "        if not fn.suffix == \".json\":\n",
    "            continue\n",
    "        assert fn.parts[:2] == (\"ARC-AGI-master\",\"data\")\n",
    "        subds = fn.parts[2]\n",
    "        cid = fn.with_suffix(\"\").name\n",
    "        data = dataset.load_json(ds_root,zfi.filename)\n",
    "        assert data.pop(\"name\",cid) == cid\n",
    "        chal = canonicalise(dataset.parse_inputs(\n",
    "            data,\n",
    "            id = cid,\n",
    "        ))\n",
    "        key = cbor2.dumps(serialisation.serialise(chal))\n",
    "        ods,_ = all_challenges.setdefault(cid,{}).setdefault(key,(set(),chal))\n",
    "        dsn = f\"{ds_name}.{subds}\"\n",
    "        ods.add(dsn)\n",
    "        all_subsets.setdefault(dsn,set()).add(cid)"
   ]
  },
  {
   "cell_type": "code",
   "execution_count": 66,
   "id": "2af6f3c4-0ce8-4e89-ba29-7e21c9fea140",
   "metadata": {},
   "outputs": [],
   "source": [
    "ds_name = \"arc-agi-2\"\n",
    "ds_root = data_root/\"ARC-AGI-2-main.zip\"\n",
    "with zipfile.ZipFile(ds_root,\"r\") as zfh:\n",
    "    for zfi in zfh.filelist:\n",
    "        fn = PurePosixPath(zfi.filename)\n",
    "        if not fn.suffix == \".json\":\n",
    "            continue\n",
    "        assert fn.parts[:2] == (\"ARC-AGI-2-main\",\"data\")\n",
    "        subds = fn.parts[2]\n",
    "        cid = fn.with_suffix(\"\").name\n",
    "        data = dataset.load_json(ds_root,zfi.filename)\n",
    "        assert data.pop(\"name\",cid) == cid\n",
    "        chal = canonicalise(dataset.parse_inputs(\n",
    "            data,\n",
    "            id = cid,\n",
    "        ))\n",
    "        key = cbor2.dumps(serialisation.serialise(chal))\n",
    "        ods,_ = all_challenges.setdefault(cid,{}).setdefault(key,(set(),chal))\n",
    "        dsn = f\"{ds_name}.{subds}\"\n",
    "        ods.add(dsn)\n",
    "        all_subsets.setdefault(dsn,set()).add(cid)"
   ]
  },
  {
   "cell_type": "code",
   "execution_count": 67,
   "id": "88b32b09-5473-4164-90cd-d63183d4d4cf",
   "metadata": {},
   "outputs": [],
   "source": [
    "ds_name = \"larc\"\n",
    "ds_root = data_root/\"LARC-main.zip\"\n",
    "larc_human_info = {}\n",
    "with zipfile.ZipFile(ds_root,\"r\") as zfh:\n",
    "    for zfi in zfh.filelist:\n",
    "        fn = PurePosixPath(zfi.filename)\n",
    "        if not fn.suffix == \".json\":\n",
    "            continue\n",
    "        if fn.parts[:3] != (\"LARC-main\",\"dataset\",\"tasks_json\"):\n",
    "            continue\n",
    "        fname = fn.with_suffix(\"\").name\n",
    "        data = dataset.load_json(ds_root,zfi.filename)\n",
    "        cid = data.pop(\"name\")\n",
    "        assert cid.endswith(\".json\")\n",
    "        cid = cid.rsplit(\".\",1)[0]\n",
    "        descr =  data.pop(\"descriptions\")\n",
    "        if True:\n",
    "            # discard grid-like stuff, and other things we don't care\n",
    "            for kk in [\"action_sequence\",\"attempt_jsons\",\"time\",\"max_idle_time\",\"timestamp\",\"uid\",\"description_time\",\"verification_time\"]:\n",
    "                for vv in descr.values():\n",
    "                    vv.pop(kk,None)\n",
    "                    for v in vv.get(\"builds\",{}).values():\n",
    "                        v.pop(kk,None)\n",
    "            larc_human_info[cid] = descr\n",
    "        chal = canonicalise(dataset.parse_inputs(\n",
    "            data,\n",
    "            id = cid,\n",
    "        ))\n",
    "        key = cbor2.dumps(serialisation.serialise(chal))\n",
    "        ods,_ = all_challenges.setdefault(cid,{}).setdefault(key,(set(),chal))\n",
    "        dsn = f\"{ds_name}\"\n",
    "        ods.add(dsn)\n",
    "        all_subsets.setdefault(dsn,set()).add(cid)\n",
    "with lzma.LZMAFile(data_root/\"larc-human.cbor.xz\",\"wb\") as fh:\n",
    "    fh.write(cbor2.dumps(serialisation.serialise(larc_human_info)))\n"
   ]
  },
  {
   "cell_type": "code",
   "execution_count": 68,
   "id": "e406fb44-1a40-414f-910d-e26d8ae37c45",
   "metadata": {},
   "outputs": [],
   "source": [
    "ds_root = data_root/\"osfstorage-archive.zip\"\n",
    "with zipfile.ZipFile(ds_root,\"r\") as zfh:\n",
    "    if False:\n",
    "        for zfi in sorted(zfh.filelist,key=lambda zfi:zfi.filename):\n",
    "            fn = PurePosixPath(zfi.filename)\n",
    "            print(fn)\n",
    "        print()\n",
    "        with zfh.open(\"data/readme.md\",\"r\") as fh:\n",
    "            print(fh.read().decode(\"utf-8\"))\n",
    "    if False:\n",
    "        with zfh.open(\"data/data.csv\",\"r\") as fh:\n",
    "            action_data = pd.read_csv(fh)\n",
    "    with zfh.open(\"data/summary_data.csv\",\"r\") as fh:\n",
    "        data = pd.read_csv(fh)"
   ]
  },
  {
   "cell_type": "code",
   "execution_count": 82,
   "id": "bb65e953-9693-49bd-8cfc-25f07404b0dd",
   "metadata": {},
   "outputs": [
    {
     "data": {
      "text/plain": [
       "{'n_participants': 8,\n",
       " 'success_fraction': 0.25,\n",
       " 'details': {'0e8d32a89e4037308f0176e4d00934a7': {'solved': False,\n",
       "   'n_attempts': 3,\n",
       "   'initial_rule_descr': 'to fill out the monster and fill in the dark blue squares',\n",
       "   'final_rule_descr': 'I thought the rule was to fill in the monster using the black squares as a guide for his head'},\n",
       "  '1bc8cf37dbf6e75fe63e1a9dc1afdce3': {'solved': False,\n",
       "   'n_attempts': 3,\n",
       "   'initial_rule_descr': 'really good',\n",
       "   'final_rule_descr': 'good'},\n",
       "  '960d3d0c2bbb3560275b683d96fb74c6': {'solved': False,\n",
       "   'n_attempts': 3,\n",
       "   'initial_rule_descr': 'I mirrored what was on the opposite side in the blue',\n",
       "   'final_rule_descr': 'I thought I was completing the picture.'},\n",
       "  'cadd12df9bd49b9d5b908816b0551da2': {'solved': False,\n",
       "   'n_attempts': 3,\n",
       "   'initial_rule_descr': 'Fill in the dark blue input with the predicted pattern on the output.',\n",
       "   'final_rule_descr': 'Find the pattern on the input to move to the output.'},\n",
       "  'd0370e728bf03f39977f883ff86d41be': {'solved': True,\n",
       "   'n_attempts': 2,\n",
       "   'initial_rule_descr': 'I completed the image with the pattern below (I just noticed I missed two black dots)',\n",
       "   'final_rule_descr': 'I filled the grid with the same pattern shown in the bottom of the image with same colors'},\n",
       "  'e13f835cab765619a96c578f3fa3eca6': {'solved': True,\n",
       "   'n_attempts': 2,\n",
       "   'initial_rule_descr': \"The output is the missing part of the pattern that is covered by the  blue 5x5 square in the input, therefore the output is only a 5x5 grid and its squares finish missing part of the input grid's pattern.\",\n",
       "   'final_rule_descr': \"The output is found by replicating the part of the input that is covered by the 5x5 blue square, therefore the output's grid should only be 5x5 and graph onto the input's pattern seamlessly. \"},\n",
       "  'f76082c46d126cc1a0c13c1f1e723edb': {'solved': False,\n",
       "   'n_attempts': 3,\n",
       "   'initial_rule_descr': 'I noticed each example the space was always blue squares and each example followed a basic shape such as left by a flower (example). In the grid I noticed that the bottom half of the shape had a distinctive pattern colored by black squares so I just pretended the middle had a mirror and copied the bottom as though it was upside down.',\n",
       "   'final_rule_descr': \"I thought it was a symmetrical shape of a flower like in the other examples, no matter how hard I tried I just couldn't see where I went wrong, this one completely bamboozled me. \"},\n",
       "  'ffbb0029213d80cec7a1319f2ff3da4b': {'solved': False,\n",
       "   'n_attempts': 3,\n",
       "   'initial_rule_descr': \"Replace the dark blue cells with the rest of the pattern within the test input. Pretend you're completing the pattern in a zoomed in 5x5 grid view.\",\n",
       "   'final_rule_descr': 'Try to copy the pattern in the area covered by dark blue squares in the test input area. '}}}"
      ]
     },
     "execution_count": 82,
     "metadata": {},
     "output_type": "execute_result"
    }
   ],
   "source": [
    "ds_name = \"harc\"\n",
    "\n",
    "d = data.loc[:,\"task_name task_type hashed_id attempt_number solved first_written_solution last_written_solution\".split()]\n",
    "harc_human_info = {}\n",
    "for (cid,subsid),g in d.groupby([\"task_name\",\"task_type\"]):\n",
    "    cid,sfx = cid.split(\".\")\n",
    "    assert sfx == \"json\"\n",
    "    chals = all_challenges.get(cid)\n",
    "    assert chals is not None\n",
    "    dsn = f\"{ds_name}.{subsid}\"\n",
    "    for dss,_ in chals.values():\n",
    "        if f\"arc-agi-1.{subsid}\" in dss:\n",
    "            dss.add(dsn)\n",
    "            break\n",
    "    else:\n",
    "        raise KeyError(f\"{dsn} doesn't appear to be from ARC-AGI-1: {[dss for dss,_ in chals.values()]}\")\n",
    "    all_subsets.setdefault(dsn,set()).add(cid)\n",
    "    sols = []\n",
    "    pinfo = {}\n",
    "    for hid, gg in g.groupby(\"hashed_id\"):\n",
    "        row = gg.sort_values(\"attempt_number\").iloc[-1]\n",
    "        sols.append(row.solved)\n",
    "        pinfo[hid] = dict(\n",
    "            solved=bool(row.solved),\n",
    "            n_attempts=int(row.attempt_number),\n",
    "            initial_rule_descr=row.first_written_solution,\n",
    "            final_rule_descr=row.last_written_solution,\n",
    "        )\n",
    "    info = harc_human_info[cid] = dict(\n",
    "        n_participants = len(sols),\n",
    "        success_fraction = float(sum(sols)/len(sols)),\n",
    "        details = pinfo,\n",
    "    )\n",
    "with lzma.LZMAFile(data_root/\"harc-rule-descr.cbor.xz\",\"wb\") as fh:\n",
    "    fh.write(cbor2.dumps(serialisation.serialise(harc_human_info)))\n",
    "\n",
    "info"
   ]
  },
  {
   "cell_type": "code",
   "execution_count": 83,
   "id": "07e304a1-4b1d-4ce7-8ff4-62134e30b3d6",
   "metadata": {},
   "outputs": [
    {
     "name": "stdout",
     "output_type": "stream",
     "text": [
      "Total: 1307\n",
      "\n",
      "concept-arc: 160\n",
      "arc-agi-1.evaluation: 400\n",
      "arc-agi-1.training: 400\n",
      "arc-agi-2.evaluation: 120\n",
      "arc-agi-2.training: 1000\n",
      "larc: 400\n",
      "harc.evaluation: 400\n",
      "harc.training: 400\n",
      "\n",
      "arc-agi-1.evaluation | harc.evaluation: 18\n",
      "concept-arc: 160\n",
      "arc-agi-1.evaluation | arc-agi-2.training | harc.evaluation: 376\n",
      "arc-agi-2.evaluation: 114\n",
      "arc-agi-1.evaluation | arc-agi-2.evaluation | harc.evaluation: 6\n",
      "arc-agi-1.training | harc.training | larc: 9\n",
      "arc-agi-2.training: 233\n",
      "arc-agi-1.training | arc-agi-2.training | harc.training | larc: 391\n"
     ]
    }
   ],
   "source": [
    "print(f\"Total: {len(all_challenges)}\\n\")\n",
    "cnt = {}\n",
    "for k,v in all_subsets.items():\n",
    "    print(f\"{k}: {len(v)}\")\n",
    "print()\n",
    "for chals in all_challenges.values():\n",
    "    cdss = set()\n",
    "    for dss,chal in chals.values():\n",
    "        cdss.update(dss)\n",
    "    dss = frozenset(cdss)\n",
    "    cnt[dss] = cnt.get(dss,0)+1\n",
    "for k,v in sorted(cnt.items()):\n",
    "    print(f\"{\" | \".join(sorted(k))}: {v}\")\n"
   ]
  },
  {
   "cell_type": "code",
   "execution_count": 84,
   "id": "971bc4b2-5914-4fe8-91a2-89dc20fe7135",
   "metadata": {},
   "outputs": [],
   "source": [
    "src = \"\"\"\n",
    "469497ad arc-agi-2.training # or arc-agi-1.training, but not larc\n",
    "6d0160f0 arc-agi-2.training # or arc-agi-1.training, but not larc\n",
    "9edfc990 arc-agi-2.training # or arc-agi-1.training, but not larc\n",
    "b230c067 arc-agi-2.training # or arc-agi-1.training, but not larc\n",
    "dc433765 arc-agi-2.training # or arc-agi-1.training, but not larc\n",
    "ac0c5833 arc-agi-1.evaluation # instead of arc-agi-2.training\n",
    "\"\"\"\n",
    "preferences = {}\n",
    "for line in src.strip().split(\"\\n\"):\n",
    "    line = line.split(\"#\")[0].strip()\n",
    "    k,v = line.split()\n",
    "    assert k in all_challenges\n",
    "    preferences[k] = v\n"
   ]
  },
  {
   "cell_type": "code",
   "execution_count": 88,
   "id": "3be63c13-c445-49a0-a93c-ebf707df5249",
   "metadata": {},
   "outputs": [],
   "source": [
    "challenges = {}\n",
    "for k,v in all_challenges.items():\n",
    "    pref = preferences.get(k)\n",
    "    if pref is not None:\n",
    "        for dss,chal in v.values():\n",
    "            if pref in dss:\n",
    "                break\n",
    "        else:\n",
    "            raise ValueError(f\"{pref} not found for {k}\")\n",
    "    else:\n",
    "        (_,chal), = v.values()\n",
    "    challenges[k] = chal\n",
    "subsets = {k:frozenset(v) for k,v in all_subsets.items()}\n",
    "for k in [\"arc-agi-1\",\"arc-agi-2\",\"harc\"]:\n",
    "    subsets[k] = frozenset(all_subsets[k+\".training\"] | all_subsets[k+\".evaluation\"])\n",
    "subsets[\"all\"] = frozenset(challenges)\n",
    "ds = dataset.Dataset(\n",
    "    id=\"combined\",\n",
    "    challenges = MappingProxyType(challenges),\n",
    "    subsets = MappingProxyType(subsets),\n",
    ")\n",
    "bfn = data_root/\"all-challenges.cbor.xz\"\n",
    "with lzma.LZMAFile(bfn,\"wb\") as fh:\n",
    "    fh.write(cbor2.dumps(serialisation.serialise(ds)))\n",
    "\n",
    "ds2 = await dataset.Dataset.from_binary(bfn)\n",
    "\n",
    "# assert ds2 == ds"
   ]
  },
  {
   "cell_type": "code",
   "execution_count": 86,
   "id": "b086a605-7c56-4a3a-86bd-ddf40ee4d013",
   "metadata": {
    "scrolled": true
   },
   "outputs": [
    {
     "name": "stdout",
     "output_type": "stream",
     "text": [
      "0 challenges are ambiguous:\n"
     ]
    }
   ],
   "source": [
    "ambiguous = sorted(k for k,v in all_challenges.items() if k not in preferences and len(v)>1)\n",
    "print(f\"{len(ambiguous)} challenges are ambiguous:\")\n",
    "for a in ambiguous:\n",
    "    print(f\"{a}: {sorted(sorted(dss) for dss,_ in all_challenges[a].values())}\")"
   ]
  },
  {
   "cell_type": "code",
   "execution_count": 98,
   "id": "75fe811e-4018-405a-adb5-b4bc2849f0e2",
   "metadata": {},
   "outputs": [
    {
     "name": "stdout",
     "output_type": "stream",
     "text": [
      "400\n"
     ]
    },
    {
     "data": {
      "text/plain": [
       "'22233c11'"
      ]
     },
     "execution_count": 98,
     "metadata": {},
     "output_type": "execute_result"
    }
   ],
   "source": [
    "double_human = sorted(subsets[\"larc\"] & subsets[\"harc\"])\n",
    "print(len(double_human))\n",
    "double_human[41]"
   ]
  },
  {
   "cell_type": "code",
   "execution_count": 99,
   "id": "53f1c962-e723-4366-a64c-3b2de3d95d52",
   "metadata": {},
   "outputs": [
    {
     "name": "stdout",
     "output_type": "stream",
     "text": [
      "{'harc.training', 'arc-agi-1.training', 'larc', 'arc-agi-2.training'}\n"
     ]
    },
    {
     "data": {
      "image/png": "[encoded data removed]",
      "text/plain": [
       "<Figure size 1200x600 with 8 Axes>"
      ]
     },
     "metadata": {},
     "output_type": "display_data"
    }
   ],
   "source": [
    "a = \"22233c11\"\n",
    "for dss,chal in all_challenges[a].values():\n",
    "    fig = plt.figure(figsize=(12,12))\n",
    "    print(dss)\n",
    "    tools.show_test_case(chal.train + chal.test,n_train=len(chal.train),orientation=\"h\")"
   ]
  },
  {
   "cell_type": "code",
   "execution_count": 105,
   "id": "b26e610a-2aae-4579-bf76-e09fe4e38210",
   "metadata": {},
   "outputs": [
    {
     "name": "stdout",
     "output_type": "stream",
     "text": [
      "* Success True (build rate 33 % in 3 builds):\n",
      "In the input, you should see...green pattern or patterns\n",
      "The output grid size...same size\n",
      "To make the output, you have to...on each of the center line direction of the green pattern, draw blue color pattern, and the blue color pattern is half of the green pattern\n",
      "* Success True (build rate 0 % in 1 builds):\n",
      "In the input, you should see... Set(s) of diagonal green tiles\n",
      "The output grid size... remains the same size as the input grid.\n",
      "To make the output, you have to... Put a light blue tile diagonal of each side of the green tiles that skips one black tile. Imagine an X is trying to be created, EXCEPT the light blue tiles skip the first diagonal tile (leave black) to make one light blue tile on each side.\n",
      "* Success True (build rate nan % in 0 builds):\n",
      "In the input, you should see...diagonal green line(s)\n",
      "The output grid size...remains the same as the input grid\n",
      "To make the output, you have to...replicate the diagonal green line(s). At a perpendicular position of the green line(s), skip the number of squares which make the width of the green line, and place light blue squares equal in size to the width of the green line(s) on both sides of the green line(s).\n",
      "-> overall success rate: 33 %\n",
      "\n",
      "* Success False in 3 attempts\n",
      "Keep only the green boxes in the test input. Since this isn't right I have no idea what it could be.\n",
      "* Success True in 1 attempts\n",
      "Each of the boxes is 3x3. Make a gap on the corners of 3x3 and start the blue boxes.\n",
      "* Success True in 1 attempts\n",
      "I made blue squares on the opposite sides of the green shapes\n",
      "-> 67 % out of 3\n"
     ]
    }
   ],
   "source": [
    "tsuc = []\n",
    "for describer_id, d in larc_human_info[a].items():\n",
    "    suc = []\n",
    "    for builder_id, dd in d[\"builds\"].items():\n",
    "        suc.append(dd[\"success\"])\n",
    "    ssuc = d[\"succeeded_verification\"]\n",
    "    print(f\"* Success {ssuc} (build rate {np.mean(suc)*100:.0f} % in {len(d[\"builds\"])} builds):\")\n",
    "    for k in [\"see\",\"grid\",\"do\"]:\n",
    "        print(d[f\"{k}_description\"])\n",
    "    tsuc.append(ssuc and any(suc))\n",
    "print(f\"-> overall success rate: {np.mean(tsuc)*100:.0f} %\\n\")\n",
    "\n",
    "hi = harc_human_info[a]\n",
    "for id,d in hi[\"details\"].items():\n",
    "    print(f\"* Success {d[\"solved\"]} in {d[\"n_attempts\"]} attempts\")\n",
    "    print(d[\"final_rule_descr\"])\n",
    "print(f\"-> {hi[\"success_fraction\"]*100:.0f} % out of {hi[\"n_participants\"]}\")"
   ]
  },
  {
   "cell_type": "code",
   "execution_count": 103,
   "id": "b4ffa84b-87e8-48a2-a705-d389d93b5e8d",
   "metadata": {},
   "outputs": [
    {
     "data": {
      "text/plain": [
       "{'solved': True,\n",
       " 'n_attempts': 1,\n",
       " 'initial_rule_descr': 'I made blue squares on the opposite sides of the green shapes',\n",
       " 'final_rule_descr': 'I made blue squares on the opposite sides of the green shapes'}"
      ]
     },
     "execution_count": 103,
     "metadata": {},
     "output_type": "execute_result"
    }
   ],
   "source": [
    "d"
   ]
  },
  {
   "cell_type": "code",
   "execution_count": 15,
   "id": "7efb5bc9-a9de-4f64-913e-253cd8d46cfc",
   "metadata": {},
   "outputs": [
    {
     "name": "stdout",
     "output_type": "stream",
     "text": [
      "train.0.input.image._data: data mismatch: 2 / 625\n"
     ]
    }
   ],
   "source": [
    "def treediff(a, b, *,path=()):\n",
    "    ps = \".\".join(path)\n",
    "    ta = type(a)\n",
    "    tb = type(b)\n",
    "    if ta != tb:\n",
    "        print(f\"{ps}: type mismatch: {ta.__qualname__} != {tb.__qualname__}\")\n",
    "        return\n",
    "    match a:\n",
    "        case dict() | MappingProxyType():\n",
    "            for k in set(a) | set(b):\n",
    "                treediff(a.get(k), b.get(k), path=path+(k,))\n",
    "        case list() | tuple():\n",
    "            if len(a) != len(b):\n",
    "                print(f\"{ps}: length mismatch: {len(a)} != {len(b)}\")\n",
    "            else:\n",
    "                for i,(av,bv) in enumerate(zip(a,b)):\n",
    "                    treediff(av,bv,path=path+(str(i),))\n",
    "        case np.ndarray():\n",
    "            if a.shape != b.shape:\n",
    "                print(f\"{ps}: shape mismatch: {a.shape} != {b.shape}\")\n",
    "            elif np.any(a != b):\n",
    "                print(f\"{ps}: data mismatch: {np.sum(a != b)} / {a.size}\")\n",
    "        case _ if dataclasses.is_dataclass(ta):\n",
    "            for f in dataclasses.fields(ta):\n",
    "                k = f.name\n",
    "                treediff(getattr(a,k),getattr(b,k),path=path+(k,))\n",
    "        case _ if attrs.has(ta):\n",
    "            for f in attrs.fields(ta):\n",
    "                k = f.name\n",
    "                treediff(getattr(a,k),getattr(b,k),path=path+(k,))\n",
    "        case _:\n",
    "            if a != b:\n",
    "                print(f\"{ps}: mismatch: {str(a)[:80]} != {str(b)[:80]}\")\n",
    "                \n",
    "    \n",
    "d = list(all_challenges[a].values())\n",
    "treediff(d[0][1],d[1][1])\n"
   ]
  },
  {
   "cell_type": "code",
   "execution_count": 16,
   "id": "66c76d9a-ff69-4883-bef7-586c7bfb167a",
   "metadata": {},
   "outputs": [],
   "source": [
    "treediff(ds,ds2)"
   ]
  },
  {
   "cell_type": "code",
   "execution_count": null,
   "id": "8c803de1-2a58-4124-b7bf-adc6997162e2",
   "metadata": {},
   "outputs": [],
   "source": []
  }
 ],
 "metadata": {
  "kernelspec": {
   "display_name": "Python 3 (ipykernel)",
   "language": "python",
   "name": "python3"
  },
  "language_info": {
   "codemirror_mode": {
    "name": "ipython",
    "version": 3
   },
   "file_extension": ".py",
   "mimetype": "text/x-python",
   "name": "python",
   "nbconvert_exporter": "python",
   "pygments_lexer": "ipython3",
   "version": "3.13.7"
  }
 },
 "nbformat": 4,
 "nbformat_minor": 5
}
