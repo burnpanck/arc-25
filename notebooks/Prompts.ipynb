{
 "cells": [
  {
   "cell_type": "code",
   "execution_count": 1,
   "id": "ec8d1288-ff44-4037-a5c0-386aef7a58d4",
   "metadata": {},
   "outputs": [],
   "source": [
    "import enum\n",
    "import typing\n",
    "import abc\n",
    "import itertools\n",
    "import dataclasses\n",
    "from pathlib import Path\n",
    "from types import SimpleNamespace\n",
    "\n",
    "import attrs\n",
    "import numpy as np\n",
    "from IPython import display\n",
    "\n",
    "from arc25.dsl import types, primitives\n",
    "from arc25.dsl import api as dsl\n",
    "from arc25 import tools, dataset, sandbox, symmetry, prompts"
   ]
  },
  {
   "cell_type": "code",
   "execution_count": 2,
   "id": "d6c36b58-d5f8-441d-bccd-ba13522192e9",
   "metadata": {},
   "outputs": [],
   "source": [
    "proj_root = Path(\"..\").resolve()\n",
    "data_path = proj_root / \"data\"\n",
    "db_root = data_path / \"solutions\"\n"
   ]
  },
  {
   "cell_type": "code",
   "execution_count": 3,
   "id": "b4ff00b7-6bb7-4758-9e7a-2c08111d0b7c",
   "metadata": {},
   "outputs": [
    {
     "data": {
      "text/plain": [
       "(1307,\n",
       " ['all',\n",
       "  'arc-agi-1',\n",
       "  'arc-agi-1.evaluation',\n",
       "  'arc-agi-1.training',\n",
       "  'arc-agi-2',\n",
       "  'arc-agi-2.evaluation',\n",
       "  'arc-agi-2.training',\n",
       "  'concept-arc',\n",
       "  'harc',\n",
       "  'harc.evaluation',\n",
       "  'harc.training',\n",
       "  'larc'])"
      ]
     },
     "execution_count": 3,
     "metadata": {},
     "output_type": "execute_result"
    }
   ],
   "source": [
    "ds = await dataset.Dataset.from_binary(data_path / \"all-challenges.cbor.xz\")\n",
    "len(ds.challenges), sorted(ds.subsets)"
   ]
  },
  {
   "cell_type": "code",
   "execution_count": 4,
   "id": "a4e7d68c-4b60-4e60-b77c-ddfbbcec8cdf",
   "metadata": {},
   "outputs": [
    {
     "name": "stdout",
     "output_type": "stream",
     "text": [
      "46 37\n",
      "['00576224', '36fdfd69', '3af2c5a8', '4612dd53', '46442a0e', '54d82841', '5614dbcf', '642d658d', '6e19193c', '6f8cd79b', '72322fa7', '7bb29440', '8eb1be9a', '97999447', '9841fdad', '9f5f939b', 'a740d043', 'bf699163', 'ca-00-01', 'ca-00-10', 'ca-03-02', 'ca-03-04', 'ca-05-03', 'ca-08-01', 'ca-09-01', 'ca-10-04', 'ca-12-02', 'ca-14-05', 'ca-14-06', 'ca-15-10', 'cbded52d', 'ce039d91', 'd931c21c', 'e1d2900e', 'ea32f347', 'f9d67f8b', 'fd02da9e']\n"
     ]
    }
   ],
   "source": [
    "solutions = await dataset.SolutionDB.load(db_root)\n",
    "sol_with_code = sorted(k for k,v in solutions.solutions.items() if v.rule)\n",
    "print(len(solutions.solutions), len(sol_with_code))\n",
    "print(sol_with_code)"
   ]
  },
  {
   "cell_type": "code",
   "execution_count": 31,
   "id": "8b04dbcb-a714-4037-a779-f5638c569fea",
   "metadata": {},
   "outputs": [
    {
     "data": {
      "text/markdown": [
       "**Hypothesis:**\n",
       "- Black background.\n",
       "- One horizontal and one vertical colored dotted line.\n",
       "- Impossible to say which of the two is painted over the other.\n",
       "\n",
       "**Rule:**\n",
       "- Start either from the input, or a fully black canvas of the same shape.\n",
       "- First, paint a solid vertical line at the position and in the color of the dotted vertical line in the input.\n",
       "- Second, paint a solid horizontal line at the position and in the color of the dotted horizontal line in the input.\n",
       "\n",
       "**Plan:**\n",
       "- There are no distractions, so we can determine the line positions simply from the count of foreground cells.\n"
      ],
      "text/plain": [
       "<IPython.core.display.Markdown object>"
      ]
     },
     "metadata": {},
     "output_type": "display_data"
    },
    {
     "data": {
      "text/markdown": [
       "```python\n",
       "def solution(input: Canvas) -> Canvas:\n",
       "    output = input\n",
       "    h,w = input.shape\n",
       "    # identify foreground cells\n",
       "    fg_mask = ~mask_color(input, BLACK)\n",
       "    # paint all columns with more than one foreground cell\n",
       "    # (there will be just one)\n",
       "    for col in range(w):\n",
       "        col_mask = mask_col(input, col)\n",
       "        mask = col_mask & fg_mask\n",
       "        if mask.count()>1:\n",
       "            c, = most_common_colors(apply_mask(input, mask))\n",
       "            output = fill(output, c, clip=col_mask)\n",
       "    # same for the row\n",
       "    for row in range(h):\n",
       "        row_mask = mask_row(input, row)\n",
       "        mask = row_mask & fg_mask\n",
       "        if mask.count()>1:\n",
       "            c, = most_common_colors(apply_mask(input, mask))\n",
       "            output = fill(output, c, clip=row_mask)\n",
       "    return output\n",
       "```"
      ],
      "text/plain": [
       "<IPython.core.display.Markdown object>"
      ]
     },
     "metadata": {},
     "output_type": "display_data"
    }
   ],
   "source": [
    "ckey = \"ca-03-02\"\n",
    "chal = ds.challenges[ckey]\n",
    "sol = solutions.solutions[ckey]\n",
    "resp = prompts.parse_explanation(sol)\n",
    "display.display(display.Markdown(sol.explanation))\n",
    "display.display(display.Markdown(f\"```python\\n{resp.rule_impl}\\n```\"))"
   ]
  },
  {
   "cell_type": "code",
   "execution_count": 25,
   "id": "36537cde-c163-4110-aad7-f0ed58827df0",
   "metadata": {},
   "outputs": [
    {
     "name": "stdout",
     "output_type": "stream",
     "text": [
      "<descr>hypothesis\n",
      "- Black background.\n",
      "- One horizontal and one vertical colored dotted line.\n",
      "- Impossible to say which of the two is painted over the other.\n",
      "</descr>\n",
      "<rule>\n",
      "- Start either from the input, or a fully black canvas of the same shape.\n",
      "- First, paint a solid vertical line at the position and in the color of the dotted vertical line in the input.\n",
      "- Second, paint a solid horizontal line at the position and in the color of the dotted horizontal line in the input.\n",
      "</rule>\n",
      "<plan>\n",
      "- There are no distractions, so we can determine the line positions simply from the count of foreground cells.\n",
      "</plan>\n",
      "<impl>```python\n",
      "def solution(input: Canvas) -> Canvas:\n",
      "    output = input\n",
      "    h,w = input.shape\n",
      "    # identify foreground cells\n",
      "    fg_mask = ~mask_color(input, BLACK)\n",
      "    # paint all columns with more than one foreground cell\n",
      "    # (there will be just one)\n",
      "    for col in range(w):\n",
      "        col_mask = mask_col(input, col)\n",
      "        mask = col_mask & fg_mask\n",
      "        if mask.count()>1:\n",
      "            c, = most_common_colors(apply_mask(input, mask))\n",
      "            output = fill(output, c, clip=col_mask)\n",
      "    # same for the row\n",
      "    for row in range(h):\n",
      "        row_mask = mask_row(input, row)\n",
      "        mask = row_mask & fg_mask\n",
      "        if mask.count()>1:\n",
      "            c, = most_common_colors(apply_mask(input, mask))\n",
      "            output = fill(output, c, clip=row_mask)\n",
      "    return output\n",
      "```</impl>\n"
     ]
    }
   ],
   "source": [
    "enc = prompts.PromptEncoder()\n",
    "\n",
    "print(enc.encode_response(resp))"
   ]
  },
  {
   "cell_type": "code",
   "execution_count": 8,
   "id": "78ac5975-b4cd-4491-9c00-579fb60e2b72",
   "metadata": {},
   "outputs": [
    {
     "name": "stdout",
     "output_type": "stream",
     "text": [
      "<descr>inputs\n",
      "...\n",
      "</descr>\n",
      "<descr>hypothesis\n",
      "...\n",
      "</descr>\n",
      "<rule>\n",
      "...\n",
      "</rule>\n",
      "<plan>\n",
      "...\n",
      "</plan>\n",
      "<impl>```python\n",
      "def solution(input: Canvas) -> Canvas:\n",
      "    # TODO: implement rule\n",
      "    return output\n",
      "```</impl>\n"
     ]
    }
   ],
   "source": [
    "print(enc.encode_response(prompts.ReasonedSolution(\n",
    "    descr=dict(inputs=\"...\",hypothesis=\"...\"),\n",
    "    rule_descr=\"...\",\n",
    "    impl_plan_descr=\"...\",\n",
    "    rule_impl=\"\"\"\n",
    "def solution(input: Canvas) -> Canvas:\n",
    "    # TODO: implement rule\n",
    "    return output\n",
    "    \"\"\"\n",
    ")))"
   ]
  },
  {
   "cell_type": "code",
   "execution_count": 9,
   "id": "8961b005-22fe-45d8-9ebb-74c37947967b",
   "metadata": {},
   "outputs": [
    {
     "name": "stdout",
     "output_type": "stream",
     "text": [
      "black:\n",
      "ca-00-01 w=1 c=4: ['- Black b'] [', BLACK)', 'l-black l', 'n black', ', BLACK, ']\n",
      "97999447 w=0 c=1: [] [', BLACK)']\n",
      "a740d043 w=1 c=1: ['y black c'] ['e=BLACK, ']\n",
      "ca-00-10 w=1 c=3: ['n black b'] ['e black p', ', BLACK))', 'e=BLACK)']\n",
      "ca-14-06 w=0 c=2: [] ['e=BLACK),', 'l=BLACK)']\n",
      "ca-03-04 w=1 c=3: ['- Black b'] ['n-black)', 't,BLACK)', ', BLACK, ']\n",
      "ce039d91 w=1 c=1: ['n black b'] [', BLACK)']\n",
      "d931c21c w=1 c=1: ['n black b'] ['e=BLACK):']\n",
      "ca-12-02 w=1 c=3: ['n black b'] ['e=BLACK)', 'e=BLACK)', ', BLACK)']\n",
      "ea32f347 w=1 c=0: ['n black b'] []\n",
      "72322fa7 w=3 c=1: ['- Black b', 'n-black c', 'o black/b'] [', BLACK)']\n",
      "ca-09-01 w=1 c=1: ['- Black b'] ['e=BLACK):']\n",
      "8eb1be9a w=1 c=2: ['n black b'] ['n-black c', ', BLACK)']\n",
      "ca-03-02 w=2 c=1: ['- Black b', 'y black c'] [', BLACK)']\n",
      "642d658d w=1 c=0: ['n black'] []\n",
      "4612dd53 w=4 c=1: ['- Black b', 'y black o', 'd black c', 'h black ('] [', BLACK)']\n",
      "ca-10-04 w=2 c=2: ['- Black b', 'l black o'] ['= BLACK', ', BLACK, ']\n",
      "ca-05-03 w=1 c=1: ['n black b'] ['e=BLACK))']\n",
      "3af2c5a8 w=1 c=0: ['- Black b'] []\n",
      "ca-14-05 w=0 c=3: [] ['e=BLACK, ', 'e black o', ', BLACK)']\n",
      "7bb29440 w=1 c=3: ['n black b'] ['t black)', ', BLACK)', 't black']\n",
      "ca-15-10 w=0 c=5: [] [', BLACK)', 'e=BLACK),', 'r black c', 'n black c', ', BLACK) ']\n",
      "ca-08-01 w=0 c=1: [] ['e=BLACK, ']\n",
      "e1d2900e w=1 c=2: ['n black b'] ['t black o', ', BLACK)']\n",
      "54d82841 w=0 c=1: [] [', BLACK)']\n",
      "6e19193c w=0 c=1: [] [', BLACK)']\n",
      "cbded52d w=0 c=1: [] [' {BLACK, ']\n",
      "00d62c1b w=2 c=0: ['n black b', 'l black c'] []\n",
      "58743b76 w=3 c=0: ['e black s', 'e black s', 'e black s'] []\n",
      "007bbfb7 w=5 c=0: ['n black.', 'l-black t', ': black c', 'y black t', 'n-black c'] []\n",
      "7b6016b9 w=1 c=0: ['n black b'] []\n",
      "009d5c81 w=2 c=0: ['n black b', 'n black b'] []\n",
      "00dbd492 w=1 c=0: ['e black s'] []\n",
      "blue:\n",
      "a740d043 w=1 c=1: ['n blue b'] [', BLUE)']\n",
      "ce039d91 w=2 c=1: ['d blue f', '- Blue f'] [', BLUE, ']\n",
      "d931c21c w=1 c=0: ['f blue o'] []\n",
      "ea32f347 w=1 c=2: ['n blue'] ['d blue, ', 'W,BLUE])']\n",
      "4612dd53 w=1 c=4: ['d blue c'] ['y blue c', 'o blue c', 'l blue c', ', BLUE, ']\n",
      "7bb29440 w=2 c=1: ['d blue r', 'h blue r'] [', BLUE)']\n",
      "e1d2900e w=3 c=4: ['f blue c', '- Blue c', '- Blue c'] ['h blue c', ', BLUE))', 't blue o', ', BLUE)']\n",
      "9f5f939b w=2 c=1: ['f blue t', 'f blue \"'] [', BLUE)']\n",
      "cbded52d w=0 c=1: [] [', BLUE})']\n",
      "009d5c81 w=2 c=0: [') blue o', 'l blue o'] []\n",
      "ad3b40cf w=2 c=0: ['a blue b', 'e blue b'] []\n",
      "red:\n",
      "d931c21c w=1 c=1: ['a red e'] [', RED, ']\n",
      "36fdfd69 w=0 c=1: [] [', RED)']\n",
      "ea32f347 w=1 c=2: ['n red'] ['m red,y', ' [RED,Y']\n",
      "4612dd53 w=4 c=2: ['m red a', 'g red a', 'h red c', 'g red c'] ['n red', ', RED, ']\n",
      "e1d2900e w=2 c=5: ['f red 2', 't red s'] ['l red s', ', RED))', 't red s', 't red s', 'e red s']\n",
      "7b6016b9 w=1 c=0: ['d red.'] []\n",
      "009d5c81 w=1 c=0: ['o red'] []\n",
      "00dbd492 w=2 c=0: ['e red s', 'a red d'] []\n",
      "green:\n",
      "d931c21c w=1 c=1: ['a green i'] [', GREEN, ']\n",
      "ca-09-01 w=1 c=1: ['d green'] ['= GREEN i']\n",
      "ca-05-03 w=1 c=1: ['n green'] [', GREEN)']\n",
      "00d62c1b w=2 c=0: ['y green s', 'y green c'] []\n",
      "7b6016b9 w=1 c=0: ['d green, '] []\n",
      "009d5c81 w=1 c=0: ['o green'] []\n",
      "00dbd492 w=1 c=0: ['n green'] []\n",
      "yellow:\n",
      "36fdfd69 w=0 c=1: [] [', YELLOW, ']\n",
      "ea32f347 w=1 c=2: ['n yellow'] ['d,yellow a', 'D,YELLOW,B']\n",
      "642d658d w=2 c=1: ['t yellow)', 'a yellow c'] [', YELLOW)']\n",
      "7bb29440 w=1 c=0: ['n yellow o'] []\n",
      "54d82841 w=0 c=1: [] [', YELLOW)']\n",
      "9f5f939b w=1 c=1: ['d yellow. '] ['t,YELLOW,c']\n",
      "00d62c1b w=1 c=0: ['h yellow c'] []\n",
      "00dbd492 w=1 c=0: ['n yellow'] []\n",
      "gray:\n",
      "97999447 w=0 c=1: [] ['c,GRAY])']\n",
      "5614dbcf w=2 c=0: ['n gray.', 'e gray c'] []\n",
      "ce039d91 w=2 c=0: ['m gray c', 's gray a'] []\n",
      "ea32f347 w=1 c=3: ['e gray b'] ['d gray o', ', GRAY))', 'r gray o']\n",
      "bf699163 w=1 c=2: ['n gray b'] [', GRAY)', 'E,GRAY})']\n",
      "magenta:\n",
      "ca-10-04 w=1 c=5: ['n magenta.'] ['e magenta c', '= MAGENTA:', 'f magenta, ', 'e magenta c', 'e magenta c']\n",
      "7bb29440 w=1 c=0: ['r magenta'] []\n",
      "orange:\n",
      "fd02da9e w=0 c=4: [] [', ORANGE)', ', ORANGE)', ', ORANGE)', ', ORANGE)']\n",
      "bf699163 w=2 c=4: ['n orange d', 'e orange d'] [', ORANGE)', 'e orange', ', ORANGE)', ' {ORANGE,G']\n",
      "ca-09-01 w=1 c=1: ['d orange'] ['e ORANGE']\n",
      "009d5c81 w=1 c=0: ['o orange'] []\n",
      "cyan:\n",
      "9f5f939b w=1 c=0: ['n cyan b'] []\n",
      "6f8cd79b w=0 c=1: [] [', CYAN, ']\n",
      "58743b76 w=1 c=0: ['a cyan b'] []\n",
      "009d5c81 w=1 c=0: ['e cyan o'] []\n",
      "00dbd492 w=1 c=0: ['n cyan'] []\n",
      "ad3b40cf w=1 c=0: ['n cyan b'] []\n",
      "brown:\n",
      "f9d67f8b w=2 c=2: ['y brown p', 'e brown p'] [', BROWN)', ', BROWN)']\n"
     ]
    }
   ],
   "source": [
    "import re\n",
    "for c in types.Color:\n",
    "    print(f\"{c.name.lower()}:\")\n",
    "    rex = re.compile(r\".{0,2}\\b(\"+re.escape(c.name.lower())+r\")\\b.{0,2}\",re.I)\n",
    "    for ckey, sol in solutions.solutions.items():\n",
    "        words = [m.group(0) for m in rex.finditer(sol.explanation)]\n",
    "        code = [m.group(0) for m in rex.finditer(sol.rule)]\n",
    "        if not (words or code):\n",
    "            continue\n",
    "        print(f\"{ckey} w={len(words)} c={len(code)}: {words} {code}\")"
   ]
  },
  {
   "cell_type": "code",
   "execution_count": 20,
   "id": "c8829721-138a-4a76-8a59-a019df01974d",
   "metadata": {},
   "outputs": [
    {
     "data": {
      "text/plain": [
       "\u001b[31mSignature:\u001b[39m all_colors_rex.subn(repl, string, count=\u001b[32m0\u001b[39m)\n",
       "\u001b[31mDocstring:\u001b[39m Return the tuple (new_string, number_of_subs_made) found by replacing the leftmost non-overlapping occurrences of pattern with the replacement repl.\n",
       "\u001b[31mType:\u001b[39m      builtin_method"
      ]
     },
     "metadata": {},
     "output_type": "display_data"
    }
   ],
   "source": [
    "all_colors_rex.subn?"
   ]
  },
  {
   "cell_type": "code",
   "execution_count": 33,
   "id": "c2fb722d-b961-4986-a76d-be8297d9969d",
   "metadata": {},
   "outputs": [
    {
     "name": "stdout",
     "output_type": "stream",
     "text": [
      "{<Color.BLACK: '#000000'>: <Color.ORANGE: '#FF851B'>, <Color.BLUE: '#0074D9'>: <Color.GREEN: '#2ECC40'>, <Color.RED: '#FF4136'>: <Color.RED: '#FF4136'>, <Color.GREEN: '#2ECC40'>: <Color.CYAN: '#7FDBFF'>, <Color.YELLOW: '#FFDC00'>: <Color.GRAY: '#AAAAAA'>, <Color.GRAY: '#AAAAAA'>: <Color.MAGENTA: '#F012BE'>, <Color.MAGENTA: '#F012BE'>: <Color.BROWN: '#870C25'>, <Color.ORANGE: '#FF851B'>: <Color.YELLOW: '#FFDC00'>, <Color.CYAN: '#7FDBFF'>: <Color.BLACK: '#000000'>, <Color.BROWN: '#870C25'>: <Color.BLUE: '#0074D9'>}\n"
     ]
    },
    {
     "data": {
      "text/markdown": [
       "**Hypothesis:**\n",
       "- Orange background.\n",
       "- One horizontal and one vertical colored dotted line.\n",
       "- Impossible to say which of the two is painted over the other.\n",
       "\n",
       "**Rule:**\n",
       "- Start either from the input, or a fully orange canvas of the same shape.\n",
       "- First, paint a solid vertical line at the position and in the color of the dotted vertical line in the input.\n",
       "- Second, paint a solid horizontal line at the position and in the color of the dotted horizontal line in the input.\n",
       "\n",
       "**Plan:**\n",
       "- There are no distractions, so we can determine the line positions simply from the count of foreground cells.\n"
      ],
      "text/plain": [
       "<IPython.core.display.Markdown object>"
      ]
     },
     "metadata": {},
     "output_type": "display_data"
    },
    {
     "data": {
      "text/markdown": [
       "```python\n",
       "def solution(input: Canvas) -> Canvas:\n",
       "    output = input\n",
       "    h,w = input.shape\n",
       "    # identify foreground cells\n",
       "    fg_mask = ~mask_color(input, ORANGE)\n",
       "    # paint all columns with more than one foreground cell\n",
       "    # (there will be just one)\n",
       "    for col in range(w):\n",
       "        col_mask = mask_col(input, col)\n",
       "        mask = col_mask & fg_mask\n",
       "        if mask.count()>1:\n",
       "            c, = most_common_colors(apply_mask(input, mask))\n",
       "            output = fill(output, c, clip=col_mask)\n",
       "    # same for the row\n",
       "    for row in range(h):\n",
       "        row_mask = mask_row(input, row)\n",
       "        mask = row_mask & fg_mask\n",
       "        if mask.count()>1:\n",
       "            c, = most_common_colors(apply_mask(input, mask))\n",
       "            output = fill(output, c, clip=row_mask)\n",
       "    return output\n",
       "```"
      ],
      "text/plain": [
       "<IPython.core.display.Markdown object>"
      ]
     },
     "metadata": {},
     "output_type": "display_data"
    },
    {
     "data": {
      "image/png": "[encoded data removed]",
      "text/plain": [
       "<Figure size 1200x400 with 12 Axes>"
      ]
     },
     "metadata": {},
     "output_type": "display_data"
    }
   ],
   "source": [
    "import dataclasses\n",
    "import random\n",
    "\n",
    "\n",
    "all_colors_rex = re.compile(r\"\\b(\"+\"|\".join(re.escape(c.name.lower()) for c in types.Color)+r\")\\b\",re.I)\n",
    "def permute_colors(arg, mapping: dict[types.Color, types.Color]) -> dataset.Challenge:\n",
    "    imap = np.array([types._color2index[mapping.get(c,c)] for c in types.Color])\n",
    "    smap = {\n",
    "        style(c.name):style(mapping.get(c,c).name)\n",
    "        for c in types.Color\n",
    "        for style in [str.title, str.lower, str.upper]\n",
    "    }\n",
    "    assert (np.unique(imap) == np.r_[:10]).all()\n",
    "    def apply(obj, strs=None, path=()):\n",
    "        match obj:\n",
    "            case dataset.Challenge():\n",
    "                assert strs is None\n",
    "                return attrs.evolve(obj, **apply(attrs.asdict(obj, recurse=False), False, path))\n",
    "            case dataset.Solution():\n",
    "                assert strs is None\n",
    "                return attrs.evolve(obj, **apply(attrs.asdict(obj, recurse=False), True, path))                \n",
    "            case prompts.ReasonedSolution():\n",
    "                assert strs is None\n",
    "                return attrs.evolve(obj, **apply(attrs.asdict(obj, recurse=False), True, path))                \n",
    "            case types.Image() | types.MaskedImage():\n",
    "                return dataclasses.replace(obj, _data=imap[obj._data])\n",
    "            case _ if dataclasses.is_dataclass(obj):\n",
    "                return dataclasses.replace(obj, **{f.name:apply(getattr(obj,f.name),strs,path+(f.name,)) for f in dataclasses.fields(obj)})\n",
    "            case _ if attrs.has(obj):\n",
    "                return attrs.evolve(obj, **apply(attrs.asdict(obj, recurse=False), strs, path))\n",
    "            case str():\n",
    "                if strs:\n",
    "                    return all_colors_rex.sub(\n",
    "                        lambda m: smap.get(m.group(1)),\n",
    "                        obj,\n",
    "                    )\n",
    "                return obj\n",
    "            case None | int() | types.SymOp():\n",
    "                return obj\n",
    "            case list() | tuple():\n",
    "                return type(obj)(apply(v,strs,path+(f\"[{i}]\",)) for i,v in enumerate(obj))\n",
    "            case dict():\n",
    "                return {k:apply(v,strs,path+(k,)) for k,v in obj.items()}\n",
    "            case _:\n",
    "                raise TypeError(f\"Unknown object of type {type(obj).__name__} at {'.'.join(path)}\")\n",
    "    return apply(arg)\n",
    "\n",
    "\n",
    "rgen = random.Random(42)\n",
    "colors = list(types.Color)\n",
    "rgen.shuffle(colors)\n",
    "mapping = dict(zip(types.Color,colors))\n",
    "print(mapping)\n",
    "\n",
    "cpchal = permute_colors(chal,mapping)\n",
    "cpsol = permute_colors(sol,mapping)\n",
    "cpresp = prompts.parse_explanation(cpsol)\n",
    "display.display(display.Markdown(cpsol.explanation))\n",
    "display.display(display.Markdown(f\"```python\\n{cpresp.rule_impl}\\n```\"))\n",
    "tools.show_test_case(\n",
    "    cpchal.train + cpchal.test,\n",
    "    orientation = \"h\",\n",
    ")\n",
    "assert cpresp == permute_colors(resp, mapping)\n"
   ]
  },
  {
   "cell_type": "code",
   "execution_count": null,
   "id": "1ece652c-bf8a-4683-a62f-9c9972fefdf9",
   "metadata": {},
   "outputs": [],
   "source": []
  }
 ],
 "metadata": {
  "kernelspec": {
   "display_name": "Python 3 (ipykernel)",
   "language": "python",
   "name": "python3"
  },
  "language_info": {
   "codemirror_mode": {
    "name": "ipython",
    "version": 3
   },
   "file_extension": ".py",
   "mimetype": "text/x-python",
   "name": "python",
   "nbconvert_exporter": "python",
   "pygments_lexer": "ipython3",
   "version": "3.13.7"
  }
 },
 "nbformat": 4,
 "nbformat_minor": 5
}
