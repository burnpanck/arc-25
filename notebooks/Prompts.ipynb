{
 "cells": [
  {
   "cell_type": "code",
   "execution_count": 1,
   "id": "ec8d1288-ff44-4037-a5c0-386aef7a58d4",
   "metadata": {},
   "outputs": [],
   "source": [
    "import enum\n",
    "import typing\n",
    "import abc\n",
    "import itertools\n",
    "import dataclasses\n",
    "from pathlib import Path\n",
    "from types import SimpleNamespace\n",
    "\n",
    "import attrs\n",
    "import numpy as np\n",
    "from IPython import display\n",
    "\n",
    "from arc25.dsl import types, primitives\n",
    "from arc25.dsl import api as dsl\n",
    "from arc25 import tools, dataset, sandbox, symmetry, prompts"
   ]
  },
  {
   "cell_type": "code",
   "execution_count": 2,
   "id": "d6c36b58-d5f8-441d-bccd-ba13522192e9",
   "metadata": {},
   "outputs": [],
   "source": [
    "proj_root = Path(\"..\").resolve()\n",
    "data_path = proj_root / \"data\"\n",
    "db_root = data_path / \"solutions\"\n"
   ]
  },
  {
   "cell_type": "code",
   "execution_count": 3,
   "id": "b4ff00b7-6bb7-4758-9e7a-2c08111d0b7c",
   "metadata": {},
   "outputs": [
    {
     "data": {
      "text/plain": [
       "(1307,\n",
       " ['all',\n",
       "  'arc-agi-1',\n",
       "  'arc-agi-1.evaluation',\n",
       "  'arc-agi-1.training',\n",
       "  'arc-agi-2',\n",
       "  'arc-agi-2.evaluation',\n",
       "  'arc-agi-2.training',\n",
       "  'concept-arc',\n",
       "  'harc',\n",
       "  'harc.evaluation',\n",
       "  'harc.training',\n",
       "  'larc'])"
      ]
     },
     "execution_count": 3,
     "metadata": {},
     "output_type": "execute_result"
    }
   ],
   "source": [
    "ds = await dataset.Dataset.from_binary(data_path / \"all-challenges.cbor.xz\")\n",
    "len(ds.challenges), sorted(ds.subsets)"
   ]
  },
  {
   "cell_type": "code",
   "execution_count": 4,
   "id": "a4e7d68c-4b60-4e60-b77c-ddfbbcec8cdf",
   "metadata": {},
   "outputs": [
    {
     "name": "stdout",
     "output_type": "stream",
     "text": [
      "46 37\n",
      "['00576224', '36fdfd69', '3af2c5a8', '4612dd53', '46442a0e', '54d82841', '5614dbcf', '642d658d', '6e19193c', '6f8cd79b', '72322fa7', '7bb29440', '8eb1be9a', '97999447', '9841fdad', '9f5f939b', 'a740d043', 'bf699163', 'ca-00-01', 'ca-00-10', 'ca-03-02', 'ca-03-04', 'ca-05-03', 'ca-08-01', 'ca-09-01', 'ca-10-04', 'ca-12-02', 'ca-14-05', 'ca-14-06', 'ca-15-10', 'cbded52d', 'ce039d91', 'd931c21c', 'e1d2900e', 'ea32f347', 'f9d67f8b', 'fd02da9e']\n"
     ]
    }
   ],
   "source": [
    "solutions = await dataset.SolutionDB.load(db_root)\n",
    "sol_with_code = sorted(k for k,v in solutions.solutions.items() if v.rule)\n",
    "print(len(solutions.solutions), len(sol_with_code))\n",
    "print(sol_with_code)"
   ]
  },
  {
   "cell_type": "code",
   "execution_count": 5,
   "id": "8b04dbcb-a714-4037-a779-f5638c569fea",
   "metadata": {},
   "outputs": [
    {
     "data": {
      "text/markdown": [
       "## Description\n",
       "### Hypothesis\n",
       "- <span style=\"background-color:rgba(0,0,0,0.15)\">Black</span> background.\n",
       "- One horizontal and one vertical colored dotted line.\n",
       "- Impossible to say which of the two is painted over the other.\n",
       "\n",
       "## Rule\n",
       "- Start either from the input, or a fully <span style=\"background-color:rgba(0,0,0,0.15)\">black</span> canvas of the same shape.\n",
       "- First, paint a solid vertical line at the position and in the color of the dotted vertical line in the input.\n",
       "- Second, paint a solid horizontal line at the position and in the color of the dotted horizontal line in the input.\n",
       "## Plan\n",
       "- There are no distractions, so we can determine the line positions simply from the count of foreground cells.\n",
       "\n",
       "```python\n",
       "def solution(input: Image) -> AnyImage:\n",
       "    output = input\n",
       "    h,w = input.shape\n",
       "    # identify foreground cells\n",
       "    fg_mask = ~mask_color(input, BLACK)\n",
       "    # paint all columns with more than one foreground cell\n",
       "    # (there will be just one)\n",
       "    for col in range(w):\n",
       "        col_mask = mask_col(input, col)\n",
       "        mask = col_mask & fg_mask\n",
       "        if mask.count()>1:\n",
       "            c, = most_common_colors(apply_mask(input, mask))\n",
       "            output = fill(output, c, clip=col_mask)\n",
       "    # same for the row\n",
       "    for row in range(h):\n",
       "        row_mask = mask_row(input, row)\n",
       "        mask = row_mask & fg_mask\n",
       "        if mask.count()>1:\n",
       "            c, = most_common_colors(apply_mask(input, mask))\n",
       "            output = fill(output, c, clip=row_mask)\n",
       "    return output\n",
       "```"
      ],
      "text/plain": [
       "<IPython.core.display.Markdown object>"
      ]
     },
     "metadata": {},
     "output_type": "display_data"
    }
   ],
   "source": [
    "ckey = \"ca-03-02\"\n",
    "chal = ds.challenges[ckey]\n",
    "sol = solutions.solutions[ckey]\n",
    "resp = prompts.parse_explanation(sol)\n",
    "display.display(display.Markdown(tools.solution_to_markdown(resp)))\n"
   ]
  },
  {
   "cell_type": "code",
   "execution_count": 25,
   "id": "36537cde-c163-4110-aad7-f0ed58827df0",
   "metadata": {},
   "outputs": [
    {
     "name": "stdout",
     "output_type": "stream",
     "text": [
      "<descr>hypothesis\n",
      "- Black background.\n",
      "- One horizontal and one vertical colored dotted line.\n",
      "- Impossible to say which of the two is painted over the other.\n",
      "</descr>\n",
      "<rule>\n",
      "- Start either from the input, or a fully black canvas of the same shape.\n",
      "- First, paint a solid vertical line at the position and in the color of the dotted vertical line in the input.\n",
      "- Second, paint a solid horizontal line at the position and in the color of the dotted horizontal line in the input.\n",
      "</rule>\n",
      "<plan>\n",
      "- There are no distractions, so we can determine the line positions simply from the count of foreground cells.\n",
      "</plan>\n",
      "<impl>```python\n",
      "def solution(input: Canvas) -> Canvas:\n",
      "    output = input\n",
      "    h,w = input.shape\n",
      "    # identify foreground cells\n",
      "    fg_mask = ~mask_color(input, BLACK)\n",
      "    # paint all columns with more than one foreground cell\n",
      "    # (there will be just one)\n",
      "    for col in range(w):\n",
      "        col_mask = mask_col(input, col)\n",
      "        mask = col_mask & fg_mask\n",
      "        if mask.count()>1:\n",
      "            c, = most_common_colors(apply_mask(input, mask))\n",
      "            output = fill(output, c, clip=col_mask)\n",
      "    # same for the row\n",
      "    for row in range(h):\n",
      "        row_mask = mask_row(input, row)\n",
      "        mask = row_mask & fg_mask\n",
      "        if mask.count()>1:\n",
      "            c, = most_common_colors(apply_mask(input, mask))\n",
      "            output = fill(output, c, clip=row_mask)\n",
      "    return output\n",
      "```</impl>\n"
     ]
    }
   ],
   "source": [
    "enc = prompts.PromptEncoder()\n",
    "\n",
    "print(enc.encode_response(resp))"
   ]
  },
  {
   "cell_type": "code",
   "execution_count": 8,
   "id": "78ac5975-b4cd-4491-9c00-579fb60e2b72",
   "metadata": {},
   "outputs": [
    {
     "name": "stdout",
     "output_type": "stream",
     "text": [
      "<descr>inputs\n",
      "...\n",
      "</descr>\n",
      "<descr>hypothesis\n",
      "...\n",
      "</descr>\n",
      "<rule>\n",
      "...\n",
      "</rule>\n",
      "<plan>\n",
      "...\n",
      "</plan>\n",
      "<impl>```python\n",
      "def solution(input: Canvas) -> Canvas:\n",
      "    # TODO: implement rule\n",
      "    return output\n",
      "```</impl>\n"
     ]
    }
   ],
   "source": [
    "print(enc.encode_response(prompts.ReasonedSolution(\n",
    "    descr=dict(inputs=\"...\",hypothesis=\"...\"),\n",
    "    rule_descr=\"...\",\n",
    "    impl_plan_descr=\"...\",\n",
    "    rule_impl=\"\"\"\n",
    "def solution(input: Canvas) -> Canvas:\n",
    "    # TODO: implement rule\n",
    "    return output\n",
    "    \"\"\"\n",
    ")))"
   ]
  },
  {
   "cell_type": "code",
   "execution_count": null,
   "id": "1ece652c-bf8a-4683-a62f-9c9972fefdf9",
   "metadata": {},
   "outputs": [],
   "source": []
  }
 ],
 "metadata": {
  "kernelspec": {
   "display_name": "Python 3 (ipykernel)",
   "language": "python",
   "name": "python3"
  },
  "language_info": {
   "codemirror_mode": {
    "name": "ipython",
    "version": 3
   },
   "file_extension": ".py",
   "mimetype": "text/x-python",
   "name": "python",
   "nbconvert_exporter": "python",
   "pygments_lexer": "ipython3",
   "version": "3.13.7"
  }
 },
 "nbformat": 4,
 "nbformat_minor": 5
}
