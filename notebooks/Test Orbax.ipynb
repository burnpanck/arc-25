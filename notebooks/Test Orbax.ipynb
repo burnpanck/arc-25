{
 "cells": [
  {
   "cell_type": "code",
   "execution_count": 3,
   "id": "2b31eec4-734e-4f58-b956-aa61bd69317b",
   "metadata": {},
   "outputs": [
    {
     "name": "stdout",
     "output_type": "stream",
     "text": [
      "0.7.2\n",
      "0.12.0\n",
      "0.11.25\n"
     ]
    }
   ],
   "source": [
    "import jax\n",
    "import flax\n",
    "from flax import nnx\n",
    "import orbax.checkpoint as ocp\n",
    "import pandas as pd\n",
    "import matplotlib.pyplot as plt\n",
    "\n",
    "print(jax.__version__)\n",
    "print(flax.__version__)\n",
    "print(ocp.__version__)\n",
    "\n",
    "path = ocp.test_utils.erase_and_create_empty(\"/tmp/repro-crash-model/\")\n",
    "options = ocp.CheckpointManagerOptions(max_to_keep=2)\n",
    "mngr = ocp.CheckpointManager(path, options=options)\n",
    "\n",
    "\n",
    "def save_model(epoch, model):\n",
    "    state = nnx.state(model)\n",
    "    mngr.save(epoch, args=ocp.args.StandardSave(state))\n",
    "    mngr.wait_until_finished()\n",
    "\n",
    "class TestModel(nnx.Module):\n",
    "    def __init__(self, n1, n2, n3, *, rngs = nnx.Rngs(0)):\n",
    "        self.m1 = nnx.Linear(n1, n2, rngs=rngs)\n",
    "        self.dropout = nnx.Dropout(0.1, rngs=rngs)\n",
    "        self.m1 = nnx.Linear(n2, n3, rngs=rngs)\n",
    "\n",
    "    def __call__(self, x):\n",
    "        x = self.m1(x)\n",
    "        x = self.dropout(x)\n",
    "        x = self.m2(x)\n",
    "        return x\n",
    "\n",
    "model = TestModel(2,3,4)\n",
    "\n",
    "save_model(0, model)"
   ]
  },
  {
   "cell_type": "code",
   "execution_count": 5,
   "id": "60bb7fcf-b4b5-4f4f-bd82-67487d5fcd4e",
   "metadata": {},
   "outputs": [],
   "source": [
    "state = nnx.pure(nnx.state(model, nnx.Param))"
   ]
  },
  {
   "cell_type": "code",
   "execution_count": 11,
   "id": "f085585e-c9ef-4cd4-9349-103db8776f9a",
   "metadata": {},
   "outputs": [
    {
     "data": {
      "text/plain": [
       "{('m1', 'bias'): Array([0., 0., 0., 0.], dtype=float32),\n",
       " ('m1',\n",
       "  'kernel'): Array([[-0.3872593 ,  0.3890168 ,  0.98396   , -0.5007451 ],\n",
       "        [-1.2219061 ,  0.5536564 ,  0.87500995, -0.37101308],\n",
       "        [ 0.7365868 ,  0.881758  , -1.0125103 , -0.2935628 ]],      dtype=float32)}"
      ]
     },
     "execution_count": 11,
     "metadata": {},
     "output_type": "execute_result"
    }
   ],
   "source": [
    "dict(nnx.flatten(state)[1])"
   ]
  },
  {
   "cell_type": "code",
   "execution_count": null,
   "id": "9cb091b6-2b0d-4646-87f7-8bfe44f7889c",
   "metadata": {},
   "outputs": [],
   "source": []
  }
 ],
 "metadata": {
  "kernelspec": {
   "display_name": "Python 3 (ipykernel)",
   "language": "python",
   "name": "python3"
  },
  "language_info": {
   "codemirror_mode": {
    "name": "ipython",
    "version": 3
   },
   "file_extension": ".py",
   "mimetype": "text/x-python",
   "name": "python",
   "nbconvert_exporter": "python",
   "pygments_lexer": "ipython3",
   "version": "3.13.7"
  }
 },
 "nbformat": 4,
 "nbformat_minor": 5
}
