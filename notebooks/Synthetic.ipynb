{
 "cells": [
  {
   "cell_type": "code",
   "execution_count": 1,
   "id": "ec8d1288-ff44-4037-a5c0-386aef7a58d4",
   "metadata": {},
   "outputs": [],
   "source": [
    "import enum\n",
    "import typing\n",
    "import abc\n",
    "import itertools\n",
    "import dataclasses\n",
    "import random\n",
    "from pathlib import Path\n",
    "from types import SimpleNamespace\n",
    "\n",
    "import attrs\n",
    "import numpy as np\n",
    "from IPython import display\n",
    "import ipywidgets\n",
    "import matplotlib.pyplot as plt\n",
    "\n",
    "from arc25.dsl import types, primitives\n",
    "from arc25.dsl import api as dsl\n",
    "from arc25 import tools, dataset, sandbox, symmetry, prompts\n",
    "import arc25.synth.tiny as tiny_synth"
   ]
  },
  {
   "cell_type": "code",
   "execution_count": 2,
   "id": "d6c36b58-d5f8-441d-bccd-ba13522192e9",
   "metadata": {},
   "outputs": [],
   "source": [
    "proj_root = Path(\"..\").resolve()\n",
    "data_path = proj_root / \"data\"\n",
    "db_root = data_path / \"solutions\"\n"
   ]
  },
  {
   "cell_type": "code",
   "execution_count": 3,
   "id": "2349d763-348b-42b7-9096-aa6a0386a491",
   "metadata": {},
   "outputs": [],
   "source": [
    "rgen = random.Random(42)"
   ]
  },
  {
   "cell_type": "code",
   "execution_count": 4,
   "id": "04939160-2ff5-4237-a36e-b97badf0d330",
   "metadata": {},
   "outputs": [
    {
     "data": {
      "text/markdown": [
       "## Rule\n",
       "- Identify the most common color among all cells\n",
       "- Create a single-cell output of that color\n",
       "\n",
       "```python\n",
       "def solution(input: Image) -> AnyImage:\n",
       "    c, = most_common_colors(input)\n",
       "    output = make_canvas((1,1),fill=c)\n",
       "    return output\n",
       "```"
      ],
      "text/plain": [
       "<IPython.core.display.Markdown object>"
      ]
     },
     "metadata": {},
     "output_type": "display_data"
    },
    {
     "data": {
      "application/vnd.jupyter.widget-view+json": {
       "model_id": "a8866a26d4b348d0b12897088fb09716",
       "version_major": 2,
       "version_minor": 0
      },
      "text/plain": [
       "HBox(children=(Output(layout=Layout(border_bottom='1px solid black', border_left='1px solid black', border_rig…"
      ]
     },
     "metadata": {},
     "output_type": "display_data"
    }
   ],
   "source": [
    "spec = tiny_synth.tiny_spec\n",
    "gen = tiny_synth.MostCommonColor.make_variation(spec,0)\n",
    "display.display(display.Markdown(tools.solution_to_markdown(gen.rules[0])))\n",
    "\n",
    "figs = []\n",
    "for ex in gen.sample_challenge(rgen,k=5):\n",
    "    chal = ex.challenge\n",
    "    with (out := ipywidgets.Output(layout={'border': '1px solid black'})):\n",
    "        fig = plt.figure(constrained_layout=True)\n",
    "        tools.show_test_case(\n",
    "            chal.train+chal.test,\n",
    "            n_train=len(chal.train),\n",
    "            orientation=\"v\",\n",
    "            fig=fig,\n",
    "            width=2,\n",
    "        )\n",
    "        plt.show(fig)\n",
    "    figs.append(out)\n",
    "display.display(ipywidgets.HBox(figs,layout=ipywidgets.Layout(flex_flow=\"row wrap\")))"
   ]
  },
  {
   "cell_type": "code",
   "execution_count": null,
   "id": "1ece652c-bf8a-4683-a62f-9c9972fefdf9",
   "metadata": {},
   "outputs": [],
   "source": []
  }
 ],
 "metadata": {
  "kernelspec": {
   "display_name": "Python 3 (ipykernel)",
   "language": "python",
   "name": "python3"
  },
  "language_info": {
   "codemirror_mode": {
    "name": "ipython",
    "version": 3
   },
   "file_extension": ".py",
   "mimetype": "text/x-python",
   "name": "python",
   "nbconvert_exporter": "python",
   "pygments_lexer": "ipython3",
   "version": "3.13.7"
  }
 },
 "nbformat": 4,
 "nbformat_minor": 5
}
