{
 "cells": [
  {
   "cell_type": "code",
   "execution_count": 1,
   "id": "e92cc294-fc57-4ca6-a250-317eeeba70b3",
   "metadata": {},
   "outputs": [],
   "source": [
    "import typing\n",
    "from types import MappingProxyType, SimpleNamespace\n",
    "\n",
    "import attrs\n",
    "import jax\n",
    "import jax.numpy as jnp\n",
    "from flax import nnx\n",
    "import optax\n",
    "import jaxtyping as jt\n",
    "import numpy as np\n",
    "\n",
    "from arc25.symmetry import SymOp, transform_vector\n",
    "from arc25.dsl.types import Vector, Dir4\n",
    "from arc25.vision.symrep import SymRep, SymDecomp, SymDecompDims, standard_rep\n",
    "from arc25.vision.linear import SymmetricLinear\n",
    "from arc25.vision.rope import QKV, attention_RoPE_with_global\n",
    "from arc25.vision.fields import Field, FieldDims\n",
    "from arc25.vision.attention import FieldAttention\n",
    "from arc25.vision.classification import ARCClassifier"
   ]
  },
  {
   "cell_type": "code",
   "execution_count": 2,
   "id": "5fa69796-c82d-4bd5-a42d-2b70936eacd2",
   "metadata": {},
   "outputs": [
    {
     "data": {
      "text/plain": [
       "FieldDims(context=SymDecompDims(inv=128, equiv=64, rep=SymRep(opseq=(e,x,y,i,t,l,r,d))), rows=SymDecompDims(inv=64, equiv=32, rep=SymRep(opseq=(t,l,r,d))), cols=SymDecompDims(inv=64, equiv=32, rep=SymRep(opseq=(e,x,y,i))), cells=SymDecompDims(inv=32, equiv=16, rep=SymRep(opseq=(e,x,y,i,t,l,r,d))), flavours=None, shape=None)"
      ]
     },
     "execution_count": 2,
     "metadata": {},
     "output_type": "execute_result"
    }
   ],
   "source": [
    "dims = FieldDims.make(\n",
    "    inv_fac = 2,\n",
    "    context = 64,\n",
    "    hdrs = 32,\n",
    "    cells = 16,\n",
    "#        flavours = 10,\n",
    "#        shape = (7,9),\n",
    ")\n",
    "dims"
   ]
  },
  {
   "cell_type": "code",
   "execution_count": 3,
   "id": "13d2f27a-93a0-498d-897b-ca286aac96c5",
   "metadata": {},
   "outputs": [],
   "source": [
    "cls = ARCClassifier(\n",
    "    hidden_size = dims,\n",
    "    mha_features = 128,\n",
    "    mlp_width_factor = 4,\n",
    "    num_heads = 4,\n",
    ")"
   ]
  },
  {
   "cell_type": "code",
   "execution_count": 4,
   "id": "bee7cc19-6e38-4c17-8c4b-7d7966f0bf4b",
   "metadata": {},
   "outputs": [
    {
     "name": "stdout",
     "output_type": "stream",
     "text": [
      "x.shape=(3, 7, 9, 1) sY.shape=(3, 1) sX.shape=(3, 1) xpos.shape=(3, 9, 2) rmsk.shape=(3, 7) mask.shape=(3, 7, 9)\n",
      "batch=(3,) context.shape=(3, 11, 2) cells.shape=(3, 7, 9, 11, 2)\n"
     ]
    },
    {
     "data": {
      "text/plain": [
       "(3, 1000)"
      ]
     },
     "execution_count": 4,
     "metadata": {},
     "output_type": "execute_result"
    }
   ],
   "source": [
    "logits = cls(np.random.randint(0,10,(3,7,9)),np.array([(5,5),(7,9),(4,8)]))\n",
    "logits.shape"
   ]
  },
  {
   "cell_type": "code",
   "execution_count": null,
   "id": "88c231a9-b644-4e2c-8b58-0390f28bb7c1",
   "metadata": {},
   "outputs": [],
   "source": []
  }
 ],
 "metadata": {
  "kernelspec": {
   "display_name": "Python 3 (ipykernel)",
   "language": "python",
   "name": "python3"
  },
  "language_info": {
   "codemirror_mode": {
    "name": "ipython",
    "version": 3
   },
   "file_extension": ".py",
   "mimetype": "text/x-python",
   "name": "python",
   "nbconvert_exporter": "python",
   "pygments_lexer": "ipython3",
   "version": "3.13.7"
  }
 },
 "nbformat": 4,
 "nbformat_minor": 5
}
