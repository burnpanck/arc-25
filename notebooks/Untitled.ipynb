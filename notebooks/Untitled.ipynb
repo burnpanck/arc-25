{
 "cells": [
  {
   "cell_type": "code",
   "execution_count": 15,
   "id": "6ee69f0d-7d82-4e20-af16-ec5052013a15",
   "metadata": {},
   "outputs": [],
   "source": [
    "from pathlib import Path\n",
    "\n",
    "import numpy as np\n",
    "\n",
    "from arc25.dataset import Dataset"
   ]
  },
  {
   "cell_type": "code",
   "execution_count": 2,
   "id": "37284a09-443f-485a-a794-b50d8b83fcef",
   "metadata": {},
   "outputs": [],
   "source": [
    "proj_root = Path(\"..\").resolve()\n",
    "data_root = proj_root / \"data\""
   ]
  },
  {
   "cell_type": "code",
   "execution_count": 5,
   "id": "4bbf64f7-671a-40cd-a2e4-a0db869710ca",
   "metadata": {},
   "outputs": [],
   "source": [
    "all_ds = await Dataset.from_binary(data_root/\"repack/all-challenges.cbor.xz\")"
   ]
  },
  {
   "cell_type": "code",
   "execution_count": 17,
   "id": "c176b399-9a35-439d-8b0a-41b27f0f1b2c",
   "metadata": {},
   "outputs": [
    {
     "name": "stdout",
     "output_type": "stream",
     "text": [
      "concept-arc         :  119/ 160 have equal shape\n",
      "arc-agi-1.evaluation:  270/ 400 have equal shape\n",
      "arc-agi-1.training  :  262/ 400 have equal shape\n",
      "arc-agi-2.evaluation:   81/ 120 have equal shape\n",
      "arc-agi-2.training  :  680/1000 have equal shape\n",
      "larc                :  262/ 400 have equal shape\n",
      "harc.evaluation     :  270/ 400 have equal shape\n",
      "harc.training       :  262/ 400 have equal shape\n",
      "arc-agi-1           :  532/ 800 have equal shape\n",
      "arc-agi-2           :  761/1120 have equal shape\n",
      "harc                :  532/ 800 have equal shape\n",
      "all                 :  902/1307 have equal shape\n"
     ]
    }
   ],
   "source": [
    "all_ds.subsets\n",
    "for subset,chals in all_ds.subsets.items():\n",
    "    equal_shape = []\n",
    "    for c in chals:\n",
    "        c = all_ds.challenges[c]\n",
    "        all_equal = all(iop.input.shape == iop.output.shape for iop in c.train)\n",
    "        equal_shape.append(all_equal)\n",
    "    print(f\"{subset:20s}: {int(np.sum(equal_shape)):4d}/{len(equal_shape):4d} have equal shape\")\n",
    "        "
   ]
  },
  {
   "cell_type": "code",
   "execution_count": null,
   "id": "6c2fee59-c015-4c03-af4e-8c75c916642e",
   "metadata": {},
   "outputs": [],
   "source": []
  }
 ],
 "metadata": {
  "kernelspec": {
   "display_name": "Python 3 (ipykernel)",
   "language": "python",
   "name": "python3"
  },
  "language_info": {
   "codemirror_mode": {
    "name": "ipython",
    "version": 3
   },
   "file_extension": ".py",
   "mimetype": "text/x-python",
   "name": "python",
   "nbconvert_exporter": "python",
   "pygments_lexer": "ipython3",
   "version": "3.13.7"
  }
 },
 "nbformat": 4,
 "nbformat_minor": 5
}
